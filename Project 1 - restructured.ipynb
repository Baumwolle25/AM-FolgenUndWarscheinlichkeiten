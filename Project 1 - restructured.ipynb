{
 "cells": [
  {
   "cell_type": "markdown",
   "metadata": {},
   "source": [
    "# Project 1\n",
    "\n",
    "## 0. Table of contents\n",
    "0. Table of contents\n",
    "1. Introduction\n",
    "    1. Prime numbers\n",
    "        1. What are prime numbers\n",
    "        2. Prime numbers in nature\n",
    "        3. Prime numbers in information systems\n",
    "    2. Fibonacci numbers\n",
    "        1. What are Fibonacci numbers\n",
    "        2. Fibonacci numbers in nature\n",
    "        3. Fibonacci numbers in information systems\n",
    "2. Methods and approach\n",
    "    1. Exercise 1 - Prime numbers in systems\n",
    "    2. Exercise 2 - Prime number algorithm - simple optimization\n",
    "    3. Exercise 3 - Fibonacci in systems\n",
    "    4. Exercise 4 - Prime numbers and functions\n",
    "3. Results\n",
    "4. Discussion and application\n",
    "5. Summary and lookout\n",
    "6. Appendices\n",
    "\n",
    "## 1. Introduction\n",
    "### 1.A. Prime numbers\n",
    "#### 1.A.a. What are prime numbers?\n",
    "A prime number is a natural number greater than 1 that is not a product of two smaller natural numbers. Natural numbers greater than 1 that are not prime numbers are called composite numbers. In other words: a number n is a prime number if it is greater than 1 and may only be divided by 1 or itself without leaving a remainder. Christlieb von Clausberg: https://books.google.de/books?id=X-wVBuaPiPsC&pg=PA86#v=onepage&q&f=false\n",
    "\n",
    "Examples:\n",
    "- For prime numbers:\n",
    "     - 2\n",
    "     - 3\n",
    "     - 11\n",
    "- For composite numbers:\n",
    "     - 4, factors: 2,2\n",
    "     - 6, factors: 2,3\n",
    "     - 22, factors: 2,11\n",
    "\n",
    "Ther are infinitely many primes, but there is no known simple formula that allows us to predict and separate prime numbers from composite numbers. To determine whether a number is a prime number or not, we need to test each number by using a trial and error approach, that gets quite time expensive the larger the numbers get. Furthermore, the larger the numbers get, the scarcer the prime numbers are.\n",
    "\n",
    "#### 1.A.b. Prime numbers in nature"
   ]
  },
  {
   "cell_type": "code",
   "execution_count": 1,
   "metadata": {},
   "outputs": [
    {
     "output_type": "display_data",
     "data": {
      "text/plain": "<Figure size 1440x216 with 1 Axes>",
      "image/svg+xml": "<?xml version=\"1.0\" encoding=\"utf-8\" standalone=\"no\"?>\r\n<!DOCTYPE svg PUBLIC \"-//W3C//DTD SVG 1.1//EN\"\r\n  \"http://www.w3.org/Graphics/SVG/1.1/DTD/svg11.dtd\">\r\n<svg height=\"186.745398pt\" version=\"1.1\" viewBox=\"0 0 1130.4 186.745398\" width=\"1130.4pt\" xmlns=\"http://www.w3.org/2000/svg\" xmlns:xlink=\"http://www.w3.org/1999/xlink\">\r\n <metadata>\r\n  <rdf:RDF xmlns:cc=\"http://creativecommons.org/ns#\" xmlns:dc=\"http://purl.org/dc/elements/1.1/\" xmlns:rdf=\"http://www.w3.org/1999/02/22-rdf-syntax-ns#\">\r\n   <cc:Work>\r\n    <dc:type rdf:resource=\"http://purl.org/dc/dcmitype/StillImage\"/>\r\n    <dc:date>2021-04-24T14:42:14.238645</dc:date>\r\n    <dc:format>image/svg+xml</dc:format>\r\n    <dc:creator>\r\n     <cc:Agent>\r\n      <dc:title>Matplotlib v3.4.0, https://matplotlib.org/</dc:title>\r\n     </cc:Agent>\r\n    </dc:creator>\r\n   </cc:Work>\r\n  </rdf:RDF>\r\n </metadata>\r\n <defs>\r\n  <style type=\"text/css\">*{stroke-linecap:butt;stroke-linejoin:round;}</style>\r\n </defs>\r\n <g id=\"figure_1\">\r\n  <g id=\"patch_1\">\r\n   <path d=\"M 0 186.745398 \r\nL 1130.4 186.745398 \r\nL 1130.4 0 \r\nL 0 0 \r\nz\r\n\" style=\"fill:none;\"/>\r\n  </g>\r\n  <g id=\"axes_1\">\r\n   <g id=\"patch_2\">\r\n    <path d=\"M 7.2 170.28 \r\nL 1123.2 170.28 \r\nL 1123.2 7.2 \r\nL 7.2 7.2 \r\nz\r\n\" style=\"fill:#ffffff;\"/>\r\n   </g>\r\n   <g id=\"matplotlib.axis_1\">\r\n    <g id=\"xtick_1\">\r\n     <g id=\"line2d_1\">\r\n      <defs>\r\n       <path d=\"M 0 0 \r\nL 0 3.5 \r\n\" id=\"m18236729cf\" style=\"stroke:#000000;stroke-width:0.8;\"/>\r\n      </defs>\r\n      <g>\r\n       <use style=\"stroke:#000000;stroke-width:0.8;\" x=\"57.927273\" xlink:href=\"#m18236729cf\" y=\"162.867273\"/>\r\n      </g>\r\n     </g>\r\n     <g id=\"text_1\">\r\n      <!-- 0 -->\r\n      <g transform=\"translate(54.746023 177.46571)scale(0.1 -0.1)\">\r\n       <defs>\r\n        <path d=\"M 2034 4250 \r\nQ 1547 4250 1301 3770 \r\nQ 1056 3291 1056 2328 \r\nQ 1056 1369 1301 889 \r\nQ 1547 409 2034 409 \r\nQ 2525 409 2770 889 \r\nQ 3016 1369 3016 2328 \r\nQ 3016 3291 2770 3770 \r\nQ 2525 4250 2034 4250 \r\nz\r\nM 2034 4750 \r\nQ 2819 4750 3233 4129 \r\nQ 3647 3509 3647 2328 \r\nQ 3647 1150 3233 529 \r\nQ 2819 -91 2034 -91 \r\nQ 1250 -91 836 529 \r\nQ 422 1150 422 2328 \r\nQ 422 3509 836 4129 \r\nQ 1250 4750 2034 4750 \r\nz\r\n\" id=\"DejaVuSans-30\" transform=\"scale(0.015625)\"/>\r\n       </defs>\r\n       <use xlink:href=\"#DejaVuSans-30\"/>\r\n      </g>\r\n     </g>\r\n    </g>\r\n    <g id=\"xtick_2\">\r\n     <g id=\"line2d_2\">\r\n      <g>\r\n       <use style=\"stroke:#000000;stroke-width:0.8;\" x=\"264.977365\" xlink:href=\"#m18236729cf\" y=\"162.867273\"/>\r\n      </g>\r\n     </g>\r\n     <g id=\"text_2\">\r\n      <!-- 10 -->\r\n      <g transform=\"translate(258.614865 177.46571)scale(0.1 -0.1)\">\r\n       <defs>\r\n        <path d=\"M 794 531 \r\nL 1825 531 \r\nL 1825 4091 \r\nL 703 3866 \r\nL 703 4441 \r\nL 1819 4666 \r\nL 2450 4666 \r\nL 2450 531 \r\nL 3481 531 \r\nL 3481 0 \r\nL 794 0 \r\nL 794 531 \r\nz\r\n\" id=\"DejaVuSans-31\" transform=\"scale(0.015625)\"/>\r\n       </defs>\r\n       <use xlink:href=\"#DejaVuSans-31\"/>\r\n       <use x=\"63.623047\" xlink:href=\"#DejaVuSans-30\"/>\r\n      </g>\r\n     </g>\r\n    </g>\r\n    <g id=\"xtick_3\">\r\n     <g id=\"line2d_3\">\r\n      <g>\r\n       <use style=\"stroke:#000000;stroke-width:0.8;\" x=\"472.027458\" xlink:href=\"#m18236729cf\" y=\"162.867273\"/>\r\n      </g>\r\n     </g>\r\n     <g id=\"text_3\">\r\n      <!-- 20 -->\r\n      <g transform=\"translate(465.664958 177.46571)scale(0.1 -0.1)\">\r\n       <defs>\r\n        <path d=\"M 1228 531 \r\nL 3431 531 \r\nL 3431 0 \r\nL 469 0 \r\nL 469 531 \r\nQ 828 903 1448 1529 \r\nQ 2069 2156 2228 2338 \r\nQ 2531 2678 2651 2914 \r\nQ 2772 3150 2772 3378 \r\nQ 2772 3750 2511 3984 \r\nQ 2250 4219 1831 4219 \r\nQ 1534 4219 1204 4116 \r\nQ 875 4013 500 3803 \r\nL 500 4441 \r\nQ 881 4594 1212 4672 \r\nQ 1544 4750 1819 4750 \r\nQ 2544 4750 2975 4387 \r\nQ 3406 4025 3406 3419 \r\nQ 3406 3131 3298 2873 \r\nQ 3191 2616 2906 2266 \r\nQ 2828 2175 2409 1742 \r\nQ 1991 1309 1228 531 \r\nz\r\n\" id=\"DejaVuSans-32\" transform=\"scale(0.015625)\"/>\r\n       </defs>\r\n       <use xlink:href=\"#DejaVuSans-32\"/>\r\n       <use x=\"63.623047\" xlink:href=\"#DejaVuSans-30\"/>\r\n      </g>\r\n     </g>\r\n    </g>\r\n    <g id=\"xtick_4\">\r\n     <g id=\"line2d_4\">\r\n      <g>\r\n       <use style=\"stroke:#000000;stroke-width:0.8;\" x=\"679.077551\" xlink:href=\"#m18236729cf\" y=\"162.867273\"/>\r\n      </g>\r\n     </g>\r\n     <g id=\"text_4\">\r\n      <!-- 30 -->\r\n      <g transform=\"translate(672.715051 177.46571)scale(0.1 -0.1)\">\r\n       <defs>\r\n        <path d=\"M 2597 2516 \r\nQ 3050 2419 3304 2112 \r\nQ 3559 1806 3559 1356 \r\nQ 3559 666 3084 287 \r\nQ 2609 -91 1734 -91 \r\nQ 1441 -91 1130 -33 \r\nQ 819 25 488 141 \r\nL 488 750 \r\nQ 750 597 1062 519 \r\nQ 1375 441 1716 441 \r\nQ 2309 441 2620 675 \r\nQ 2931 909 2931 1356 \r\nQ 2931 1769 2642 2001 \r\nQ 2353 2234 1838 2234 \r\nL 1294 2234 \r\nL 1294 2753 \r\nL 1863 2753 \r\nQ 2328 2753 2575 2939 \r\nQ 2822 3125 2822 3475 \r\nQ 2822 3834 2567 4026 \r\nQ 2313 4219 1838 4219 \r\nQ 1578 4219 1281 4162 \r\nQ 984 4106 628 3988 \r\nL 628 4550 \r\nQ 988 4650 1302 4700 \r\nQ 1616 4750 1894 4750 \r\nQ 2613 4750 3031 4423 \r\nQ 3450 4097 3450 3541 \r\nQ 3450 3153 3228 2886 \r\nQ 3006 2619 2597 2516 \r\nz\r\n\" id=\"DejaVuSans-33\" transform=\"scale(0.015625)\"/>\r\n       </defs>\r\n       <use xlink:href=\"#DejaVuSans-33\"/>\r\n       <use x=\"63.623047\" xlink:href=\"#DejaVuSans-30\"/>\r\n      </g>\r\n     </g>\r\n    </g>\r\n    <g id=\"xtick_5\">\r\n     <g id=\"line2d_5\">\r\n      <g>\r\n       <use style=\"stroke:#000000;stroke-width:0.8;\" x=\"886.127644\" xlink:href=\"#m18236729cf\" y=\"162.867273\"/>\r\n      </g>\r\n     </g>\r\n     <g id=\"text_5\">\r\n      <!-- 40 -->\r\n      <g transform=\"translate(879.765144 177.46571)scale(0.1 -0.1)\">\r\n       <defs>\r\n        <path d=\"M 2419 4116 \r\nL 825 1625 \r\nL 2419 1625 \r\nL 2419 4116 \r\nz\r\nM 2253 4666 \r\nL 3047 4666 \r\nL 3047 1625 \r\nL 3713 1625 \r\nL 3713 1100 \r\nL 3047 1100 \r\nL 3047 0 \r\nL 2419 0 \r\nL 2419 1100 \r\nL 313 1100 \r\nL 313 1709 \r\nL 2253 4666 \r\nz\r\n\" id=\"DejaVuSans-34\" transform=\"scale(0.015625)\"/>\r\n       </defs>\r\n       <use xlink:href=\"#DejaVuSans-34\"/>\r\n       <use x=\"63.623047\" xlink:href=\"#DejaVuSans-30\"/>\r\n      </g>\r\n     </g>\r\n    </g>\r\n    <g id=\"xtick_6\">\r\n     <g id=\"line2d_6\">\r\n      <g>\r\n       <use style=\"stroke:#000000;stroke-width:0.8;\" x=\"1093.177737\" xlink:href=\"#m18236729cf\" y=\"162.867273\"/>\r\n      </g>\r\n     </g>\r\n     <g id=\"text_6\">\r\n      <!-- 50 -->\r\n      <g transform=\"translate(1086.815237 177.46571)scale(0.1 -0.1)\">\r\n       <defs>\r\n        <path d=\"M 691 4666 \r\nL 3169 4666 \r\nL 3169 4134 \r\nL 1269 4134 \r\nL 1269 2991 \r\nQ 1406 3038 1543 3061 \r\nQ 1681 3084 1819 3084 \r\nQ 2600 3084 3056 2656 \r\nQ 3513 2228 3513 1497 \r\nQ 3513 744 3044 326 \r\nQ 2575 -91 1722 -91 \r\nQ 1428 -91 1123 -41 \r\nQ 819 9 494 109 \r\nL 494 744 \r\nQ 775 591 1075 516 \r\nQ 1375 441 1709 441 \r\nQ 2250 441 2565 725 \r\nQ 2881 1009 2881 1497 \r\nQ 2881 1984 2565 2268 \r\nQ 2250 2553 1709 2553 \r\nQ 1456 2553 1204 2497 \r\nQ 953 2441 691 2322 \r\nL 691 4666 \r\nz\r\n\" id=\"DejaVuSans-35\" transform=\"scale(0.015625)\"/>\r\n       </defs>\r\n       <use xlink:href=\"#DejaVuSans-35\"/>\r\n       <use x=\"63.623047\" xlink:href=\"#DejaVuSans-30\"/>\r\n      </g>\r\n     </g>\r\n    </g>\r\n   </g>\r\n   <g id=\"matplotlib.axis_2\">\r\n    <g id=\"ytick_1\">\r\n     <g id=\"line2d_7\">\r\n      <defs>\r\n       <path d=\"M 0 0 \r\nL -3.5 0 \r\n\" id=\"m8193445dcd\" style=\"stroke:#000000;stroke-width:0.8;\"/>\r\n      </defs>\r\n      <g>\r\n       <use style=\"stroke:#000000;stroke-width:0.8;\" x=\"57.927273\" xlink:href=\"#m8193445dcd\" y=\"162.867273\"/>\r\n      </g>\r\n     </g>\r\n     <g id=\"text_7\">\r\n      <!-- 0 -->\r\n      <g transform=\"translate(44.564773 166.666491)scale(0.1 -0.1)\">\r\n       <use xlink:href=\"#DejaVuSans-30\"/>\r\n      </g>\r\n     </g>\r\n    </g>\r\n    <g id=\"ytick_2\">\r\n     <g id=\"line2d_8\">\r\n      <g>\r\n       <use style=\"stroke:#000000;stroke-width:0.8;\" x=\"57.927273\" xlink:href=\"#m8193445dcd\" y=\"133.288753\"/>\r\n      </g>\r\n     </g>\r\n     <g id=\"text_8\">\r\n      <!-- 20 -->\r\n      <g transform=\"translate(38.202273 137.087972)scale(0.1 -0.1)\">\r\n       <use xlink:href=\"#DejaVuSans-32\"/>\r\n       <use x=\"63.623047\" xlink:href=\"#DejaVuSans-30\"/>\r\n      </g>\r\n     </g>\r\n    </g>\r\n    <g id=\"ytick_3\">\r\n     <g id=\"line2d_9\">\r\n      <g>\r\n       <use style=\"stroke:#000000;stroke-width:0.8;\" x=\"57.927273\" xlink:href=\"#m8193445dcd\" y=\"103.710234\"/>\r\n      </g>\r\n     </g>\r\n     <g id=\"text_9\">\r\n      <!-- 40 -->\r\n      <g transform=\"translate(38.202273 107.509452)scale(0.1 -0.1)\">\r\n       <use xlink:href=\"#DejaVuSans-34\"/>\r\n       <use x=\"63.623047\" xlink:href=\"#DejaVuSans-30\"/>\r\n      </g>\r\n     </g>\r\n    </g>\r\n    <g id=\"ytick_4\">\r\n     <g id=\"line2d_10\">\r\n      <g>\r\n       <use style=\"stroke:#000000;stroke-width:0.8;\" x=\"57.927273\" xlink:href=\"#m8193445dcd\" y=\"74.131714\"/>\r\n      </g>\r\n     </g>\r\n     <g id=\"text_10\">\r\n      <!-- 60 -->\r\n      <g transform=\"translate(38.202273 77.930933)scale(0.1 -0.1)\">\r\n       <defs>\r\n        <path d=\"M 2113 2584 \r\nQ 1688 2584 1439 2293 \r\nQ 1191 2003 1191 1497 \r\nQ 1191 994 1439 701 \r\nQ 1688 409 2113 409 \r\nQ 2538 409 2786 701 \r\nQ 3034 994 3034 1497 \r\nQ 3034 2003 2786 2293 \r\nQ 2538 2584 2113 2584 \r\nz\r\nM 3366 4563 \r\nL 3366 3988 \r\nQ 3128 4100 2886 4159 \r\nQ 2644 4219 2406 4219 \r\nQ 1781 4219 1451 3797 \r\nQ 1122 3375 1075 2522 \r\nQ 1259 2794 1537 2939 \r\nQ 1816 3084 2150 3084 \r\nQ 2853 3084 3261 2657 \r\nQ 3669 2231 3669 1497 \r\nQ 3669 778 3244 343 \r\nQ 2819 -91 2113 -91 \r\nQ 1303 -91 875 529 \r\nQ 447 1150 447 2328 \r\nQ 447 3434 972 4092 \r\nQ 1497 4750 2381 4750 \r\nQ 2619 4750 2861 4703 \r\nQ 3103 4656 3366 4563 \r\nz\r\n\" id=\"DejaVuSans-36\" transform=\"scale(0.015625)\"/>\r\n       </defs>\r\n       <use xlink:href=\"#DejaVuSans-36\"/>\r\n       <use x=\"63.623047\" xlink:href=\"#DejaVuSans-30\"/>\r\n      </g>\r\n     </g>\r\n    </g>\r\n    <g id=\"ytick_5\">\r\n     <g id=\"line2d_11\">\r\n      <g>\r\n       <use style=\"stroke:#000000;stroke-width:0.8;\" x=\"57.927273\" xlink:href=\"#m8193445dcd\" y=\"44.553194\"/>\r\n      </g>\r\n     </g>\r\n     <g id=\"text_11\">\r\n      <!-- 80 -->\r\n      <g transform=\"translate(38.202273 48.352413)scale(0.1 -0.1)\">\r\n       <defs>\r\n        <path d=\"M 2034 2216 \r\nQ 1584 2216 1326 1975 \r\nQ 1069 1734 1069 1313 \r\nQ 1069 891 1326 650 \r\nQ 1584 409 2034 409 \r\nQ 2484 409 2743 651 \r\nQ 3003 894 3003 1313 \r\nQ 3003 1734 2745 1975 \r\nQ 2488 2216 2034 2216 \r\nz\r\nM 1403 2484 \r\nQ 997 2584 770 2862 \r\nQ 544 3141 544 3541 \r\nQ 544 4100 942 4425 \r\nQ 1341 4750 2034 4750 \r\nQ 2731 4750 3128 4425 \r\nQ 3525 4100 3525 3541 \r\nQ 3525 3141 3298 2862 \r\nQ 3072 2584 2669 2484 \r\nQ 3125 2378 3379 2068 \r\nQ 3634 1759 3634 1313 \r\nQ 3634 634 3220 271 \r\nQ 2806 -91 2034 -91 \r\nQ 1263 -91 848 271 \r\nQ 434 634 434 1313 \r\nQ 434 1759 690 2068 \r\nQ 947 2378 1403 2484 \r\nz\r\nM 1172 3481 \r\nQ 1172 3119 1398 2916 \r\nQ 1625 2713 2034 2713 \r\nQ 2441 2713 2670 2916 \r\nQ 2900 3119 2900 3481 \r\nQ 2900 3844 2670 4047 \r\nQ 2441 4250 2034 4250 \r\nQ 1625 4250 1398 4047 \r\nQ 1172 3844 1172 3481 \r\nz\r\n\" id=\"DejaVuSans-38\" transform=\"scale(0.015625)\"/>\r\n       </defs>\r\n       <use xlink:href=\"#DejaVuSans-38\"/>\r\n       <use x=\"63.623047\" xlink:href=\"#DejaVuSans-30\"/>\r\n      </g>\r\n     </g>\r\n    </g>\r\n    <g id=\"ytick_6\">\r\n     <g id=\"line2d_12\">\r\n      <g>\r\n       <use style=\"stroke:#000000;stroke-width:0.8;\" x=\"57.927273\" xlink:href=\"#m8193445dcd\" y=\"14.974675\"/>\r\n      </g>\r\n     </g>\r\n     <g id=\"text_12\">\r\n      <!-- 100 -->\r\n      <g transform=\"translate(31.839773 18.773894)scale(0.1 -0.1)\">\r\n       <use xlink:href=\"#DejaVuSans-31\"/>\r\n       <use x=\"63.623047\" xlink:href=\"#DejaVuSans-30\"/>\r\n       <use x=\"127.246094\" xlink:href=\"#DejaVuSans-30\"/>\r\n      </g>\r\n     </g>\r\n    </g>\r\n   </g>\r\n   <g id=\"line2d_13\">\r\n    <path clip-path=\"url(#p2d6c95ba11)\" d=\"M 57.927273 162.867273 \r\nL 78.632282 155.472643 \r\nL 99.337291 159.169958 \r\nL 120.042301 161.018615 \r\nL 140.74731 161.942944 \r\nL 161.452319 162.405108 \r\nL 182.157328 162.636191 \r\nL 202.862338 162.751732 \r\nL 223.567347 162.809502 \r\nL 244.272356 162.838387 \r\nL 264.977365 162.85283 \r\nL 285.682375 162.860051 \r\nL 306.387384 162.863662 \r\nL 327.092393 14.938568 \r\nL 347.797403 88.902921 \r\nL 368.502412 125.885097 \r\nL 389.207421 144.376185 \r\nL 409.91243 153.621729 \r\nL 430.61744 158.244501 \r\nL 451.322449 160.555887 \r\nL 472.027458 161.71158 \r\nL 492.732468 162.289426 \r\nL 513.437477 162.578349 \r\nL 534.142486 162.722811 \r\nL 554.847495 162.795042 \r\nL 575.552505 162.831157 \r\nL 596.257514 14.613521 \r\nL 616.962523 88.740397 \r\nL 637.667532 125.803835 \r\nL 658.372542 144.335554 \r\nL 679.077551 153.601413 \r\nL 699.78256 158.234343 \r\nL 720.48757 160.550808 \r\nL 741.192579 161.70904 \r\nL 761.897588 162.288157 \r\nL 782.602597 162.577715 \r\nL 803.307607 162.722494 \r\nL 824.012616 162.794883 \r\nL 844.717625 162.831078 \r\nL 865.422635 14.612727 \r\nL 886.127644 88.74 \r\nL 906.832653 125.803636 \r\nL 927.537662 144.335455 \r\nL 948.242672 153.601364 \r\nL 968.947681 158.234318 \r\nL 989.65269 160.550795 \r\nL 1010.357699 161.709034 \r\nL 1031.062709 162.288153 \r\nL 1051.767718 162.577713 \r\nL 1072.472727 162.722493 \r\n\" style=\"fill:none;stroke:#ff0000;stroke-linecap:square;stroke-width:1.5;\"/>\r\n   </g>\r\n   <g id=\"line2d_14\">\r\n    <path clip-path=\"url(#p2d6c95ba11)\" d=\"M 57.927273 162.867273 \r\nL 78.632282 155.472643 \r\nL 99.337291 159.169958 \r\nL 120.042301 161.018615 \r\nL 140.74731 96.315604 \r\nL 161.452319 129.591438 \r\nL 182.157328 146.229355 \r\nL 202.862338 154.548314 \r\nL 223.567347 70.434399 \r\nL 244.272356 116.650836 \r\nL 264.977365 139.759054 \r\nL 285.682375 151.313164 \r\nL 306.387384 57.493797 \r\nL 327.092393 110.180535 \r\nL 347.797403 136.523904 \r\nL 368.502412 149.695588 \r\nL 389.207421 51.023496 \r\nL 409.91243 106.945384 \r\nL 430.61744 134.906328 \r\nL 451.322449 148.886801 \r\nL 472.027458 47.788345 \r\nL 492.732468 105.327809 \r\nL 513.437477 134.097541 \r\nL 534.142486 148.482407 \r\nL 554.847495 46.17077 \r\nL 575.552505 104.519021 \r\nL 596.257514 133.693147 \r\nL 616.962523 148.28021 \r\nL 637.667532 45.361982 \r\nL 658.372542 104.114627 \r\nL 679.077551 133.49095 \r\nL 699.78256 148.179111 \r\nL 720.48757 44.957588 \r\nL 741.192579 103.912431 \r\nL 761.897588 133.389852 \r\nL 782.602597 148.128562 \r\nL 803.307607 44.755391 \r\nL 824.012616 103.811332 \r\nL 844.717625 133.339302 \r\nL 865.422635 148.103288 \r\nL 886.127644 44.654293 \r\nL 906.832653 103.760783 \r\nL 927.537662 133.314028 \r\nL 948.242672 148.09065 \r\nL 968.947681 44.603744 \r\nL 989.65269 103.735508 \r\nL 1010.357699 133.30139 \r\nL 1031.062709 148.084332 \r\nL 1051.767718 44.578469 \r\nL 1072.472727 103.722871 \r\n\" style=\"fill:none;stroke:#0000ff;stroke-linecap:square;stroke-width:1.5;\"/>\r\n   </g>\r\n   <g id=\"line2d_15\">\r\n    <path clip-path=\"url(#p2d6c95ba11)\" d=\"M 57.927273 162.867273 \r\nL 78.632282 155.472643 \r\nL 99.337291 159.169958 \r\nL 120.042301 161.018615 \r\nL 140.74731 161.942944 \r\nL 161.452319 162.405108 \r\nL 182.157328 71.358728 \r\nL 202.862338 117.113 \r\nL 223.567347 139.990137 \r\nL 244.272356 151.428705 \r\nL 264.977365 157.147989 \r\nL 285.682375 160.007631 \r\nL 306.387384 56.973862 \r\nL 327.092393 109.920567 \r\nL 347.797403 136.39392 \r\nL 368.502412 149.630596 \r\nL 389.207421 156.248935 \r\nL 409.91243 159.558104 \r\nL 430.61744 54.2767 \r\nL 451.322449 108.571986 \r\nL 472.027458 135.719629 \r\nL 492.732468 149.293451 \r\nL 513.437477 156.080362 \r\nL 534.142486 159.473817 \r\nL 554.847495 53.770982 \r\nL 575.552505 108.319127 \r\nL 596.257514 135.5932 \r\nL 616.962523 149.230236 \r\nL 637.667532 156.048755 \r\nL 658.372542 159.458014 \r\nL 679.077551 53.676159 \r\nL 699.78256 108.271716 \r\nL 720.48757 135.569494 \r\nL 741.192579 149.218384 \r\nL 761.897588 156.042828 \r\nL 782.602597 159.45505 \r\nL 803.307607 53.65838 \r\nL 824.012616 108.262827 \r\nL 844.717625 135.56505 \r\nL 865.422635 149.216161 \r\nL 886.127644 156.041717 \r\nL 906.832653 159.454495 \r\nL 927.537662 53.655047 \r\nL 948.242672 108.26116 \r\nL 968.947681 135.564216 \r\nL 989.65269 149.215744 \r\nL 1010.357699 156.041509 \r\nL 1031.062709 159.454391 \r\nL 1051.767718 53.654422 \r\nL 1072.472727 108.260847 \r\n\" style=\"fill:none;stroke:#00bfbf;stroke-linecap:square;stroke-width:1.5;\"/>\r\n   </g>\r\n   <g id=\"patch_3\">\r\n    <path d=\"M 57.927273 170.28 \r\nL 57.927273 7.2 \r\n\" style=\"fill:none;stroke:#000000;stroke-linecap:square;stroke-linejoin:miter;stroke-width:0.8;\"/>\r\n   </g>\r\n   <g id=\"patch_4\">\r\n    <path d=\"M 1123.2 170.28 \r\nL 1123.2 7.2 \r\n\" style=\"fill:none;\"/>\r\n   </g>\r\n   <g id=\"patch_5\">\r\n    <path d=\"M 7.2 162.867273 \r\nL 1123.2 162.867273 \r\n\" style=\"fill:none;stroke:#000000;stroke-linecap:square;stroke-linejoin:miter;stroke-width:0.8;\"/>\r\n   </g>\r\n   <g id=\"patch_6\">\r\n    <path d=\"M 7.2 7.2 \r\nL 1123.2 7.2 \r\n\" style=\"fill:none;\"/>\r\n   </g>\r\n   <g id=\"legend_1\">\r\n    <g id=\"patch_7\">\r\n     <path d=\"M 14.2 59.234375 \r\nL 86.865625 59.234375 \r\nQ 88.865625 59.234375 88.865625 57.234375 \r\nL 88.865625 14.2 \r\nQ 88.865625 12.2 86.865625 12.2 \r\nL 14.2 12.2 \r\nQ 12.2 12.2 12.2 14.2 \r\nL 12.2 57.234375 \r\nQ 12.2 59.234375 14.2 59.234375 \r\nz\r\n\" style=\"fill:#ffffff;opacity:0.8;stroke:#cccccc;stroke-linejoin:miter;\"/>\r\n    </g>\r\n    <g id=\"line2d_16\">\r\n     <path d=\"M 16.2 20.298438 \r\nL 36.2 20.298438 \r\n\" style=\"fill:none;stroke:#ff0000;stroke-linecap:square;stroke-width:1.5;\"/>\r\n    </g>\r\n    <g id=\"line2d_17\"/>\r\n    <g id=\"text_13\">\r\n     <!-- cicadas -->\r\n     <g transform=\"translate(44.2 23.798438)scale(0.1 -0.1)\">\r\n      <defs>\r\n       <path d=\"M 3122 3366 \r\nL 3122 2828 \r\nQ 2878 2963 2633 3030 \r\nQ 2388 3097 2138 3097 \r\nQ 1578 3097 1268 2742 \r\nQ 959 2388 959 1747 \r\nQ 959 1106 1268 751 \r\nQ 1578 397 2138 397 \r\nQ 2388 397 2633 464 \r\nQ 2878 531 3122 666 \r\nL 3122 134 \r\nQ 2881 22 2623 -34 \r\nQ 2366 -91 2075 -91 \r\nQ 1284 -91 818 406 \r\nQ 353 903 353 1747 \r\nQ 353 2603 823 3093 \r\nQ 1294 3584 2113 3584 \r\nQ 2378 3584 2631 3529 \r\nQ 2884 3475 3122 3366 \r\nz\r\n\" id=\"DejaVuSans-63\" transform=\"scale(0.015625)\"/>\r\n       <path d=\"M 603 3500 \r\nL 1178 3500 \r\nL 1178 0 \r\nL 603 0 \r\nL 603 3500 \r\nz\r\nM 603 4863 \r\nL 1178 4863 \r\nL 1178 4134 \r\nL 603 4134 \r\nL 603 4863 \r\nz\r\n\" id=\"DejaVuSans-69\" transform=\"scale(0.015625)\"/>\r\n       <path d=\"M 2194 1759 \r\nQ 1497 1759 1228 1600 \r\nQ 959 1441 959 1056 \r\nQ 959 750 1161 570 \r\nQ 1363 391 1709 391 \r\nQ 2188 391 2477 730 \r\nQ 2766 1069 2766 1631 \r\nL 2766 1759 \r\nL 2194 1759 \r\nz\r\nM 3341 1997 \r\nL 3341 0 \r\nL 2766 0 \r\nL 2766 531 \r\nQ 2569 213 2275 61 \r\nQ 1981 -91 1556 -91 \r\nQ 1019 -91 701 211 \r\nQ 384 513 384 1019 \r\nQ 384 1609 779 1909 \r\nQ 1175 2209 1959 2209 \r\nL 2766 2209 \r\nL 2766 2266 \r\nQ 2766 2663 2505 2880 \r\nQ 2244 3097 1772 3097 \r\nQ 1472 3097 1187 3025 \r\nQ 903 2953 641 2809 \r\nL 641 3341 \r\nQ 956 3463 1253 3523 \r\nQ 1550 3584 1831 3584 \r\nQ 2591 3584 2966 3190 \r\nQ 3341 2797 3341 1997 \r\nz\r\n\" id=\"DejaVuSans-61\" transform=\"scale(0.015625)\"/>\r\n       <path d=\"M 2906 2969 \r\nL 2906 4863 \r\nL 3481 4863 \r\nL 3481 0 \r\nL 2906 0 \r\nL 2906 525 \r\nQ 2725 213 2448 61 \r\nQ 2172 -91 1784 -91 \r\nQ 1150 -91 751 415 \r\nQ 353 922 353 1747 \r\nQ 353 2572 751 3078 \r\nQ 1150 3584 1784 3584 \r\nQ 2172 3584 2448 3432 \r\nQ 2725 3281 2906 2969 \r\nz\r\nM 947 1747 \r\nQ 947 1113 1208 752 \r\nQ 1469 391 1925 391 \r\nQ 2381 391 2643 752 \r\nQ 2906 1113 2906 1747 \r\nQ 2906 2381 2643 2742 \r\nQ 2381 3103 1925 3103 \r\nQ 1469 3103 1208 2742 \r\nQ 947 2381 947 1747 \r\nz\r\n\" id=\"DejaVuSans-64\" transform=\"scale(0.015625)\"/>\r\n       <path d=\"M 2834 3397 \r\nL 2834 2853 \r\nQ 2591 2978 2328 3040 \r\nQ 2066 3103 1784 3103 \r\nQ 1356 3103 1142 2972 \r\nQ 928 2841 928 2578 \r\nQ 928 2378 1081 2264 \r\nQ 1234 2150 1697 2047 \r\nL 1894 2003 \r\nQ 2506 1872 2764 1633 \r\nQ 3022 1394 3022 966 \r\nQ 3022 478 2636 193 \r\nQ 2250 -91 1575 -91 \r\nQ 1294 -91 989 -36 \r\nQ 684 19 347 128 \r\nL 347 722 \r\nQ 666 556 975 473 \r\nQ 1284 391 1588 391 \r\nQ 1994 391 2212 530 \r\nQ 2431 669 2431 922 \r\nQ 2431 1156 2273 1281 \r\nQ 2116 1406 1581 1522 \r\nL 1381 1569 \r\nQ 847 1681 609 1914 \r\nQ 372 2147 372 2553 \r\nQ 372 3047 722 3315 \r\nQ 1072 3584 1716 3584 \r\nQ 2034 3584 2315 3537 \r\nQ 2597 3491 2834 3397 \r\nz\r\n\" id=\"DejaVuSans-73\" transform=\"scale(0.015625)\"/>\r\n      </defs>\r\n      <use xlink:href=\"#DejaVuSans-63\"/>\r\n      <use x=\"54.980469\" xlink:href=\"#DejaVuSans-69\"/>\r\n      <use x=\"82.763672\" xlink:href=\"#DejaVuSans-63\"/>\r\n      <use x=\"137.744141\" xlink:href=\"#DejaVuSans-61\"/>\r\n      <use x=\"199.023438\" xlink:href=\"#DejaVuSans-64\"/>\r\n      <use x=\"262.5\" xlink:href=\"#DejaVuSans-61\"/>\r\n      <use x=\"323.779297\" xlink:href=\"#DejaVuSans-73\"/>\r\n     </g>\r\n    </g>\r\n    <g id=\"line2d_18\">\r\n     <path d=\"M 16.2 34.976563 \r\nL 36.2 34.976563 \r\n\" style=\"fill:none;stroke:#0000ff;stroke-linecap:square;stroke-width:1.5;\"/>\r\n    </g>\r\n    <g id=\"line2d_19\"/>\r\n    <g id=\"text_14\">\r\n     <!-- enemy1 -->\r\n     <g transform=\"translate(44.2 38.476563)scale(0.1 -0.1)\">\r\n      <defs>\r\n       <path d=\"M 3597 1894 \r\nL 3597 1613 \r\nL 953 1613 \r\nQ 991 1019 1311 708 \r\nQ 1631 397 2203 397 \r\nQ 2534 397 2845 478 \r\nQ 3156 559 3463 722 \r\nL 3463 178 \r\nQ 3153 47 2828 -22 \r\nQ 2503 -91 2169 -91 \r\nQ 1331 -91 842 396 \r\nQ 353 884 353 1716 \r\nQ 353 2575 817 3079 \r\nQ 1281 3584 2069 3584 \r\nQ 2775 3584 3186 3129 \r\nQ 3597 2675 3597 1894 \r\nz\r\nM 3022 2063 \r\nQ 3016 2534 2758 2815 \r\nQ 2500 3097 2075 3097 \r\nQ 1594 3097 1305 2825 \r\nQ 1016 2553 972 2059 \r\nL 3022 2063 \r\nz\r\n\" id=\"DejaVuSans-65\" transform=\"scale(0.015625)\"/>\r\n       <path d=\"M 3513 2113 \r\nL 3513 0 \r\nL 2938 0 \r\nL 2938 2094 \r\nQ 2938 2591 2744 2837 \r\nQ 2550 3084 2163 3084 \r\nQ 1697 3084 1428 2787 \r\nQ 1159 2491 1159 1978 \r\nL 1159 0 \r\nL 581 0 \r\nL 581 3500 \r\nL 1159 3500 \r\nL 1159 2956 \r\nQ 1366 3272 1645 3428 \r\nQ 1925 3584 2291 3584 \r\nQ 2894 3584 3203 3211 \r\nQ 3513 2838 3513 2113 \r\nz\r\n\" id=\"DejaVuSans-6e\" transform=\"scale(0.015625)\"/>\r\n       <path d=\"M 3328 2828 \r\nQ 3544 3216 3844 3400 \r\nQ 4144 3584 4550 3584 \r\nQ 5097 3584 5394 3201 \r\nQ 5691 2819 5691 2113 \r\nL 5691 0 \r\nL 5113 0 \r\nL 5113 2094 \r\nQ 5113 2597 4934 2840 \r\nQ 4756 3084 4391 3084 \r\nQ 3944 3084 3684 2787 \r\nQ 3425 2491 3425 1978 \r\nL 3425 0 \r\nL 2847 0 \r\nL 2847 2094 \r\nQ 2847 2600 2669 2842 \r\nQ 2491 3084 2119 3084 \r\nQ 1678 3084 1418 2786 \r\nQ 1159 2488 1159 1978 \r\nL 1159 0 \r\nL 581 0 \r\nL 581 3500 \r\nL 1159 3500 \r\nL 1159 2956 \r\nQ 1356 3278 1631 3431 \r\nQ 1906 3584 2284 3584 \r\nQ 2666 3584 2933 3390 \r\nQ 3200 3197 3328 2828 \r\nz\r\n\" id=\"DejaVuSans-6d\" transform=\"scale(0.015625)\"/>\r\n       <path d=\"M 2059 -325 \r\nQ 1816 -950 1584 -1140 \r\nQ 1353 -1331 966 -1331 \r\nL 506 -1331 \r\nL 506 -850 \r\nL 844 -850 \r\nQ 1081 -850 1212 -737 \r\nQ 1344 -625 1503 -206 \r\nL 1606 56 \r\nL 191 3500 \r\nL 800 3500 \r\nL 1894 763 \r\nL 2988 3500 \r\nL 3597 3500 \r\nL 2059 -325 \r\nz\r\n\" id=\"DejaVuSans-79\" transform=\"scale(0.015625)\"/>\r\n      </defs>\r\n      <use xlink:href=\"#DejaVuSans-65\"/>\r\n      <use x=\"61.523438\" xlink:href=\"#DejaVuSans-6e\"/>\r\n      <use x=\"124.902344\" xlink:href=\"#DejaVuSans-65\"/>\r\n      <use x=\"186.425781\" xlink:href=\"#DejaVuSans-6d\"/>\r\n      <use x=\"283.837891\" xlink:href=\"#DejaVuSans-79\"/>\r\n      <use x=\"343.017578\" xlink:href=\"#DejaVuSans-31\"/>\r\n     </g>\r\n    </g>\r\n    <g id=\"line2d_20\">\r\n     <path d=\"M 16.2 49.654688 \r\nL 36.2 49.654688 \r\n\" style=\"fill:none;stroke:#00bfbf;stroke-linecap:square;stroke-width:1.5;\"/>\r\n    </g>\r\n    <g id=\"line2d_21\"/>\r\n    <g id=\"text_15\">\r\n     <!-- enemy2 -->\r\n     <g transform=\"translate(44.2 53.154688)scale(0.1 -0.1)\">\r\n      <use xlink:href=\"#DejaVuSans-65\"/>\r\n      <use x=\"61.523438\" xlink:href=\"#DejaVuSans-6e\"/>\r\n      <use x=\"124.902344\" xlink:href=\"#DejaVuSans-65\"/>\r\n      <use x=\"186.425781\" xlink:href=\"#DejaVuSans-6d\"/>\r\n      <use x=\"283.837891\" xlink:href=\"#DejaVuSans-79\"/>\r\n      <use x=\"343.017578\" xlink:href=\"#DejaVuSans-32\"/>\r\n     </g>\r\n    </g>\r\n   </g>\r\n  </g>\r\n </g>\r\n <defs>\r\n  <clipPath id=\"p2d6c95ba11\">\r\n   <rect height=\"163.08\" width=\"1116\" x=\"7.2\" y=\"7.2\"/>\r\n  </clipPath>\r\n </defs>\r\n</svg>\r\n",
      "image/png": "[encoded data removed]"
     },
     "metadata": {
      "needs_background": "light"
     }
    }
   ],
   "source": [
    "import matplotlib.pyplot as plt\n",
    "\n",
    "def life_cycle(interval, growth, decline):\n",
    "    life = [0]\n",
    "    populus = 10\n",
    "    for i in range(1,50,1):\n",
    "        if i%interval == 0:\n",
    "            populus += 10\n",
    "            populus *= growth\n",
    "        else:\n",
    "            populus *= decline\n",
    "        if populus < 0:\n",
    "            populus = 0\n",
    "        life.append(populus)\n",
    "    return life\n",
    "\n",
    "\n",
    "cicadas = life_cycle(13, 10, 0.5)\n",
    "enemy1 = life_cycle(4, 4, 0.5)\n",
    "enemy2 = life_cycle(6, 6, 0.5)\n",
    "\n",
    "fig = plt.figure()\n",
    "fig.set_figwidth(20)\n",
    "fig.set_figheight(3)\n",
    "ax = fig.add_subplot(1, 1, 1)\n",
    "\n",
    "ax.spines['left'].set_position('zero')\n",
    "ax.spines['bottom'].set_position('zero')\n",
    "ax.spines['right'].set_color('none')\n",
    "ax.spines['top'].set_color('none')\n",
    "ax.xaxis.set_ticks_position('bottom')\n",
    "ax.yaxis.set_ticks_position('left')\n",
    "\n",
    "plt.plot(cicadas,'r', label='cicadas')\n",
    "plt.plot(enemy1,'b', label='enemy1')\n",
    "plt.plot(enemy2,'c', label='enemy2')\n",
    "\n",
    "plt.legend(loc='upper left')\n",
    "\n",
    "plt.show()"
   ]
  },
  {
   "cell_type": "markdown",
   "metadata": {},
   "source": [
    "Singing cicadas live in the United States and only mate every 13 or 17 years. For example, the American Magicicada septendecim only leaves its underground hiding place after exactly 17 years in order to reproduce within a period of about three weeks. The larvae that hatch from the eggs live underground until they crawl to the surface of the earth almost on the same day in 17 years. A Chilean-German research team has found out why it only crawls out of its underground hiding place after 17 years. 13 and 17 are prime numbers. Since their enemies and competitors usually live in 2, 4 or 6 year rhythms, _the_ _cicadas_ _can_ _increase_ _their_ _chances_ _of_ _survival_ _by_ _reproducing_ _in_ _the_ _“low_ _birth”_ _cohorts_ _of_ _their_ _predators._\n",
    "\n",
    "This theory is supported by our diagram. Animals with even reproduction circles often overlap, while cicadas only overlap with other species every (frequency of the cicada cycle * frequency of the enemies cycle) cycles. This makes reproduction for cicadas very reliable when compared to their natural opposition.\n",
    "\n",
    "During their short aboveground life from mid-May to June, the cicadas do not cause any damage despite their massive occurrence.\n",
    "\n",
    "Source:  Gene Kritsky, PhD, Periodical Cicadas: The Brood X Edition, <br> https://www.amazon.com/gp/product/B08X3XKRW7/ref=as_li_tl?ie=UTF8&camp=1789&creative=9325&creativeASIN=B08X3XKRW7&linkCode=as2&tag=cicadamania-20&linkId=1b83fa112465e182eabdfa1616119d8f\n",
    "\n",
    "#### 1.A.c. Prime numbers in information systems\n",
    "Prime numbers are used in cryptographic algorithms, particularly in RSA (Rivest - Shamir - Adlerman). RSA is asymetric, meaning while how to encode messages for the reciever is public kwnoledge, only the reciever itself knows how to deciver that message. Contrary to symetric encodings like the enigma, where both the sender and the reciever had to posses kwnoledge of a designatet de- and encryption process, no prior agreements between sender and reciever need be made than a broad understanding of the RSA - encryption.\n",
    "\n",
    "##### The Process\n",
    "1. Select to prime numbers q and p.\n",
    "2. Let N = q x p and φ ( N ) = ( p - 1 ) x ( q - 1 ).\n",
    "3. Choose an e with 1 < e < φ ( N ) and where the greatest common divisor of e and φ ( N ) = 1.\n",
    "4. Calculate a d with the values e and φ ( N ) that satisfies e x d - k x φ ( N ) = 1. There is only one possible solution. The variable k is calculated but not needed.\n",
    "5. To encode a number: G = (T^e) % N\n",
    "6. To decode a number: T = (G^d) % N\n",
    "\n",
    "##### Why does it work?\n",
    "(((T^e) % N)^d) % N = T <br>\n",
    "The private key (d, N) cannot be constructed from the publik key (e, N) without considerable effort.\n",
    "To calculate d, φ ( N ) is needed. Finding q and p from N takes longer the larger numbers are used.\n",
    "Should someone find φ ( N ), the message can be decoded, but since the process is asymetric every message can simply be encoded slightly different, making long term communication fast, as easy as possible and as secure as possible.\n",
    "\n",
    "##### Possible problems\n",
    "This algorithm depends on the lack of understanding about prime numbers. If that chages, major parts of the internet are not secure anymore. Also, the encrytion does not change the pattern of the message, so a black-and-white image still shows the same shapes. Techniques like Alphabetical Probability are still able to find possible matches faster, the bigger the message gets.\n",
    "\n",
    "Sources:    Christian Spannagel 2012, zur Verfügung gestellt von der Technischen Informationsbibliothek: <br>\n",
    "            https://doi.org/10.5446/19815, <br>\n",
    "            https://doi.org/10.5446/19816, <br>\n",
    "            https://doi.org/10.5446/19817, <br>\n",
    "            https://doi.org/10.5446/19813, <br>\n",
    "            https://doi.org/10.5446/19814, <br>\n",
    "            https://www.inf.hs-flensburg.de/lang/krypto/algo/euklid.htm <br>\n",
    "\n",
    "\n",
    "### 1.B. Fibonacci numbers\n",
    "#### 1.A.a. What are Fibonacci numbers\n",
    "Fibonacci numbers are numbers that form a sequence called the Fibonacci sequence. A new Fibonacci number is calculated by the sum of its two preceding ones. The sequence starts with 0 and 1.\n",
    "\n",
    "Example: 0, 1, 1, 2, 3, 5, 8, 13, ...\n",
    "\n",
    "These numbers may also be displayed graphically for a better visualization. We create squares based on the successive Fibonacci numbers. And by drawing circular arcs connecting the opposite corners of squares we get a resulting line which is called the Fibonacci spiral.\n",
    "![fibonacci_spiral](fibonacci_spiral.png)\n",
    "[]https://www.mathsisfun.com/numbers/fibonacci-sequence.html\n",
    "\n",
    "#### 1.A.b. Fibonacci numbers in nature\n",
    "\n",
    "The Fibonacci numbers can often be observed throughout nature. One example of this occurrence would be the sunflowers seed arrangements as they closely resemble the Fibonacci numbers. It contains spiral patterns in 2 opposite directions which are typically dependent on each other. For example the seed arrangement from the left to the inside contains the x position of the Fibonacci numbers while from the right it takes the x + 1 position (usually 13 seeds left-oriented and 21 right-oriented). But the sunflower isn't the only species of plants that has those properties  also another one, called Anonium, contains a leaf arrangement similiar to that of the Fiibonacci numbers. In fact an estimate by R. Jean even estimates that 92 percent of plants with displaying spirals or multijugate phyllotaxis have Fibonacci similar properties. Also there is the shell of a snail known as Nautilus pompilius it produces Chambers in a way that closely resembles the golden ratio.\n",
    "\n",
    "Source 1: Richard A. Dunlap: The Golden Ratio and Fibonacci Numbers. World Scientific, Singapur 1999, ISBN 981-02-3264-0, P. 130–134 <br>\n",
    "Source 2: Alfred S. Posamentier, Ingmar Lehmann: The (Fabulous) FIBONACCI Numbers, Prometheus Books, New York 2007 <br>\n",
    "Source 3: Roger V. Jean: Phyllotaxis: A Systemic Study in Plant Morphogenesis, Cambridge University Press, Cambridge 1994 <br>\n",
    "\n",
    "#### 1.A.c. Fibonacci numbers in physics\n",
    "In science the numbers can be observed in an experiment called LEED which stands for Low-energy electron diffraction and is a very common experiment for surface experiments as it is inexpensive and easy to perform. And as such has been used for a very long time for determining surface geometries. During this process data is acquired most commonly through a camera connected to a Pc. When observing the quasicrystalline structures on quasicrystals, the diffraction pattern is similar to the Fourier transform of a Fibonacci array where there is a linear sequence of one long and one short element. This is also referred to as an one- dimensional aperiodic order as there consists an order but without periodicity.\n",
    "\n",
    "Source 1: R D Diehl, J Ledieu, N Ferralis, A W Szmodis and R McGrath: Low-energy electron diffraction from quasicrystal surfaces.  Journal of Physics Condensed Matter, 13 January 2003, URL: http://stacks.iop.org/JPhysCM/15/R63 <br>\n",
    "Source 2: Michael Baake David Damanik und Uwe Grimm: Aperiodic Order and Spectral Properties.  Mathematisches Forschungsinstitut Oberwolfach, 2017, URL: https://imaginary.org/sites/default/files/snapshots/snapshot-2017-003.pdf <br>\n",
    "#### 1.A.d. Fibonacci numbers in mathematics\n",
    "In the Mandelbrot set there are also different parts where the Fibonaccci numbers can be observed. One example of this phenomenon would be when observing the branches leaving the \"circles\" as those divide in specific numbers so for example the biggest one has (including the one going back to the \"circle\") two branches while the second biggest has 3 the third in between 5 the fourth in between 8 and so on. <br>\n",
    "Source: Dr Holly Krieger from Murray Edwards College, University of Cambridge 2017<br><br>\n",
    "![Mandelbrot](Mandelbrot.jpg) <br>\n",
    "build with: Mandelbrot Set generator, URL: https://math.hws.edu/eck/js/mandelbrot/MB.html"
   ]
  },
  {
   "cell_type": "markdown",
   "metadata": {},
   "source": [
    "## 2. Methods and approach\n",
    "\n",
    "### 2.A. Exercise 1 - Prime numbers in systems\n",
    "The program of exercise 1 calculates all primes smaler than x = 1,000. Every x between 1,000 and 2 is a prime if no y bigger than 2 and smaler than x/2 is able to divide x without reminder.\n",
    "\n",
    "As seen in our flowchart, the process of determining primes can be quiet simple but tedious.\n",
    "\n",
    "![flowchart_primes](flowchart_primes.png)"
   ]
  },
  {
   "cell_type": "code",
   "execution_count": 2,
   "metadata": {},
   "outputs": [
    {
     "output_type": "stream",
     "name": "stdout",
     "text": [
      "[2, 3, 5, 7, 11, 13, 17, 19, 23, 29, 31, 37, 41, 43, 47, 53, 59, 61, 67, 71, 73, 79, 83, 89, 97, 101, 103, 107, 109, 113, 127, 131, 137, 139, 149, 151, 157, 163, 167, 173, 179, 181, 191, 193, 197, 199, 211, 223, 227, 229, 233, 239, 241, 251, 257, 263, 269, 271, 277, 281, 283, 293, 307, 311, 313, 317, 331, 337, 347, 349, 353, 359, 367, 373, 379, 383, 389, 397, 401, 409, 419, 421, 431, 433, 439, 443, 449, 457, 461, 463, 467, 479, 487, 491, 499, 503, 509, 521, 523, 541, 547, 557, 563, 569, 571, 577, 587, 593, 599, 601, 607, 613, 617, 619, 631, 641, 643, 647, 653, 659, 661, 673, 677, 683, 691, 701, 709, 719, 727, 733, 739, 743, 751, 757, 761, 769, 773, 787, 797, 809, 811, 821, 823, 827, 829, 839, 853, 857, 859, 863, 877, 881, 883, 887, 907, 911, 919, 929, 937, 941, 947, 953, 967, 971, 977, 983, 991, 997]\n248502\n"
     ]
    }
   ],
   "source": [
    "# Exercise 1\n",
    "\n",
    "primes = []\n",
    "circles1 = 0\n",
    "for integer in range(2, 1000, 1):             #Start, stop, step\n",
    "    prime = True\n",
    "    for j in range(2, int(integer/2) + 1, 1):\n",
    "        circles1 += 1                         #How often we check for a prime\n",
    "        if integer % j == 0:                  #Is there a number that divides i?\n",
    "            prime = False\n",
    "    if prime:\n",
    "        primes.append(integer)\n",
    "print(primes)\n",
    "print(circles1)"
   ]
  },
  {
   "cell_type": "markdown",
   "metadata": {},
   "source": [
    "### 2.B. Exercise 2 - Prime number algorithm - simple optimization\n",
    "The algorithm in exercise 1 does not check for a possible early exit of the loop. But in case the program finds a j bigger than 2 and smaler than i/2 that divides i without reminder, we can define i as a composite number and exit the inner loop immediatly for increased performance.\n",
    "\n",
    "This aproach will take more and more time the more integer and j grows. To save even more computing power we use our already found prime numbers to search for large numbers that are not divisable by those primes. We use prime factorization. This saves many more calculations since we do not divide by even numbers exept 2 and other unneccesesary numbers."
   ]
  },
  {
   "cell_type": "code",
   "execution_count": 3,
   "metadata": {},
   "outputs": [
    {
     "output_type": "stream",
     "name": "stdout",
     "text": [
      "[2, 3, 5, 7, 11, 13, 17, 19, 23, 29, 31, 37, 41, 43, 47, 53, 59, 61, 67, 71, 73, 79, 83, 89, 97, 101, 103, 107, 109, 113, 127, 131, 137, 139, 149, 151, 157, 163, 167, 173, 179, 181, 191, 193, 197, 199, 211, 223, 227, 229, 233, 239, 241, 251, 257, 263, 269, 271, 277, 281, 283, 293, 307, 311, 313, 317, 331, 337, 347, 349, 353, 359, 367, 373, 379, 383, 389, 397, 401, 409, 419, 421, 431, 433, 439, 443, 449, 457, 461, 463, 467, 479, 487, 491, 499, 503, 509, 521, 523, 541, 547, 557, 563, 569, 571, 577, 587, 593, 599, 601, 607, 613, 617, 619, 631, 641, 643, 647, 653, 659, 661, 673, 677, 683, 691, 701, 709, 719, 727, 733, 739, 743, 751, 757, 761, 769, 773, 787, 797, 809, 811, 821, 823, 827, 829, 839, 853, 857, 859, 863, 877, 881, 883, 887, 907, 911, 919, 929, 937, 941, 947, 953, 967, 971, 977, 983, 991, 997]\n15619\n"
     ]
    }
   ],
   "source": [
    "# Exercise 2\n",
    "\n",
    "#This algorith calculates prime numbers and collects them in a list.\n",
    "#It is trimmed for performance, especially when the integers get larger.\n",
    "integer = 2\n",
    "primes = []\n",
    "circles2 = 0\n",
    "while(integer < 1000):\n",
    "    j = 0\n",
    "    isPrimeNumber = True\n",
    "    while(j < len(primes) and isPrimeNumber):\n",
    "        #We only test if the current integer is divisible by any of the\n",
    "        #already collected prime numbers. If it is not divisible we have\n",
    "        #found a new prime number.\n",
    "        circles2 = circles2 + 1   #How often we check for a prime\n",
    "        if(integer % primes[j] == 0 and primes[j] < integer/2 + 1):\n",
    "            isPrimeNumber = False #Ensures an early exit of the loop\n",
    "        j = j + 1\n",
    "    \n",
    "    if(isPrimeNumber):\n",
    "        primes.append(integer) #Add the new prime number to the list\n",
    "    \n",
    "    integer = integer + 1\n",
    "\n",
    "print(primes)\n",
    "print(circles2)"
   ]
  },
  {
   "cell_type": "markdown",
   "metadata": {},
   "source": [
    "This greatly reduces the neccessery number of calculations and in turn saves time and memory."
   ]
  },
  {
   "cell_type": "code",
   "execution_count": 4,
   "metadata": {},
   "outputs": [
    {
     "output_type": "stream",
     "name": "stdout",
     "text": [
      "Without optimization: 248,502, with simple optimization: 15,619.\nWe saved 232,883 loops.\n"
     ]
    }
   ],
   "source": [
    "# Optimisation Check\n",
    "print(\"Without optimization: \" + format(circles1,\",\") + \", with simple optimization: \"+ format(circles2,\",\") + \".\")\n",
    "if circles1 > circles2:\n",
    "    print(\"We saved \" + format(circles1 - circles2,\",\") + \" loops.\")\n",
    "else:\n",
    "    print(\"Why even bother?\")"
   ]
  },
  {
   "cell_type": "markdown",
   "metadata": {},
   "source": [
    "### 2.C. Exercise 3 - Fibonacci in systems"
   ]
  },
  {
   "cell_type": "code",
   "execution_count": 5,
   "metadata": {},
   "outputs": [],
   "source": [
    "# Exercise 3\n",
    "import math\n",
    "\n",
    "def fibs_up_to(num1, num2, limit):\n",
    "    \"\"\"\n",
    "    return: Tuble\n",
    "    last two digits of the Fibonachi sequence up to limit\n",
    "    \"\"\"\n",
    "    num1b, num2b = num2, num2 + num1   # Fibonachi logic\n",
    "    if num2b < limit:                  # Recursive Condition\n",
    "        num1, num2 = fibs_up_to(num1b, num2b, limit) # Recursive Call\n",
    "    return num1, num2\n",
    "\n",
    "def tiles_area(x):\n",
    "    a, b = fibs_up_to(0, 1, x)         # fibonachi up to x\n",
    "    return (a*(a+b))                   # area formula square\n",
    "\n",
    "def fibs_sqrt(x):\n",
    "    counter = 0\n",
    "    Fibonacci_list = [0,1]\n",
    "    while counter <= x:\n",
    "        last = int(Fibonacci_list[len(Fibonacci_list)-1])\n",
    "        last_2 = int(Fibonacci_list[len(Fibonacci_list)-2])\n",
    "        current = last + last_2\n",
    "        root = math.sqrt(current)\n",
    "        if root%1 == 0:\n",
    "            if root**2 == current:               # testing if root is a real squareroot\n",
    "                print(current,int(root))         # print the number as well as the root        \n",
    "        Fibonacci_list.append(int(current))\n",
    "        counter += 1"
   ]
  },
  {
   "cell_type": "code",
   "execution_count": 6,
   "metadata": {},
   "outputs": [
    {
     "output_type": "stream",
     "name": "stdout",
     "text": [
      "45,765,226\n"
     ]
    }
   ],
   "source": [
    "print(format(tiles_area(10000), \",\"))"
   ]
  },
  {
   "cell_type": "code",
   "execution_count": 7,
   "metadata": {},
   "outputs": [
    {
     "output_type": "stream",
     "name": "stdout",
     "text": [
      "1 1\n144 12\n"
     ]
    }
   ],
   "source": [
    "fibs_sqrt(100)"
   ]
  },
  {
   "cell_type": "code",
   "execution_count": 8,
   "metadata": {},
   "outputs": [
    {
     "output_type": "stream",
     "name": "stdout",
     "text": [
      "214.41369860750336\n"
     ]
    }
   ],
   "source": [
    "# Area of the Fibonachi spiral\n",
    "\n",
    "# Area Formula for each square: math.pi * pow(num2,2) / 4\n",
    "\n",
    "# import math\n",
    "\n",
    "def spiral_area(num1, num2, limit):\n",
    "    area = 0\n",
    "    # Fibonachi logic\n",
    "    num1b, num2b = num2, num2 + num1\n",
    "    # Recursive Condition\n",
    "    if num2b < limit:\n",
    "        # Recursive Call\n",
    "        area = (math.pi * pow(num2, 2) / 4) + spiral_area(num1b, num2b, limit)\n",
    "    # Stop\n",
    "    return area\n",
    "\n",
    "print(spiral_area(0, 1, 23))"
   ]
  },
  {
   "cell_type": "markdown",
   "metadata": {},
   "source": [
    "### 2.D. Exercise 4 - Prime numbers and functions\n",
    "Written as a function, our aproach looks like this.\n",
    "\n",
    "This is still very much inefficent though, if you want to find out more about high-performance prime generation, check out D. J. Bernstein's: https://cr.yp.to/primegen.html and Daniel Scocco's: https://www.programminglogic.com/testing-if-a-number-is-prime-efficiently/ for more information.\n"
   ]
  },
  {
   "cell_type": "code",
   "execution_count": 9,
   "metadata": {},
   "outputs": [],
   "source": [
    "# Exercise 4\n",
    "\n",
    "from math import isqrt\n",
    "\n",
    "def is_prime(x):\n",
    "    \"\"\"\n",
    "    return: Boolean\n",
    "    True if prime, else False\n",
    "    \"\"\"\n",
    "    for i in range(2, isqrt(x) + 1, 1):\n",
    "        if x % i == 0:\n",
    "            return False\n",
    "    return True"
   ]
  },
  {
   "cell_type": "markdown",
   "metadata": {},
   "source": [
    "## 3. Results"
   ]
  },
  {
   "cell_type": "markdown",
   "metadata": {},
   "source": [
    "## 4. Discussion and application\n",
    "\n",
    "### Prime numbers in Cryptography - an example\n",
    "Find two primes with x digits."
   ]
  },
  {
   "cell_type": "code",
   "execution_count": 10,
   "metadata": {},
   "outputs": [],
   "source": [
    "from random import randint\n",
    "\n",
    "\n",
    "def set_of_random_ints(hero):\n",
    "    \"\"\"\n",
    "    finds two different numbers from 0 to hero (inclusive)\n",
    "    param: int\n",
    "    return: int, int\n",
    "    \"\"\"\n",
    "    a = randint(0, hero)\n",
    "    b = randint(0, hero)\n",
    "    if a == b:  # to guarantee two unique numbers\n",
    "        a, b = randint(hero)\n",
    "    return a, b\n",
    "\n",
    "\n",
    "def generate_primes(x):\n",
    "    \"\"\"\n",
    "    finds all primes with x digits and selects two at random\n",
    "    param: int\n",
    "    return: int, int\n",
    "    \"\"\"\n",
    "    sol = []\n",
    "    for i in range(pow(10, x), pow(10, x+1), 1): # pow(10, x) gives a number with x digits\n",
    "        if is_prime(i):\n",
    "            sol.append(i)\n",
    "    a, b = set_of_random_ints(len(sol)-1) # guarantee two unique numbers\n",
    "    return sol[a], sol[b]"
   ]
  },
  {
   "cell_type": "markdown",
   "metadata": {},
   "source": [
    "Find an e with 1 < e < φ ( N ) and where the greatest common divisor of e and φ ( N ) = 1."
   ]
  },
  {
   "cell_type": "code",
   "execution_count": 11,
   "metadata": {},
   "outputs": [],
   "source": [
    "# from random import randint as cryforhelp\n",
    "\n",
    "def gcd(a, b):\n",
    "    \"\"\"\n",
    "    eucledian algorithm by Hans Werner Lang, @https://www.inf.hs-flensburg.de/lang/index.htm\n",
    "    param: int, int\n",
    "    return: int\n",
    "    \"\"\"\n",
    "    while b != 0:\n",
    "        c = a % b\n",
    "        a = b\n",
    "        b = c\n",
    "    return a\n",
    "\n",
    "def find_e(phi_of_N):\n",
    "    \"\"\"\n",
    "    finds an random int with 1 < int < phi_of_N and where greatest common divisor of int and phi_of_N = 1\n",
    "    param: int\n",
    "    return: int\n",
    "    \"\"\"\n",
    "    e = []\n",
    "    for i in range(2, phi_of_N, 1):\n",
    "        if gcd(i, phi_of_N) == 1:\n",
    "            e.append(i)\n",
    "    return e[randint(0, len(e)-1)]"
   ]
  },
  {
   "cell_type": "markdown",
   "metadata": {},
   "source": [
    "Find a d with the values e and φ ( N ) that satisfies e x d - k x φ ( N ) = 1."
   ]
  },
  {
   "cell_type": "code",
   "execution_count": 12,
   "metadata": {},
   "outputs": [],
   "source": [
    "def extgcd(a, b):\n",
    "    \"\"\"\n",
    "    extended eucledian algorithm by Hans Werner Lang, @https://www.inf.hs-flensburg.de/lang/index.htm\n",
    "    solves: gcd(a,b) = s * a + t * b, returns gcd(a,b), s, t\n",
    "    param: int, int\n",
    "    return: int, int, int \n",
    "    \"\"\"\n",
    "    if b == 0:\n",
    "        return a, 1, 0\n",
    "    else:\n",
    "        g, u, v = extgcd(b, a % b)\n",
    "        q = a//b\n",
    "        return g, v, u-q*v\n",
    "        \n",
    "def find_d(e, phi_of_N):\n",
    "    \"\"\"\n",
    "    solve e * x - y * phi_of_N = 1 and return x\n",
    "    param: int, int\n",
    "    return: int\n",
    "    \"\"\"\n",
    "    gcd, s, t = extgcd(e, phi_of_N)\n",
    "    return s"
   ]
  },
  {
   "cell_type": "markdown",
   "metadata": {},
   "source": [
    "Now, generate your keys."
   ]
  },
  {
   "cell_type": "code",
   "execution_count": 13,
   "metadata": {},
   "outputs": [],
   "source": [
    "def rsa_keys(limit):\n",
    "    \"\"\"\n",
    "    takes in digits of prime numbers to be used\n",
    "    public key: {N, e}, private key: {q, p, N, phi_of_N, e, d}\n",
    "    param: int\n",
    "    return: dict, dict\n",
    "    \"\"\"\n",
    "    q, p = generate_primes(limit)\n",
    "    N, phi_of_N = q * p, (q-1) * (p-1)\n",
    "    e = find_e(phi_of_N)\n",
    "    d = find_d(e, phi_of_N)\n",
    "    public, private = {\"N\": N, \"e\": e}, {\"q\": q, \"p\": p, \"N\": N, \"phi_of_N\": phi_of_N, \"e\": e, \"d\": d}\n",
    "    if d < 1:\n",
    "        public, private = rsa_keys(limit)\n",
    "    return public, private"
   ]
  },
  {
   "cell_type": "markdown",
   "metadata": {},
   "source": [
    "This is how the RSA - encription works."
   ]
  },
  {
   "cell_type": "code",
   "execution_count": 14,
   "metadata": {},
   "outputs": [
    {
     "output_type": "stream",
     "name": "stdout",
     "text": [
      "secret: 39234\n",
      "message: 2649\n",
      "q  :  499\n",
      "p  :  179\n",
      "N  :  89321\n",
      "phi_of_N  :  88644\n",
      "e  :  33229\n",
      "d  :  6205\n"
     ]
    }
   ],
   "source": [
    "public, private = rsa_keys(2)\n",
    "\n",
    "message = 2649 # theoretical pin code\n",
    "\n",
    "secret = pow(message, public[\"e\"])%public[\"N\"]\n",
    "message = pow(secret, private[\"d\"])%private[\"N\"]\n",
    "\n",
    "print(\"secret: \"+ str(secret))\n",
    "print(\"message: \"+ str(message))\n",
    "\n",
    "for key, value in private.items():\n",
    "    print(key, ' : ', value)"
   ]
  },
  {
   "cell_type": "markdown",
   "metadata": {},
   "source": [
    "## 5. Summary and lookout\n",
    "\n",
    "All in all, prime numbers seem to play a pretty dominant role in our world, even though it may not be obvious at first. The consepts are mostly pretty simple, but most problems conserning primes do not seem to have smart solutions.\n",
    "\n",
    "Fibonacci numbers seem to play quite a large role in nature too. The fascinating thing about the Fibonacci sequence are not its practical applications simillar to primes, but rather its surprising talent to be hidden in seemingly random or incoherent patterns.\n",
    "\n",
    "But in order to find these coherencies we need to look for patterns and this will take time. Most likely prime and Fibonacci numbers are present in a few other fields as well, and these patterns we have yet to discover."
   ]
  },
  {
   "cell_type": "markdown",
   "metadata": {},
   "source": [
    "## 6. Appendices"
   ]
  }
 ],
 "metadata": {
  "kernelspec": {
   "name": "python392jvsc74a57bd086b7ff3cad48129fe2c74e38aa4d069dda00f9162f383ad625bb2610c7022dc5",
   "display_name": "Python 3.9.2 64-bit ('maths': venv)"
  },
  "language_info": {
   "codemirror_mode": {
    "name": "ipython",
    "version": 3
   },
   "file_extension": ".py",
   "mimetype": "text/x-python",
   "name": "python",
   "nbconvert_exporter": "python",
   "pygments_lexer": "ipython3",
   "version": "3.9.2"
  },
  "metadata": {
   "interpreter": {
    "hash": "ab6136e25ed48139b9b22565877a28e2a9ea9f3c01d11386ecccf6a8229f2420"
   }
  }
 },
 "nbformat": 4,
 "nbformat_minor": 4
}