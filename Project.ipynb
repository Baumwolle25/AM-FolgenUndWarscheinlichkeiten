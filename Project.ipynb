{
 "cells": [
  {
   "source": [
    "# Prime Numbers\n",
    "\n",
    "Prime numbers are natural numbers greater than 1 that is not a product of two natural numbers.\n",
    "A number n is prime if it is greater than 1 and no number 2,..n-1 divide n evenly.\n",
    "\n",
    "Exercise 1.1 calculates all primes smaler than x = 1,000.\n",
    "Every x between 1,000 and 2 is a prime if no y bigger than 2 and smaler than x/2 is able to divide x without reminder."
   ],
   "cell_type": "markdown",
   "metadata": {}
  },
  {
   "cell_type": "code",
   "execution_count": 1,
   "metadata": {},
   "outputs": [
    {
     "output_type": "stream",
     "name": "stdout",
     "text": [
      "[2, 3, 4, 5, 7, 11, 13, 17, 19, 23, 29, 31, 37, 41, 43, 47, 53, 59, 61, 67, 71, 73, 79, 83, 89, 97, 101, 103, 107, 109, 113, 127, 131, 137, 139, 149, 151, 157, 163, 167, 173, 179, 181, 191, 193, 197, 199, 211, 223, 227, 229, 233, 239, 241, 251, 257, 263, 269, 271, 277, 281, 283, 293, 307, 311, 313, 317, 331, 337, 347, 349, 353, 359, 367, 373, 379, 383, 389, 397, 401, 409, 419, 421, 431, 433, 439, 443, 449, 457, 461, 463, 467, 479, 487, 491, 499, 503, 509, 521, 523, 541, 547, 557, 563, 569, 571, 577, 587, 593, 599, 601, 607, 613, 617, 619, 631, 641, 643, 647, 653, 659, 661, 673, 677, 683, 691, 701, 709, 719, 727, 733, 739, 743, 751, 757, 761, 769, 773, 787, 797, 809, 811, 821, 823, 827, 829, 839, 853, 857, 859, 863, 877, 881, 883, 887, 907, 911, 919, 929, 937, 941, 947, 953, 967, 971, 977, 983, 991, 997]\n247506\n"
     ]
    }
   ],
   "source": [
    "# Exercise 1.1\n",
    "\n",
    "sol = []\n",
    "circles1 = 0\n",
    "for i in range(2, 1000, 1):             # start, stop, step\n",
    "    prime = True\n",
    "    for j in range(2, int(i/2), 1):\n",
    "        circles1 += 1                   # how often we check for a prime\n",
    "        if i % j == 0:                  # is there a number that divides i?\n",
    "            prime = False\n",
    "    if prime:\n",
    "        sol.append(i)\n",
    "print(sol)\n",
    "print(circles1)"
   ]
  },
  {
   "source": [
    "In case the program finds a y bigger than 2 and smaler than x/2 that divides x without reminder, we can define x as a composite number immediatly."
   ],
   "cell_type": "markdown",
   "metadata": {}
  },
  {
   "source": [
    "# Exercise 1.2\n",
    "\n",
    "sol = []\n",
    "circles2 = 0\n",
    "for i in range(2, 1000, 1):\n",
    "    prime = True\n",
    "    for j in range(2, int(i/2), 1):\n",
    "        circles2 += 1\n",
    "        if i % j == 0:\n",
    "            prime = False\n",
    "            break                       # not a prime no more runs\n",
    "    if prime:\n",
    "        sol.append(i)\n",
    "print(sol)\n",
    "print(circles2)"
   ],
   "cell_type": "code",
   "metadata": {},
   "execution_count": 2,
   "outputs": [
    {
     "output_type": "stream",
     "name": "stdout",
     "text": [
      "[2, 3, 4, 5, 7, 11, 13, 17, 19, 23, 29, 31, 37, 41, 43, 47, 53, 59, 61, 67, 71, 73, 79, 83, 89, 97, 101, 103, 107, 109, 113, 127, 131, 137, 139, 149, 151, 157, 163, 167, 173, 179, 181, 191, 193, 197, 199, 211, 223, 227, 229, 233, 239, 241, 251, 257, 263, 269, 271, 277, 281, 283, 293, 307, 311, 313, 317, 331, 337, 347, 349, 353, 359, 367, 373, 379, 383, 389, 397, 401, 409, 419, 421, 431, 433, 439, 443, 449, 457, 461, 463, 467, 479, 487, 491, 499, 503, 509, 521, 523, 541, 547, 557, 563, 569, 571, 577, 587, 593, 599, 601, 607, 613, 617, 619, 631, 641, 643, 647, 653, 659, 661, 673, 677, 683, 691, 701, 709, 719, 727, 733, 739, 743, 751, 757, 761, 769, 773, 787, 797, 809, 811, 821, 823, 827, 829, 839, 853, 857, 859, 863, 877, 881, 883, 887, 907, 911, 919, 929, 937, 941, 947, 953, 967, 971, 977, 983, 991, 997]\n39875\n"
     ]
    }
   ]
  },
  {
   "source": [
    "This reduces the neccessery number of calculations and in turn saves time and memory."
   ],
   "cell_type": "markdown",
   "metadata": {}
  },
  {
   "cell_type": "code",
   "execution_count": 3,
   "metadata": {},
   "outputs": [
    {
     "output_type": "stream",
     "name": "stdout",
     "text": [
      "Without optimization: 247,506, with simple optimization: 39,875.\nWe saved 207,631 loops.\n"
     ]
    }
   ],
   "source": [
    "# Optimisation Check\n",
    "print(\"Without optimization: \" + format(circles1,\",\") + \", with simple optimization: \"+ format(circles2,\",\") + \".\")\n",
    "if circles1 > circles2:\n",
    "    print(\"We saved \" + format(circles1 - circles2,\",\") + \" loops.\")\n",
    "else:\n",
    "    print(\"Why even bother?\")"
   ]
  },
  {
   "source": [
    "Written as a function, our aproach looks like this."
   ],
   "cell_type": "markdown",
   "metadata": {}
  },
  {
   "cell_type": "code",
   "execution_count": 4,
   "metadata": {},
   "outputs": [],
   "source": [
    "# Exercise 1.4\n",
    "\n",
    "def is_prime(x):\n",
    "    \"\"\"\n",
    "    return: Boolean\n",
    "    True if prime, else False\n",
    "    \"\"\"\n",
    "    for i in range(2, int(x/2), 1):\n",
    "        if x % i == 0:\n",
    "            return False\n",
    "    return True"
   ]
  },
  {
   "source": [
    "## Prime Numbers in Cryptography\n",
    "\n",
    "Prime numbers are used in cryptographic algorithms, particularly in RSA (Rivest - Shamir - Adlerman). RSA is asymetric, meaning while how to encode messages for the reciever is public kwnoledge, only the reciever itself knows how to deciver that message. Contrary to symetric encodings like the enigma, where both the sender and the reciever had to posses kwnoledge of a designatet de- and encryption process, no prior agreements between sender and reciever need be made than a broad understanding of the RSA - encryption.\n",
    "\n",
    "\n",
    "### The Process\n",
    "1. Select to prime numbers q and p.\n",
    "2. Let N = q x p and φ ( N ) = ( p - 1 ) ( q - 1 ).\n",
    "3. Choose an e with 1 < e < φ ( N ) and where the greatest common divisor of e and φ ( N ) = 1.\n",
    "4. Calculate a d with the values e and φ ( N ) that satisfies e x d - k x φ ( N ) = 1. There is only one possible solution. The variable k is calculated but not needed.\n",
    "5. To encode a number: G = (T^e) % N\n",
    "6. To decode a number: T = (G^d) % N\n",
    "\n",
    "### Why does it work?\n",
    "The private key (d, N) cannot be constructed from the publik key (e, N) without considerable effort.\n",
    "To calculate d, φ ( N ) is needed. Finding q and p from N takes longer the larger numbers are used.\n",
    "Should someone find φ ( N ), the message can be decoded, but since the process is asymetric every message can simply be encoded slightly different, making long term communication fast, as easy as possible and as secure as possible.\n",
    "\n",
    "Sources:    Christian Spannagel 2012, zur Verfügung gestellt von der Technischen Informationsbibliothek: <br>\n",
    "            https://doi.org/10.5446/19815, <br>\n",
    "            https://doi.org/10.5446/19816, <br>\n",
    "            https://doi.org/10.5446/19817, <br>\n",
    "            https://doi.org/10.5446/19813, <br>\n",
    "            https://doi.org/10.5446/19814, <br>\n",
    "            https://www.inf.hs-flensburg.de/lang/krypto/algo/euklid.htm <br>\n",
    "\n",
    "### An Example\n",
    "Find two primes with x digits."
   ],
   "cell_type": "markdown",
   "metadata": {}
  },
  {
   "cell_type": "code",
   "execution_count": 5,
   "metadata": {},
   "outputs": [],
   "source": [
    "from random import randint as cryforhelp\n",
    "\n",
    "\n",
    "def set_of_random_ints(hero):\n",
    "    \"\"\"\n",
    "    finds two different numbers from 0 to hero (inclusive)\n",
    "    param: int\n",
    "    return: int, int\n",
    "    \"\"\"\n",
    "    a = cryforhelp(0, hero)\n",
    "    b = cryforhelp(0, hero)\n",
    "    if a is b:\n",
    "        a, b = set_of_random_ints(hero)\n",
    "    return a, b\n",
    "\n",
    "\n",
    "def is_prime(x):\n",
    "    \"\"\"\n",
    "    True if prime, else False\n",
    "    param: int\n",
    "    return: Boolean\n",
    "    \"\"\"\n",
    "    for i in range(2, int(x/2), 1):\n",
    "        if x % i == 0:\n",
    "            return False\n",
    "    return True\n",
    "\n",
    "\n",
    "def generate_primes(x):\n",
    "    \"\"\"\n",
    "    finds all primes with x digits and selects two at random\n",
    "    param: int\n",
    "    return: int, int\n",
    "    \"\"\"\n",
    "    sol = []\n",
    "    for i in range(pow(10, x), pow(10, x+1), 1):\n",
    "        if is_prime(i):\n",
    "            sol.append(i)\n",
    "    a, b = set_of_random_ints(len(sol)-1)\n",
    "    return sol[a], sol[b]"
   ]
  },
  {
   "source": [
    "Find an e with 1 < e < φ ( N ) and where the greatest common divisor of e and φ ( N ) = 1."
   ],
   "cell_type": "markdown",
   "metadata": {}
  },
  {
   "cell_type": "code",
   "execution_count": 6,
   "metadata": {},
   "outputs": [],
   "source": [
    "# from random import randint as cryforhelp\n",
    "\n",
    "def gcd(a, b):\n",
    "    \"\"\"\n",
    "    eucledian algorithm\n",
    "    param: int, int\n",
    "    return: int\n",
    "    \"\"\"\n",
    "    while b != 0:\n",
    "        c = a % b\n",
    "        a = b\n",
    "        b = c\n",
    "    return a\n",
    "\n",
    "def find_that_e(phi_of_N):\n",
    "    \"\"\"\n",
    "    finds an random int with 1 < int < phi_of_N and where greatest common divisor of int and phi_of_N = 1\n",
    "    param: int\n",
    "    return: int\n",
    "    \"\"\"\n",
    "    e = []\n",
    "    for i in range(2, phi_of_N, 1):\n",
    "        if gcd(i, phi_of_N) == 1:\n",
    "            e.append(i)\n",
    "    return e[cryforhelp(0, len(e)-1)]"
   ]
  },
  {
   "source": [
    "Find a d with the values e and φ ( N ) that satisfies e x d - k x φ ( N ) = 1."
   ],
   "cell_type": "markdown",
   "metadata": {}
  },
  {
   "cell_type": "code",
   "execution_count": 7,
   "metadata": {},
   "outputs": [],
   "source": [
    "def extgcd(a, b):\n",
    "    \"\"\"\n",
    "    extended eucledian algorithm\n",
    "    solves: gcd(a,b) = s * a + t * b, returns gcd(a,b), s, t\n",
    "    param: int, int\n",
    "    return: int, int, int \n",
    "    \"\"\"\n",
    "    if b == 0:\n",
    "        return a, 1, 0\n",
    "    else:\n",
    "        g, u, v = extgcd(b, a % b)\n",
    "        q = a//b\n",
    "        return g, v, u-q*v\n",
    "        \n",
    "def gim_e_the_D(e, phi_of_N):\n",
    "    \"\"\"\n",
    "    solve e * x - y * phi_of_N = 1 and return x\n",
    "    param: int, int\n",
    "    return: int\n",
    "    \"\"\"\n",
    "    gcd, s, t = extgcd(e, phi_of_N)\n",
    "    return s"
   ]
  },
  {
   "source": [
    "Now, generate your keys."
   ],
   "cell_type": "markdown",
   "metadata": {}
  },
  {
   "cell_type": "code",
   "execution_count": 8,
   "metadata": {},
   "outputs": [],
   "source": [
    "def rsa_keys(unlimited_power):\n",
    "    \"\"\"\n",
    "    takes in digits of prime numbers to be used\n",
    "    public key: {N, e}, private key: {q, p, N, phi_of_N, e, d}\n",
    "    param: int\n",
    "    return: dict, dict\n",
    "    \"\"\"\n",
    "    q, p = generate_primes(unlimited_power)\n",
    "    N, phi_of_N = q * p, (q-1) * (p-1)\n",
    "    e = find_that_e(phi_of_N)\n",
    "    d = gim_e_the_D(e, phi_of_N)\n",
    "    return {\"N\": N, \"e\": e}, {\"q\": q, \"p\": p, \"N\": N, \"phi_of_N\": phi_of_N, \"e\": e, \"d\": d}"
   ]
  },
  {
   "source": [
    "This is how the RSA - encription works."
   ],
   "cell_type": "markdown",
   "metadata": {}
  },
  {
   "cell_type": "code",
   "execution_count": 9,
   "metadata": {},
   "outputs": [
    {
     "output_type": "stream",
     "name": "stdout",
     "text": [
      "secret: 14418789\nmessage: 2\nq  :  7213\np  :  3011\nN  :  21718343\nphi_of_N  :  21708120\ne  :  1759729\nd  :  3274249\n"
     ]
    }
   ],
   "source": [
    "public, private = rsa_keys(3)\n",
    "\n",
    "message = 2\n",
    "\n",
    "secret = pow(message, public[\"e\"])%public[\"N\"]\n",
    "message = pow(secret, private[\"d\"])%private[\"N\"]\n",
    "\n",
    "print(\"secret: \"+ str(secret))\n",
    "print(\"message: \"+ str(message))\n",
    "\n",
    "for key, value in private.items():\n",
    "    print(key, ' : ', value)"
   ]
  },
  {
   "source": [
    "## Prime Numbers in Nature\n",
    "\n",
    "Singing cicadas live in the United States and only mate every 13 or 17 years. For example, the American Magicicada septendecim only leaves its underground hiding place after exactly 17 years in order to reproduce within a period of about three weeks. The larvae that hatch from the eggs live underground until they crawl to the surface of the earth almost on the same day in 17 years. A Chilean-German research team has found out why it only crawls out of its underground hiding place after 17 years. 13 and 17 are prime numbers. Since their enemies and competitors usually live in 2, 4 or 6 year rhythms, the cicadas can increase their chances of survival by reproducing in the “low birth” cohorts of their predators. During their short aboveground life from mid-May to June, the cicadas do not cause any damage despite their massive occurrence.\n",
    "\n",
    "Source:  Gene Kritsky, PhD, Periodical Cicadas: The Brood X Edition, <br> https://www.amazon.com/gp/product/B08X3XKRW7/ref=as_li_tl?ie=UTF8&camp=1789&creative=9325&creativeASIN=B08X3XKRW7&linkCode=as2&tag=cicadamania-20&linkId=1b83fa112465e182eabdfa1616119d8f"
   ],
   "cell_type": "markdown",
   "metadata": {}
  },
  {
   "source": [
    "# Fibonachi"
   ],
   "cell_type": "markdown",
   "metadata": {}
  },
  {
   "source": [
    "## Fibonacci in nature\n",
    "The Fibonacci number is very prevalant in Nature and as so can be seen in many examples throughout.\n",
    "One good example of this is the seed arrangement of sunflowers as they resemble the Fibonacci numbers in the count of seeds, \n",
    "as they form a spiral pattern from the middle outwards. This can be achieved by dividing the spirals into the left and right through wich two Fibonacci numbers can be seen.\n",
    "Source: Can Akdeniz, The Fibonacci Sequence, https://www.google.de/books/edition/The_Fibonacci_Sequence/E9SDDwAAQBAJ?hl=de&gbpv=0"
   ],
   "cell_type": "markdown",
   "metadata": {}
  },
  {
   "cell_type": "code",
   "execution_count": 10,
   "metadata": {},
   "outputs": [],
   "source": [
    "# Exercise 1.3\n",
    "\n",
    "def fibs_up_to(num1, num2, limit):\n",
    "    \"\"\"\n",
    "    return: Tuble\n",
    "    last two digits of the Fibonachi sequence up to limit\n",
    "    \"\"\"\n",
    "    num1b, num2b = num2, num2 + num1   # Fibonachi logic\n",
    "    if num2b < limit:                  # Recursive Condition\n",
    "        num1, num2 = fibs_up_to(num1b, num2b, limit) # Recursive Call\n",
    "    return num1, num2\n",
    "\n",
    "def tiles_area(x):\n",
    "    a, b = fibs_up_to(0, 1, x)         # fibonachi up to x\n",
    "    return (a*(a+b))                   # area formula square"
   ]
  },
  {
   "cell_type": "code",
   "execution_count": 11,
   "metadata": {},
   "outputs": [
    {
     "output_type": "stream",
     "name": "stdout",
     "text": [
      "45,765,226\n"
     ]
    }
   ],
   "source": [
    "print(format(tiles_area(10000), \",\"))"
   ]
  },
  {
   "cell_type": "code",
   "execution_count": 12,
   "metadata": {},
   "outputs": [
    {
     "output_type": "stream",
     "name": "stdout",
     "text": [
      "214.41369860750336\n"
     ]
    }
   ],
   "source": [
    "# Area of the Fibonachi spiral\n",
    "\n",
    "# Area Formula for each square: math.pi * pow(num2,2) / 4\n",
    "\n",
    "import math\n",
    "\n",
    "def spiral_area(num1, num2, limit):\n",
    "    area = 0\n",
    "    # Fibonachi logic\n",
    "    num1b, num2b = num2, num2 + num1\n",
    "    # Recursive Condition\n",
    "    if num2b < limit:\n",
    "        # Recursive Call\n",
    "        area = (math.pi * pow(num2, 2) / 4) + spiral_area(num1b, num2b, limit)\n",
    "    # Stop\n",
    "    return area\n",
    "\n",
    "print(spiral_area(0, 1, 23))"
   ]
  },
  {
   "source": [
    "Recherchieren Sie je ein Beispiel für Anwendung von Primzahlen in der Informatik und in der Natur und stellen Sie es kurz ca. 1/4 Seite plus Diagramme oder Bilder. Zitieren Sie Ihre Quellen.\n",
    "\n",
    "Recherchieren Sie je ein weiteres Beispiel der Fibbonacci Fliesen/Spiralen in Natur und Infomatik (Mathematik) und stellen Sie es kurz dar."
   ],
   "cell_type": "markdown",
   "metadata": {}
  }
 ],
 "metadata": {
  "kernelspec": {
   "name": "python392jvsc74a57bd0ab6136e25ed48139b9b22565877a28e2a9ea9f3c01d11386ecccf6a8229f2420",
   "display_name": "Python 3.9.2 64-bit"
  },
  "metadata": {
   "interpreter": {
    "hash": "ab6136e25ed48139b9b22565877a28e2a9ea9f3c01d11386ecccf6a8229f2420"
   }
  }
 },
 "nbformat": 4,
 "nbformat_minor": 4
}