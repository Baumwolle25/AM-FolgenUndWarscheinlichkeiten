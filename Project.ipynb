{
 "cells": [
  {
   "cell_type": "markdown",
   "metadata": {},
   "source": [
    "# Prime Numbers\n",
    "\n",
    "Prime numbers are natural numbers greater than 1 that is not a product of two natural numbers.\n",
    "A number n is prime if it is greater than 1 and no number 2,3,..n-1 divide n evenly.\n",
    "\n",
    "Exercise 1.1 calculates all primes smaler than x = 1,000.\n",
    "Every x between 1,000 and 2 is a prime if no y bigger than 2 and smaler than x/2 is able to divide x without reminder.\n",
    "\n",
    "![flowchart_primes](flowchart_primes.png)\n"
   ]
  },
  {
   "cell_type": "code",
   "execution_count": 1,
   "metadata": {},
   "outputs": [
    {
     "name": "stdout",
     "output_type": "stream",
     "text": [
      "[2, 3, 5, 7, 11, 13, 17, 19, 23, 29, 31, 37, 41, 43, 47, 53, 59, 61, 67, 71, 73, 79, 83, 89, 97, 101, 103, 107, 109, 113, 127, 131, 137, 139, 149, 151, 157, 163, 167, 173, 179, 181, 191, 193, 197, 199, 211, 223, 227, 229, 233, 239, 241, 251, 257, 263, 269, 271, 277, 281, 283, 293, 307, 311, 313, 317, 331, 337, 347, 349, 353, 359, 367, 373, 379, 383, 389, 397, 401, 409, 419, 421, 431, 433, 439, 443, 449, 457, 461, 463, 467, 479, 487, 491, 499, 503, 509, 521, 523, 541, 547, 557, 563, 569, 571, 577, 587, 593, 599, 601, 607, 613, 617, 619, 631, 641, 643, 647, 653, 659, 661, 673, 677, 683, 691, 701, 709, 719, 727, 733, 739, 743, 751, 757, 761, 769, 773, 787, 797, 809, 811, 821, 823, 827, 829, 839, 853, 857, 859, 863, 877, 881, 883, 887, 907, 911, 919, 929, 937, 941, 947, 953, 967, 971, 977, 983, 991, 997]\n",
      "248502\n"
     ]
    }
   ],
   "source": [
    "# Exercise 1.1\n",
    "\n",
    "sol = []\n",
    "circles1 = 0\n",
    "for i in range(2, 1000, 1):             # start, stop, step\n",
    "    prime = True\n",
    "    for j in range(2, int(i/2) + 1, 1):\n",
    "        circles1 += 1                   # how often we check for a prime\n",
    "        if i % j == 0:                  # is there a number that divides i?\n",
    "            prime = False\n",
    "    if prime:\n",
    "        sol.append(i)\n",
    "print(sol)\n",
    "print(circles1)"
   ]
  },
  {
   "cell_type": "markdown",
   "metadata": {},
   "source": [
    "In case the program finds a y bigger than 2 and smaler than x/2 that divides x without reminder, we can define x as a composite number immediatly for increased performance.\n",
    "<br><br>\n",
    "This aproach will take more and more time the more x and y grows. To save even more computing power we use our already found prime numbers to search for large numbers that are not divisable by those primes. We use prime factorization. This saves many more calculations since we do not divide by even numbers exept 2 and other unneccesesary numbers."
   ]
  },
  {
   "cell_type": "code",
   "execution_count": 10,
   "metadata": {},
   "outputs": [
    {
     "output_type": "stream",
     "name": "stdout",
     "text": [
      "[2, 3, 4, 5, 7, 11, 13, 17, 19, 23, 29, 31, 37, 41, 43, 47, 53, 59, 61, 67, 71, 73, 79, 83, 89, 97, 101, 103, 107, 109, 113, 127, 131, 137, 139, 149, 151, 157, 163, 167, 173, 179, 181, 191, 193, 197, 199, 211, 223, 227, 229, 233, 239, 241, 251, 257, 263, 269, 271, 277, 281, 283, 293, 307, 311, 313, 317, 331, 337, 347, 349, 353, 359, 367, 373, 379, 383, 389, 397, 401, 409, 419, 421, 431, 433, 439, 443, 449, 457, 461, 463, 467, 479, 487, 491, 499, 503, 509, 521, 523, 541, 547, 557, 563, 569, 571, 577, 587, 593, 599, 601, 607, 613, 617, 619, 631, 641, 643, 647, 653, 659, 661, 673, 677, 683, 691, 701, 709, 719, 727, 733, 739, 743, 751, 757, 761, 769, 773, 787, 797, 809, 811, 821, 823, 827, 829, 839, 853, 857, 859, 863, 877, 881, 883, 887, 907, 911, 919, 929, 937, 941, 947, 953, 967, 971, 977, 983, 991, 997]\n"
     ]
    }
   ],
   "source": [
    "# Exercise 1.2\n",
    "\n",
    "#This algorith calculates prime numbers and collects them in a list.\n",
    "#It is trimmed for performance, especially when the integers get larger.\n",
    "integer = 3\n",
    "primes = [2]\n",
    "circles2 = 0\n",
    "while(integer < 1000):\n",
    "    j = 0\n",
    "    isPrimeNumber = True\n",
    "    while(j < len(primes) and isPrimeNumber):\n",
    "        #We only test if the current integer is divisible by any of the\n",
    "        #already collected prime numbers. If it is not divisible we have\n",
    "        #found a new prime number.\n",
    "        circles2 = circles2 + 1   #How often we check for a prime\n",
    "        if(integer % primes[j] == 0 and primes[j] < integer/2):\n",
    "            isPrimeNumber = False #Ensures an early exit of the loop\n",
    "        j = j + 1\n",
    "    \n",
    "    if(isPrimeNumber):\n",
    "        primes.append(integer) #Add the new prime number to the list\n",
    "    \n",
    "    integer = integer + 1\n",
    "\n",
    "print(primes)"
   ]
  },
  {
   "cell_type": "markdown",
   "metadata": {},
   "source": [
    "This reduces the neccessery number of calculations and in turn saves time and memory."
   ]
  },
  {
   "cell_type": "code",
   "execution_count": 7,
   "metadata": {},
   "outputs": [
    {
     "name": "stdout",
     "output_type": "stream",
     "text": [
      "Without optimization: 248,502, with simple optimization: 16,453.\n",
      "We saved 232,049 loops.\n"
     ]
    }
   ],
   "source": [
    "# Optimisation Check\n",
    "print(\"Without optimization: \" + format(circles1,\",\") + \", with simple optimization: \"+ format(circles2,\",\") + \".\")\n",
    "if circles1 > circles2:\n",
    "    print(\"We saved \" + format(circles1 - circles2,\",\") + \" loops.\")\n",
    "else:\n",
    "    print(\"Why even bother?\")"
   ]
  },
  {
   "cell_type": "markdown",
   "metadata": {},
   "source": [
    "Written as a function, our aproach looks like this.\n",
    "\n",
    "This is still very much inefficent though, if you want to find out more about high-performance prime generation, check out https://cr.yp.to/primegen.html and https://www.programminglogic.com/testing-if-a-number-is-prime-efficiently/ for more information."
   ]
  },
  {
   "cell_type": "code",
   "execution_count": 1,
   "metadata": {},
   "outputs": [],
   "source": [
    "# Exercise 1.4\n",
    "from math import isqrt\n",
    "\n",
    "def is_prime(x):\n",
    "    \"\"\"\n",
    "    return: Boolean\n",
    "    True if prime, else False\n",
    "    \"\"\"\n",
    "    for i in range(2, isqrt(x) + 1, 1):\n",
    "        if x % i == 0:\n",
    "            return False\n",
    "    return True"
   ]
  },
  {
   "cell_type": "markdown",
   "metadata": {},
   "source": [
    "## Prime Numbers in Cryptography\n",
    "\n",
    "Prime numbers are used in cryptographic algorithms, particularly in RSA (Rivest - Shamir - Adlerman). RSA is asymetric, meaning while how to encode messages for the reciever is public kwnoledge, only the reciever itself knows how to deciver that message. Contrary to symetric encodings like the enigma, where both the sender and the reciever had to posses kwnoledge of a designatet de- and encryption process, no prior agreements between sender and reciever need be made than a broad understanding of the RSA - encryption.\n",
    "\n",
    "\n",
    "### The Process\n",
    "1. Select to prime numbers q and p.\n",
    "2. Let N = q x p and φ ( N ) = ( p - 1 ) x ( q - 1 ).\n",
    "3. Choose an e with 1 < e < φ ( N ) and where the greatest common divisor of e and φ ( N ) = 1.\n",
    "4. Calculate a d with the values e and φ ( N ) that satisfies e x d - k x φ ( N ) = 1. There is only one possible solution. The variable k is calculated but not needed.\n",
    "5. To encode a number: G = (T^e) % N\n",
    "6. To decode a number: T = (G^d) % N\n",
    "\n",
    "### Why does it work?\n",
    "(((T^e) % N)^d) % N = T <br>\n",
    "The private key (d, N) cannot be constructed from the publik key (e, N) without considerable effort.\n",
    "To calculate d, φ ( N ) is needed. Finding q and p from N takes longer the larger numbers are used.\n",
    "Should someone find φ ( N ), the message can be decoded, but since the process is asymetric every message can simply be encoded slightly different, making long term communication fast, as easy as possible and as secure as possible.\n",
    "\n",
    "### Possible problems\n",
    "This algorithm depends on the lack of understanding about prime numbers. If that chages, major parts of the internet are not secure anymore. Also, the encrytion does not change the pattern of the message, so a black-and-white image still shows the same shapes. Techniques like Alphabetical Probability are still able to find possible matches faster, the bigger the message gets.\n",
    "\n",
    "Sources:    Christian Spannagel 2012, zur Verfügung gestellt von der Technischen Informationsbibliothek: <br>\n",
    "            https://doi.org/10.5446/19815, <br>\n",
    "            https://doi.org/10.5446/19816, <br>\n",
    "            https://doi.org/10.5446/19817, <br>\n",
    "            https://doi.org/10.5446/19813, <br>\n",
    "            https://doi.org/10.5446/19814, <br>\n",
    "            https://www.inf.hs-flensburg.de/lang/krypto/algo/euklid.htm <br>\n",
    "\n",
    "### An Example\n",
    "Find two primes with x digits."
   ]
  },
  {
   "cell_type": "code",
   "execution_count": null,
   "metadata": {},
   "outputs": [],
   "source": [
    "from random import randint as cryforhelp\n",
    "\n",
    "\n",
    "def set_of_random_ints(hero):\n",
    "    \"\"\"\n",
    "    finds two different numbers from 0 to hero (inclusive)\n",
    "    param: int\n",
    "    return: int, int\n",
    "    \"\"\"\n",
    "    a = cryforhelp(0, hero)\n",
    "    b = cryforhelp(0, hero)\n",
    "    if a == b:  # to guarantee two unique numbers\n",
    "        a, b = set_of_random_ints(hero)\n",
    "    return a, b\n",
    "\n",
    "\n",
    "def generate_primes(x):\n",
    "    \"\"\"\n",
    "    finds all primes with x digits and selects two at random\n",
    "    param: int\n",
    "    return: int, int\n",
    "    \"\"\"\n",
    "    sol = []\n",
    "    for i in range(pow(10, x), pow(10, x+1), 1): # pow(10, x) gives a number with x digits\n",
    "        if is_prime(i):\n",
    "            sol.append(i)\n",
    "    a, b = set_of_random_ints(len(sol)-1) # guarantee two unique numbers\n",
    "    return sol[a], sol[b]"
   ]
  },
  {
   "cell_type": "markdown",
   "metadata": {},
   "source": [
    "Find an e with 1 < e < φ ( N ) and where the greatest common divisor of e and φ ( N ) = 1."
   ]
  },
  {
   "cell_type": "code",
   "execution_count": null,
   "metadata": {},
   "outputs": [],
   "source": [
    "# from random import randint as cryforhelp\n",
    "\n",
    "def gcd(a, b):\n",
    "    \"\"\"\n",
    "    eucledian algorithm\n",
    "    param: int, int\n",
    "    return: int\n",
    "    \"\"\"\n",
    "    while b != 0:\n",
    "        c = a % b\n",
    "        a = b\n",
    "        b = c\n",
    "    return a\n",
    "\n",
    "def find_that_e(phi_of_N):\n",
    "    \"\"\"\n",
    "    finds an random int with 1 < int < phi_of_N and where greatest common divisor of int and phi_of_N = 1\n",
    "    param: int\n",
    "    return: int\n",
    "    \"\"\"\n",
    "    e = []\n",
    "    for i in range(2, phi_of_N, 1):\n",
    "        if gcd(i, phi_of_N) == 1:\n",
    "            e.append(i)\n",
    "    return e[cryforhelp(0, len(e)-1)]"
   ]
  },
  {
   "cell_type": "markdown",
   "metadata": {},
   "source": [
    "Find a d with the values e and φ ( N ) that satisfies e x d - k x φ ( N ) = 1."
   ]
  },
  {
   "cell_type": "code",
   "execution_count": null,
   "metadata": {},
   "outputs": [],
   "source": [
    "def extgcd(a, b):\n",
    "    \"\"\"\n",
    "    extended eucledian algorithm\n",
    "    solves: gcd(a,b) = s * a + t * b, returns gcd(a,b), s, t\n",
    "    param: int, int\n",
    "    return: int, int, int \n",
    "    \"\"\"\n",
    "    if b == 0:\n",
    "        return a, 1, 0\n",
    "    else:\n",
    "        g, u, v = extgcd(b, a % b)\n",
    "        q = a//b\n",
    "        return g, v, u-q*v\n",
    "        \n",
    "def gim_e_the_D(e, phi_of_N):\n",
    "    \"\"\"\n",
    "    solve e * x - y * phi_of_N = 1 and return x\n",
    "    param: int, int\n",
    "    return: int\n",
    "    \"\"\"\n",
    "    gcd, s, t = extgcd(e, phi_of_N)\n",
    "    return s"
   ]
  },
  {
   "cell_type": "markdown",
   "metadata": {},
   "source": [
    "Now, generate your keys."
   ]
  },
  {
   "cell_type": "code",
   "execution_count": null,
   "metadata": {},
   "outputs": [],
   "source": [
    "def rsa_keys(unlimited_power):\n",
    "    \"\"\"\n",
    "    takes in digits of prime numbers to be used\n",
    "    public key: {N, e}, private key: {q, p, N, phi_of_N, e, d}\n",
    "    param: int\n",
    "    return: dict, dict\n",
    "    \"\"\"\n",
    "    q, p = generate_primes(unlimited_power)\n",
    "    N, phi_of_N = q * p, (q-1) * (p-1)\n",
    "    e = find_that_e(phi_of_N)\n",
    "    d = gim_e_the_D(e, phi_of_N)\n",
    "    public, private = {\"N\": N, \"e\": e}, {\"q\": q, \"p\": p,\n",
    "                                         \"N\": N, \"phi_of_N\": phi_of_N, \"e\": e, \"d\": d}\n",
    "    if d < 1:\n",
    "        public, private = rsa_keys(unlimited_power)\n",
    "    return public, private"
   ]
  },
  {
   "cell_type": "markdown",
   "metadata": {},
   "source": [
    "This is how the RSA - encription works."
   ]
  },
  {
   "cell_type": "code",
   "execution_count": null,
   "metadata": {},
   "outputs": [],
   "source": [
    "public, private = rsa_keys(2)\n",
    "\n",
    "message = 2649 # theoretical pin code\n",
    "\n",
    "secret = pow(message, public[\"e\"])%public[\"N\"]\n",
    "message = pow(secret, private[\"d\"])%private[\"N\"]\n",
    "\n",
    "print(\"secret: \"+ str(secret))\n",
    "print(\"message: \"+ str(message))\n",
    "\n",
    "for key, value in private.items():\n",
    "    print(key, ' : ', value)"
   ]
  },
  {
   "cell_type": "markdown",
   "metadata": {},
   "source": [
    "## Prime Numbers in Nature"
   ]
  },
  {
   "cell_type": "code",
   "execution_count": null,
   "metadata": {},
   "outputs": [],
   "source": [
    "## do a plot here that shows cicadas vs predator reproduction cycle\n",
    "\n",
    "import matplotlib.pyplot as plt\n",
    "\n",
    "\n",
    "def life_cycle(interval, growth, decline):\n",
    "    life = []\n",
    "    populus = 10\n",
    "    for i in range(50):\n",
    "        if i%interval == 0:\n",
    "            populus *= growth\n",
    "        else:\n",
    "            populus -= decline\n",
    "        if populus < 10:\n",
    "            populus = 10\n",
    "        life.append(populus)\n",
    "    return life\n",
    "\n",
    "\n",
    "cicadas = life_cycle(13, 3, 10)\n",
    "enemy1 = life_cycle(4, 2, 8)\n",
    "enemy2 = life_cycle(6, 2, 6)\n",
    "\n",
    "fig = plt.figure()\n",
    "ax = fig.add_subplot(1, 1, 1)\n",
    "\n",
    "ax.spines['left'].set_position('zero')\n",
    "ax.spines['bottom'].set_position('zero')\n",
    "ax.spines['right'].set_color('none')\n",
    "ax.spines['top'].set_color('none')\n",
    "ax.xaxis.set_ticks_position('bottom')\n",
    "ax.yaxis.set_ticks_position('left')\n",
    "\n",
    "plt.plot(cicadas,'r', label='cicadas')\n",
    "plt.plot(enemy1,'b', label='enemy1')\n",
    "plt.plot(enemy2,'c', label='enemy2')\n",
    "\n",
    "plt.legend(loc='upper left')\n",
    "\n",
    "plt.show()"
   ]
  },
  {
   "cell_type": "markdown",
   "metadata": {},
   "source": [
    "\n",
    "\n",
    "Singing cicadas live in the United States and only mate every 13 or 17 years. For example, the American Magicicada septendecim only leaves its underground hiding place after exactly 17 years in order to reproduce within a period of about three weeks. The larvae that hatch from the eggs live underground until they crawl to the surface of the earth almost on the same day in 17 years. A Chilean-German research team has found out why it only crawls out of its underground hiding place after 17 years. 13 and 17 are prime numbers. Since their enemies and competitors usually live in 2, 4 or 6 year rhythms, _the_ _cicadas_ _can_ _increase_ _their_ _chances_ _of_ _survival_ _by_ _reproducing_ _in_ _the_ _“low_ _birth”_ _cohorts_ _of_ _their_ _predators._ During their short aboveground life from mid-May to June, the cicadas do not cause any damage despite their massive occurrence.\n",
    "\n",
    "Source:  Gene Kritsky, PhD, Periodical Cicadas: The Brood X Edition, <br> https://www.amazon.com/gp/product/B08X3XKRW7/ref=as_li_tl?ie=UTF8&camp=1789&creative=9325&creativeASIN=B08X3XKRW7&linkCode=as2&tag=cicadamania-20&linkId=1b83fa112465e182eabdfa1616119d8f"
   ]
  },
  {
   "cell_type": "markdown",
   "metadata": {},
   "source": [
    "# Fibonachi"
   ]
  },
  {
   "cell_type": "code",
   "execution_count": null,
   "metadata": {},
   "outputs": [],
   "source": [
    "# Exercise 1.3\n",
    "\n",
    "def fibs_up_to(num1, num2, limit):\n",
    "    \"\"\"\n",
    "    return: Tuble\n",
    "    last two digits of the Fibonachi sequence up to limit\n",
    "    \"\"\"\n",
    "    num1b, num2b = num2, num2 + num1   # Fibonachi logic\n",
    "    if num2b < limit:                  # Recursive Condition\n",
    "        num1, num2 = fibs_up_to(num1b, num2b, limit) # Recursive Call\n",
    "    return num1, num2\n",
    "\n",
    "def tiles_area(x):\n",
    "    a, b = fibs_up_to(0, 1, x)         # fibonachi up to x\n",
    "    return (a*(a+b))                   # area formula square"
   ]
  },
  {
   "cell_type": "code",
   "execution_count": null,
   "metadata": {},
   "outputs": [],
   "source": [
    "print(format(tiles_area(10000), \",\"))"
   ]
  },
  {
   "cell_type": "code",
   "execution_count": null,
   "metadata": {},
   "outputs": [],
   "source": [
    "# Area of the Fibonachi spiral\n",
    "\n",
    "# Area Formula for each square: math.pi * pow(num2,2) / 4\n",
    "\n",
    "import math\n",
    "\n",
    "def spiral_area(num1, num2, limit):\n",
    "    area = 0\n",
    "    # Fibonachi logic\n",
    "    num1b, num2b = num2, num2 + num1\n",
    "    # Recursive Condition\n",
    "    if num2b < limit:\n",
    "        # Recursive Call\n",
    "        area = (math.pi * pow(num2, 2) / 4) + spiral_area(num1b, num2b, limit)\n",
    "    # Stop\n",
    "    return area\n",
    "\n",
    "print(spiral_area(0, 1, 23))"
   ]
  },
  {
   "cell_type": "markdown",
   "metadata": {},
   "source": [
    "Recherchieren Sie je ein Beispiel für Anwendung von Primzahlen in der Informatik und in der Natur und stellen Sie es kurz ca. 1/4 Seite plus Diagramme oder Bilder. Zitieren Sie Ihre Quellen.\n",
    "\n",
    "Recherchieren Sie je ein weiteres Beispiel der Fibbonacci Fliesen/Spiralen in Natur und Infomatik (Mathematik) und stellen Sie es kurz dar."
   ]
  }
 ],
 "metadata": {
  "kernelspec": {
   "name": "python392jvsc74a57bd086b7ff3cad48129fe2c74e38aa4d069dda00f9162f383ad625bb2610c7022dc5",
   "display_name": "Python 3.9.2 64-bit ('maths': venv)"
  },
  "language_info": {
   "codemirror_mode": {
    "name": "ipython",
    "version": 3
   },
   "file_extension": ".py",
   "mimetype": "text/x-python",
   "name": "python",
   "nbconvert_exporter": "python",
   "pygments_lexer": "ipython3",
   "version": "3.9.2"
  },
  "metadata": {
   "interpreter": {
    "hash": "f4fde45515710cbe4f4cf44a8ddef1b298277709bd6c5462499553af68a98f2e"
   }
  }
 },
 "nbformat": 4,
 "nbformat_minor": 4
}