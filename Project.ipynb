{
 "cells": [
  {
   "source": [
    "# Primes\n",
    "\n",
    "Prime numbers are natural numbers greater than 1 that is not a product of two natural numbers.\n",
    "A number n is prime if it is greater than 1 and no number 2,..n-1 divide n evenly.\n",
    "\n",
    "Exercise 1.1 calculates all primes smaler that x = 1,000\n",
    " ''' all primes = a boldface capital P '''für latex\n",
    "Every x between 10000 and 2 is a prime if no y bigger than 2 and smaler than x/2 is able to divide x without reminder."
   ],
   "cell_type": "markdown",
   "metadata": {}
  },
  {
   "cell_type": "code",
   "execution_count": 2,
   "metadata": {},
   "outputs": [
    {
     "output_type": "stream",
     "name": "stdout",
     "text": [
      "[2, 3, 4, 5, 7, 11, 13, 17, 19, 23, 29, 31, 37, 41, 43, 47, 53, 59, 61, 67, 71, 73, 79, 83, 89, 97, 101, 103, 107, 109, 113, 127, 131, 137, 139, 149, 151, 157, 163, 167, 173, 179, 181, 191, 193, 197, 199, 211, 223, 227, 229, 233, 239, 241, 251, 257, 263, 269, 271, 277, 281, 283, 293, 307, 311, 313, 317, 331, 337, 347, 349, 353, 359, 367, 373, 379, 383, 389, 397, 401, 409, 419, 421, 431, 433, 439, 443, 449, 457, 461, 463, 467, 479, 487, 491, 499, 503, 509, 521, 523, 541, 547, 557, 563, 569, 571, 577, 587, 593, 599, 601, 607, 613, 617, 619, 631, 641, 643, 647, 653, 659, 661, 673, 677, 683, 691, 701, 709, 719, 727, 733, 739, 743, 751, 757, 761, 769, 773, 787, 797, 809, 811, 821, 823, 827, 829, 839, 853, 857, 859, 863, 877, 881, 883, 887, 907, 911, 919, 929, 937, 941, 947, 953, 967, 971, 977, 983, 991, 997]\n247506\n"
     ]
    }
   ],
   "source": [
    "# Exercise 1.1\n",
    "\n",
    "sol = []\n",
    "circles1 = 0\n",
    "for i in range(2, 1000, 1):             # start, stop, step\n",
    "    prime = True\n",
    "    for j in range(2, int(i/2), 1):\n",
    "        circles1 += 1                   # how often we check for a prime\n",
    "        if i % j == 0:                  # is there a number that divides i?\n",
    "            prime = False\n",
    "    if prime:\n",
    "        sol.append(i)\n",
    "print(sol)\n",
    "print(circles1)"
   ]
  },
  {
   "source": [
    "In case the program finds a y bigger than 2 and smaler than x/2 that divides x without reminder, we can define x as a composite number."
   ],
   "cell_type": "markdown",
   "metadata": {}
  },
  {
   "source": [
    "# Exercise 1.2\n",
    "\n",
    "sol = []\n",
    "circles2 = 0\n",
    "for i in range(2, 1000, 1):\n",
    "    prime = True\n",
    "    for j in range(2, int(i/2), 1):\n",
    "        circles2 += 1\n",
    "        if i % j == 0:\n",
    "            prime = False\n",
    "            break                       # not a prime no more runs\n",
    "    if prime:\n",
    "        sol.append(i)\n",
    "print(sol)\n",
    "print(circles2)"
   ],
   "cell_type": "code",
   "metadata": {},
   "execution_count": 3,
   "outputs": [
    {
     "output_type": "stream",
     "name": "stdout",
     "text": [
      "[2, 3, 4, 5, 7, 11, 13, 17, 19, 23, 29, 31, 37, 41, 43, 47, 53, 59, 61, 67, 71, 73, 79, 83, 89, 97, 101, 103, 107, 109, 113, 127, 131, 137, 139, 149, 151, 157, 163, 167, 173, 179, 181, 191, 193, 197, 199, 211, 223, 227, 229, 233, 239, 241, 251, 257, 263, 269, 271, 277, 281, 283, 293, 307, 311, 313, 317, 331, 337, 347, 349, 353, 359, 367, 373, 379, 383, 389, 397, 401, 409, 419, 421, 431, 433, 439, 443, 449, 457, 461, 463, 467, 479, 487, 491, 499, 503, 509, 521, 523, 541, 547, 557, 563, 569, 571, 577, 587, 593, 599, 601, 607, 613, 617, 619, 631, 641, 643, 647, 653, 659, 661, 673, 677, 683, 691, 701, 709, 719, 727, 733, 739, 743, 751, 757, 761, 769, 773, 787, 797, 809, 811, 821, 823, 827, 829, 839, 853, 857, 859, 863, 877, 881, 883, 887, 907, 911, 919, 929, 937, 941, 947, 953, 967, 971, 977, 983, 991, 997]\n39875\n"
     ]
    }
   ]
  },
  {
   "source": [
    "This reduces the neccessery number of calculations and in turn saves time and memory."
   ],
   "cell_type": "markdown",
   "metadata": {}
  },
  {
   "cell_type": "code",
   "execution_count": 16,
   "metadata": {},
   "outputs": [
    {
     "output_type": "stream",
     "name": "stdout",
     "text": [
      "Without optimization: 247,506, with simple optimization: 39,875.\nWe saved 207,631 loops.\n"
     ]
    }
   ],
   "source": [
    "# Optimisation Check\n",
    "print(\"Without optimization: \" + format(circles1,\",\") + \", with simple optimization: \"+ format(circles2,\",\") + \".\")\n",
    "if circles1 > circles2:\n",
    "    print(\"We saved \" + format(circles1 - circles2,\",\") + \" loops.\")\n",
    "else:\n",
    "    print(\"Why even bother?\")"
   ]
  },
  {
   "cell_type": "code",
   "execution_count": 4,
   "metadata": {},
   "outputs": [],
   "source": [
    "# Exercise 1.4\n",
    "\n",
    "def is_prime(x):\n",
    "    \"\"\"\n",
    "    return: Boolean\n",
    "    True if prime, else False\n",
    "    \"\"\"\n",
    "    for j in range(2, int(i/2), 1):\n",
    "        if i % j == 0:\n",
    "            return False\n",
    "    return True"
   ]
  },
  {
   "cell_type": "code",
   "execution_count": 5,
   "metadata": {},
   "outputs": [],
   "source": [
    "# Validity test\n",
    "\n",
    "valid = []\n",
    "for i in range(2, 1000, 1):\n",
    "    func = is_prime(i)                  # should already know the answer\n",
    "    prime = True        \n",
    "    for j in range(2, int(i/2), 1):\n",
    "        if i % j == 0:\n",
    "            prime = False\n",
    "            if not func and not prime: # did both get the same result?\n",
    "                valid.append(True)\n",
    "            break\n",
    "    if func and prime:                 # did both get the same result?\n",
    "        valid.append(True)\n",
    "\n",
    "for i in valid:\n",
    "    if not i:\n",
    "        print(\"ähem\")"
   ]
  },
  {
   "source": [
    "## Prime Numbers in Cryptography\n",
    "\n",
    "Prime numbers are used in cryptographic algorithms, particularly in RSA, Source: https://de.wikipedia.org/wiki/RSA-Kryptosystem.\n",
    "\n",
    "Wir wählen den Exponenten e = 23 .\n",
    "Wir wählen p = 11 und q = 13 für die beiden Primzahlen. Die Zahlen p − 1 = 10 und q − 1 = 12 sind teilerfremd zum Exponenten e = 23.\n",
    "Der RSA-Modul ist N = p ⋅ q = 143. Damit bilden e = 23 und N = 143 den öffentlichen Schlüssel.\n",
    "Die eulersche φ-Funktion hat den Wert φ ( N ) = φ ( 143 ) = ( p − 1 ) ( q − 1 ) = 120.\n",
    "Berechnung der Inversen zu e % φ ( N ):\n",
    "Es gilt: e ⋅ d + k ⋅ φ ( N ) = 1 = ggT ⁡ ( e , φ ( N ) ),\n",
    "im konkreten Beispiel: 23 ⋅ d + k ⋅ 120 = 1 = ggT ⁡ ( 23 , 120 ).\n",
    "Mit dem erweiterten euklidischen Algorithmus berechnet man nun die Faktoren d = 47, und somit ist d = 47 der private Schlüssel, während k nicht weiter benötigt wird.\n",
    "\n",
    "Sources:    Christian Spannagel 2012, zur Verfügung gestellt von der Technischen Informationsbibliothek: \n",
    "            https://doi.org/10.5446/19815, \n",
    "            https://doi.org/10.5446/19816, \n",
    "            https://doi.org/10.5446/19817, \n",
    "            https://doi.org/10.5446/19813, \n",
    "            https://doi.org/10.5446/19814, "
   ],
   "cell_type": "markdown",
   "metadata": {}
  },
  {
   "source": [
    "## Prime Numbers in Nature\n",
    "\n",
    "Singing cicadas live in the United States and only mate every 13 or 17 years. For example, the American Magicicada septendecim only leaves its underground hiding place after exactly 17 years in order to reproduce within a period of about three weeks. The larvae that hatch from the eggs live underground until they crawl to the surface of the earth almost on the same day in 17 years. A Chilean-German research team has found out why it only crawls out of its underground hiding place after 17 years. 13 and 17 are prime numbers. Since their enemies and competitors usually live in 2, 4 or 6 year rhythms, the cicadas can increase their chances of survival by reproducing in the “low birth” cohorts of their predators. During their short aboveground life from mid-May to June, the cicadas do not cause any damage despite their massive occurrence.\n",
    "\n",
    "Source:  Gene Kritsky, PhD, Periodical Cicadas: The Brood X Edition, https://www.amazon.com/gp/product/B08X3XKRW7/ref=as_li_tl?ie=UTF8&camp=1789&creative=9325&creativeASIN=B08X3XKRW7&linkCode=as2&tag=cicadamania-20&linkId=1b83fa112465e182eabdfa1616119d8f"
   ],
   "cell_type": "markdown",
   "metadata": {}
  },
  {
   "source": [
    "# Fibonachi"
   ],
   "cell_type": "markdown",
   "metadata": {}
  },
  {
   "cell_type": "code",
   "execution_count": 6,
   "metadata": {},
   "outputs": [],
   "source": [
    "# Exercise 1.3\n",
    "\n",
    "def fibs_up_to(num1, num2, limit):\n",
    "    \"\"\"\n",
    "    return: Tuble\n",
    "    last two digits of the Fibonachi sequence up to limit\n",
    "    \"\"\"\n",
    "    num1b, num2b = num2, num2 + num1   # Fibonachi logic\n",
    "    if num2b < limit:                  # Recursive Condition\n",
    "        num1, num2 = fibs_up_to(num1b, num2b, limit) # Recursive Call\n",
    "    return num1, num2\n",
    "\n",
    "def tiles_area(x):\n",
    "    a, b = fibs_up_to(0, 1, x)         # fibonachi up to x\n",
    "    return (a*(a+b))                   # area formula square"
   ]
  },
  {
   "cell_type": "code",
   "execution_count": 7,
   "metadata": {},
   "outputs": [
    {
     "output_type": "stream",
     "name": "stdout",
     "text": [
      "45,765,226\n"
     ]
    }
   ],
   "source": [
    "print(format(tiles_area(10000), \",\"))"
   ]
  },
  {
   "cell_type": "code",
   "execution_count": 8,
   "metadata": {},
   "outputs": [
    {
     "output_type": "stream",
     "name": "stdout",
     "text": [
      "214.41369860750336\n"
     ]
    }
   ],
   "source": [
    "# Area of the Fibonachi spiral\n",
    "\n",
    "# Area Formula for each square: math.pi * pow(num2,2) / 4\n",
    "\n",
    "import math\n",
    "\n",
    "def spiral_area(num1, num2, limit):\n",
    "    area = 0\n",
    "    # Fibonachi logic\n",
    "    num1b, num2b = num2, num2 + num1\n",
    "    # Recursive Condition\n",
    "    if num2b < limit:\n",
    "        # Recursive Call\n",
    "        area = (math.pi * pow(num2, 2) / 4) + spiral_area(num1b, num2b, limit)\n",
    "    # Stop\n",
    "    return area\n",
    "\n",
    "print(spiral_area(0, 1, 23))"
   ]
  },
  {
   "source": [
    "Recherchieren Sie je ein Beispiel für Anwendung von Primzahlen in der Informatik und in der Natur und stellen Sie es kurz ca. 1/4 Seite plus Diagramme oder Bilder. Zitieren Sie Ihre Quellen.\n",
    "\n",
    "Recherchieren Sie je ein weiteres Beispiel der Fibbonacci Fliesen/Spiralen in Natur und Infomatik (Mathematik) und stellen Sie es kurz dar."
   ],
   "cell_type": "code",
   "metadata": {},
   "execution_count": null,
   "outputs": []
  }
 ],
 "metadata": {
  "kernelspec": {
   "name": "python392jvsc74a57bd0f4fde45515710cbe4f4cf44a8ddef1b298277709bd6c5462499553af68a98f2e",
   "display_name": "Python 3.9.2 64-bit"
  },
  "metadata": {
   "interpreter": {
    "hash": "f4fde45515710cbe4f4cf44a8ddef1b298277709bd6c5462499553af68a98f2e"
   }
  }
 },
 "nbformat": 4,
 "nbformat_minor": 4
}