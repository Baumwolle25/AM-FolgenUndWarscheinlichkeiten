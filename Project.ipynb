{
 "cells": [
  {
   "source": [
    "# Prime Numbers\n",
    "\n",
    "Prime numbers are natural numbers greater than 1 that is not a product of two natural numbers.\n",
    "A number n is prime if it is greater than 1 and no number 2,3,..n-1 divide n evenly.\n",
    "\n",
    "Exercise 1.1 calculates all primes smaler than x = 1,000.\n",
    "Every x between 1,000 and 2 is a prime if no y bigger than 2 and smaler than x/2 is able to divide x without reminder.\n",
    "\n",
    "![flowchart_primes](flowchart_primes.png)\n"
   ],
   "cell_type": "markdown",
   "metadata": {}
  },
  {
   "cell_type": "code",
   "execution_count": 10,
   "metadata": {},
   "outputs": [
    {
     "output_type": "stream",
     "name": "stdout",
     "text": [
      "[2, 3, 4, 5, 7, 11, 13, 17, 19, 23, 29, 31, 37, 41, 43, 47, 53, 59, 61, 67, 71, 73, 79, 83, 89, 97, 101, 103, 107, 109, 113, 127, 131, 137, 139, 149, 151, 157, 163, 167, 173, 179, 181, 191, 193, 197, 199, 211, 223, 227, 229, 233, 239, 241, 251, 257, 263, 269, 271, 277, 281, 283, 293, 307, 311, 313, 317, 331, 337, 347, 349, 353, 359, 367, 373, 379, 383, 389, 397, 401, 409, 419, 421, 431, 433, 439, 443, 449, 457, 461, 463, 467, 479, 487, 491, 499, 503, 509, 521, 523, 541, 547, 557, 563, 569, 571, 577, 587, 593, 599, 601, 607, 613, 617, 619, 631, 641, 643, 647, 653, 659, 661, 673, 677, 683, 691, 701, 709, 719, 727, 733, 739, 743, 751, 757, 761, 769, 773, 787, 797, 809, 811, 821, 823, 827, 829, 839, 853, 857, 859, 863, 877, 881, 883, 887, 907, 911, 919, 929, 937, 941, 947, 953, 967, 971, 977, 983, 991, 997]\n247506\n"
     ]
    }
   ],
   "source": [
    "# Exercise 1.1\n",
    "\n",
    "sol = []\n",
    "circles1 = 0\n",
    "for i in range(2, 1000, 1):             # start, stop, step\n",
    "    prime = True\n",
    "    for j in range(2, int(i/2) + 1, 1):\n",
    "        circles1 += 1                   # how often we check for a prime\n",
    "        if i % j == 0:                  # is there a number that divides i?\n",
    "            prime = False\n",
    "    if prime:\n",
    "        sol.append(i)\n",
    "print(sol)\n",
    "print(circles1)"
   ]
  },
  {
   "source": [
    "In case the program finds a y bigger than 2 and smaler than x/2 that divides x without reminder, we can define x as a composite number immediatly for increased performance.\n",
    "<br><br>\n",
    "This aproach will take more and more time the more x and y grows. To save even more computing power we use our already found prime numbers to search for large numbers that are not divisable by those primes. We use prime factorization. This saves many more calculations since we do not divide by even numbers exept 2 and other unneccesesary numbers."
   ],
   "cell_type": "markdown",
   "metadata": {}
  },
  {
   "source": [
    "# Exercise 1.2\n",
    "\n",
    "#This algorith calculates prime numbers and collects them in a list.\n",
    "#It is trimmed for performance, especially when the integers get larger.\n",
    "integer = 2\n",
    "primes = [2]\n",
    "circles2 = 0\n",
    "while(integer < 1000):\n",
    "    j = 0\n",
    "    isPrimeNumber = True\n",
    "    while(j < len(primes) and isPrimeNumber):\n",
    "        #We only test if the current integer is divisible by any of the\n",
    "        #already collected prime numbers. If it is not divisible we have\n",
    "        #found a new prime number.\n",
    "        circles2 = circles2 + 1\n",
    "        if(integer % primes[j] == 0):\n",
    "            isPrimeNumber = False #Ensures an early exit of the loop\n",
    "        j = j + 1\n",
    "    \n",
    "    if(isPrimeNumber):\n",
    "        primes.append(integer) #Add the new prime number to the list\n",
    "    \n",
    "    integer = integer + 1\n",
    "\n",
    "print(primes)"
   ],
   "cell_type": "code",
   "metadata": {},
   "execution_count": 7,
   "outputs": [
    {
     "output_type": "stream",
     "name": "stdout",
     "text": [
      "[2, 3, 5, 7, 11, 13, 17, 19, 23, 29, 31, 37, 41, 43, 47, 53, 59, 61, 67, 71, 73, 79, 83, 89, 97, 101, 103, 107, 109, 113, 127, 131, 137, 139, 149, 151, 157, 163, 167, 173, 179, 181, 191, 193, 197, 199, 211, 223, 227, 229, 233, 239, 241, 251, 257, 263, 269, 271, 277, 281, 283, 293, 307, 311, 313, 317, 331, 337, 347, 349, 353, 359, 367, 373, 379, 383, 389, 397, 401, 409, 419, 421, 431, 433, 439, 443, 449, 457, 461, 463, 467, 479, 487, 491, 499, 503, 509, 521, 523, 541, 547, 557, 563, 569, 571, 577, 587, 593, 599, 601, 607, 613, 617, 619, 631, 641, 643, 647, 653, 659, 661, 673, 677, 683, 691, 701, 709, 719, 727, 733, 739, 743, 751, 757, 761, 769, 773, 787, 797, 809, 811, 821, 823, 827, 829, 839, 853, 857, 859, 863, 877, 881, 883, 887, 907, 911, 919, 929, 937, 941, 947, 953, 967, 971, 977, 983, 991, 997]\n"
     ]
    }
   ]
  },
  {
   "source": [
    "This reduces the neccessery number of calculations and in turn saves time and memory."
   ],
   "cell_type": "markdown",
   "metadata": {}
  },
  {
   "cell_type": "code",
   "execution_count": 11,
   "metadata": {},
   "outputs": [
    {
     "output_type": "stream",
     "name": "stdout",
     "text": [
      "Without optimization: 247,506, with simple optimization: 15,620.\nWe saved 231,886 loops.\n"
     ]
    }
   ],
   "source": [
    "# Optimisation Check\n",
    "print(\"Without optimization: \" + format(circles1,\",\") + \", with simple optimization: \"+ format(circles2,\",\") + \".\")\n",
    "if circles1 > circles2:\n",
    "    print(\"We saved \" + format(circles1 - circles2,\",\") + \" loops.\")\n",
    "else:\n",
    "    print(\"Why even bother?\")"
   ]
  },
  {
   "source": [
    "Written as a function, our aproach looks like this.\n",
    "\n",
    "This is still very much inefficent though, if you want to find out more about high-performance prime generation, check out https://cr.yp.to/primegen.html and https://www.programminglogic.com/testing-if-a-number-is-prime-efficiently/ for more information."
   ],
   "cell_type": "markdown",
   "metadata": {}
  },
  {
   "cell_type": "code",
   "execution_count": 8,
   "metadata": {},
   "outputs": [],
   "source": [
    "# Exercise 1.4\n",
    "\n",
    "def is_prime(x):\n",
    "    \"\"\"\n",
    "    return: Boolean\n",
    "    True if prime, else False\n",
    "    \"\"\"\n",
    "    for i in range(2, int(x/2 + 1), 1):\n",
    "        if x % i == 0:\n",
    "            return False\n",
    "    return True"
   ]
  },
  {
   "source": [
    "## Prime Numbers in Cryptography\n",
    "\n",
    "Prime numbers are used in cryptographic algorithms, particularly in RSA (Rivest - Shamir - Adlerman). RSA is asymetric, meaning while how to encode messages for the reciever is public kwnoledge, only the reciever itself knows how to deciver that message. Contrary to symetric encodings like the enigma, where both the sender and the reciever had to posses kwnoledge of a designatet de- and encryption process, no prior agreements between sender and reciever need be made than a broad understanding of the RSA - encryption.\n",
    "\n",
    "\n",
    "### The Process\n",
    "1. Select to prime numbers q and p.\n",
    "2. Let N = q x p and φ ( N ) = ( p - 1 ) x ( q - 1 ).\n",
    "3. Choose an e with 1 < e < φ ( N ) and where the greatest common divisor of e and φ ( N ) = 1.\n",
    "4. Calculate a d with the values e and φ ( N ) that satisfies e x d - k x φ ( N ) = 1. There is only one possible solution. The variable k is calculated but not needed.\n",
    "5. To encode a number: G = (T^e) % N\n",
    "6. To decode a number: T = (G^d) % N\n",
    "\n",
    "### Why does it work?\n",
    "(((T^e) % N)^d) % N = T <br>\n",
    "The private key (d, N) cannot be constructed from the publik key (e, N) without considerable effort.\n",
    "To calculate d, φ ( N ) is needed. Finding q and p from N takes longer the larger numbers are used.\n",
    "Should someone find φ ( N ), the message can be decoded, but since the process is asymetric every message can simply be encoded slightly different, making long term communication fast, as easy as possible and as secure as possible.\n",
    "\n",
    "### Possible problems\n",
    "This algorithm depends on the lack of understanding about prime numbers. If that chages, major parts of the internet are not secure anymore. Also, the encrytion does not change the pattern of the message, so a black-and-white image still shows the same shapes. Techniques like Alphabetical Probability are still able to find possible matches faster, the bigger the message gets.\n",
    "\n",
    "Sources:    Christian Spannagel 2012, zur Verfügung gestellt von der Technischen Informationsbibliothek: <br>\n",
    "            https://doi.org/10.5446/19815, <br>\n",
    "            https://doi.org/10.5446/19816, <br>\n",
    "            https://doi.org/10.5446/19817, <br>\n",
    "            https://doi.org/10.5446/19813, <br>\n",
    "            https://doi.org/10.5446/19814, <br>\n",
    "            https://www.inf.hs-flensburg.de/lang/krypto/algo/euklid.htm <br>\n",
    "\n",
    "### An Example\n",
    "Find two primes with x digits."
   ],
   "cell_type": "markdown",
   "metadata": {}
  },
  {
   "cell_type": "code",
   "execution_count": 18,
   "metadata": {},
   "outputs": [],
   "source": [
    "from random import randint as cryforhelp\n",
    "\n",
    "\n",
    "def set_of_random_ints(hero):\n",
    "    \"\"\"\n",
    "    finds two different numbers from 0 to hero (inclusive)\n",
    "    param: int\n",
    "    return: int, int\n",
    "    \"\"\"\n",
    "    a = cryforhelp(0, hero)\n",
    "    b = cryforhelp(0, hero)\n",
    "    if a == b:  # to guarantee two unique numbers\n",
    "        a, b = set_of_random_ints(hero)\n",
    "    return a, b\n",
    "\n",
    "\n",
    "def generate_primes(x):\n",
    "    \"\"\"\n",
    "    finds all primes with x digits and selects two at random\n",
    "    param: int\n",
    "    return: int, int\n",
    "    \"\"\"\n",
    "    sol = []\n",
    "    for i in range(pow(10, x), pow(10, x+1), 1): # pow(10, x) gives a number with x digits\n",
    "        if is_prime(i):\n",
    "            sol.append(i)\n",
    "    a, b = set_of_random_ints(len(sol)-1) # guarantee two unique numbers\n",
    "    return sol[a], sol[b]"
   ]
  },
  {
   "source": [
    "Find an e with 1 < e < φ ( N ) and where the greatest common divisor of e and φ ( N ) = 1."
   ],
   "cell_type": "markdown",
   "metadata": {}
  },
  {
   "cell_type": "code",
   "execution_count": 17,
   "metadata": {},
   "outputs": [],
   "source": [
    "# from random import randint as cryforhelp\n",
    "\n",
    "def gcd(a, b):\n",
    "    \"\"\"\n",
    "    eucledian algorithm\n",
    "    param: int, int\n",
    "    return: int\n",
    "    \"\"\"\n",
    "    while b != 0:\n",
    "        c = a % b\n",
    "        a = b\n",
    "        b = c\n",
    "    return a\n",
    "\n",
    "def find_that_e(phi_of_N):\n",
    "    \"\"\"\n",
    "    finds an random int with 1 < int < phi_of_N and where greatest common divisor of int and phi_of_N = 1\n",
    "    param: int\n",
    "    return: int\n",
    "    \"\"\"\n",
    "    e = []\n",
    "    for i in range(2, phi_of_N, 1):\n",
    "        if gcd(i, phi_of_N) == 1:\n",
    "            e.append(i)\n",
    "    return e[cryforhelp(0, len(e)-1)]"
   ]
  },
  {
   "source": [
    "Find a d with the values e and φ ( N ) that satisfies e x d - k x φ ( N ) = 1."
   ],
   "cell_type": "markdown",
   "metadata": {}
  },
  {
   "cell_type": "code",
   "execution_count": 24,
   "metadata": {},
   "outputs": [],
   "source": [
    "def extgcd(a, b):\n",
    "    \"\"\"\n",
    "    extended eucledian algorithm\n",
    "    solves: gcd(a,b) = s * a + t * b, returns gcd(a,b), s, t\n",
    "    param: int, int\n",
    "    return: int, int, int \n",
    "    \"\"\"\n",
    "    if b == 0:\n",
    "        return a, 1, 0\n",
    "    else:\n",
    "        g, u, v = extgcd(b, a % b)\n",
    "        q = a//b\n",
    "        return g, v, u-q*v\n",
    "        \n",
    "def gim_e_the_D(e, phi_of_N):\n",
    "    \"\"\"\n",
    "    solve e * x - y * phi_of_N = 1 and return x\n",
    "    param: int, int\n",
    "    return: int\n",
    "    \"\"\"\n",
    "    gcd, s, t = extgcd(e, phi_of_N)\n",
    "    return s"
   ]
  },
  {
   "source": [
    "Now, generate your keys."
   ],
   "cell_type": "markdown",
   "metadata": {}
  },
  {
   "cell_type": "code",
   "execution_count": 20,
   "metadata": {},
   "outputs": [],
   "source": [
    "def rsa_keys(unlimited_power):\n",
    "    \"\"\"\n",
    "    takes in digits of prime numbers to be used\n",
    "    public key: {N, e}, private key: {q, p, N, phi_of_N, e, d}\n",
    "    param: int\n",
    "    return: dict, dict\n",
    "    \"\"\"\n",
    "    q, p = generate_primes(unlimited_power)\n",
    "    N, phi_of_N = q * p, (q-1) * (p-1)\n",
    "    e = find_that_e(phi_of_N)\n",
    "    d = gim_e_the_D(e, phi_of_N)\n",
    "    public, private = {\"N\": N, \"e\": e}, {\"q\": q, \"p\": p,\n",
    "                                         \"N\": N, \"phi_of_N\": phi_of_N, \"e\": e, \"d\": d}\n",
    "    if d < 1:\n",
    "        public, private = rsa_keys(unlimited_power)\n",
    "    return public, private"
   ]
  },
  {
   "source": [
    "This is how the RSA - encription works."
   ],
   "cell_type": "markdown",
   "metadata": {}
  },
  {
   "cell_type": "code",
   "execution_count": 25,
   "metadata": {},
   "outputs": [
    {
     "output_type": "stream",
     "name": "stdout",
     "text": [
      "secret: 727022\nmessage: 2649\nq  :  907\np  :  857\nN  :  777299\nphi_of_N  :  775536\ne  :  261335\nd  :  208055\n"
     ]
    }
   ],
   "source": [
    "public, private = rsa_keys(2)\n",
    "\n",
    "message = 2649 # theoretical pin code\n",
    "\n",
    "secret = pow(message, public[\"e\"])%public[\"N\"]\n",
    "message = pow(secret, private[\"d\"])%private[\"N\"]\n",
    "\n",
    "print(\"secret: \"+ str(secret))\n",
    "print(\"message: \"+ str(message))\n",
    "\n",
    "for key, value in private.items():\n",
    "    print(key, ' : ', value)"
   ]
  },
  {
   "source": [
    "## Prime Numbers in Nature"
   ],
   "cell_type": "markdown",
   "metadata": {}
  },
  {
   "cell_type": "code",
   "execution_count": 14,
   "metadata": {},
   "outputs": [
    {
     "output_type": "display_data",
     "data": {
      "text/plain": "<Figure size 432x288 with 1 Axes>",
      "image/svg+xml": "<?xml version=\"1.0\" encoding=\"utf-8\" standalone=\"no\"?>\r\n<!DOCTYPE svg PUBLIC \"-//W3C//DTD SVG 1.1//EN\"\r\n  \"http://www.w3.org/Graphics/SVG/1.1/DTD/svg11.dtd\">\r\n<svg height=\"337.470852pt\" version=\"1.1\" viewBox=\"0 0 363.247443 337.470852\" width=\"363.247443pt\" xmlns=\"http://www.w3.org/2000/svg\" xmlns:xlink=\"http://www.w3.org/1999/xlink\">\r\n <metadata>\r\n  <rdf:RDF xmlns:cc=\"http://creativecommons.org/ns#\" xmlns:dc=\"http://purl.org/dc/elements/1.1/\" xmlns:rdf=\"http://www.w3.org/1999/02/22-rdf-syntax-ns#\">\r\n   <cc:Work>\r\n    <dc:type rdf:resource=\"http://purl.org/dc/dcmitype/StillImage\"/>\r\n    <dc:date>2021-04-11T14:46:37.420981</dc:date>\r\n    <dc:format>image/svg+xml</dc:format>\r\n    <dc:creator>\r\n     <cc:Agent>\r\n      <dc:title>Matplotlib v3.4.0, https://matplotlib.org/</dc:title>\r\n     </cc:Agent>\r\n    </dc:creator>\r\n   </cc:Work>\r\n  </rdf:RDF>\r\n </metadata>\r\n <defs>\r\n  <style type=\"text/css\">*{stroke-linecap:butt;stroke-linejoin:round;}</style>\r\n </defs>\r\n <g id=\"figure_1\">\r\n  <g id=\"patch_1\">\r\n   <path d=\"M 0 337.470852 \r\nL 363.247443 337.470852 \r\nL 363.247443 0 \r\nL 0 0 \r\nz\r\n\" style=\"fill:none;\"/>\r\n  </g>\r\n  <g id=\"axes_1\">\r\n   <g id=\"patch_2\">\r\n    <path d=\"M 21.247443 224.64 \r\nL 356.047443 224.64 \r\nL 356.047443 7.2 \r\nL 21.247443 7.2 \r\nz\r\n\" style=\"fill:#ffffff;\"/>\r\n   </g>\r\n   <g id=\"matplotlib.axis_1\">\r\n    <g id=\"xtick_1\">\r\n     <g id=\"line2d_1\">\r\n      <defs>\r\n       <path d=\"M 0 0 \r\nL 0 3.5 \r\n\" id=\"m3305c5b96b\" style=\"stroke:#000000;stroke-width:0.8;\"/>\r\n      </defs>\r\n      <g>\r\n       <use style=\"stroke:#000000;stroke-width:0.8;\" x=\"36.465625\" xlink:href=\"#m3305c5b96b\" y=\"313.592727\"/>\r\n      </g>\r\n     </g>\r\n     <g id=\"text_1\">\r\n      <!-- 0 -->\r\n      <g transform=\"translate(33.284375 328.191165)scale(0.1 -0.1)\">\r\n       <defs>\r\n        <path d=\"M 2034 4250 \r\nQ 1547 4250 1301 3770 \r\nQ 1056 3291 1056 2328 \r\nQ 1056 1369 1301 889 \r\nQ 1547 409 2034 409 \r\nQ 2525 409 2770 889 \r\nQ 3016 1369 3016 2328 \r\nQ 3016 3291 2770 3770 \r\nQ 2525 4250 2034 4250 \r\nz\r\nM 2034 4750 \r\nQ 2819 4750 3233 4129 \r\nQ 3647 3509 3647 2328 \r\nQ 3647 1150 3233 529 \r\nQ 2819 -91 2034 -91 \r\nQ 1250 -91 836 529 \r\nQ 422 1150 422 2328 \r\nQ 422 3509 836 4129 \r\nQ 1250 4750 2034 4750 \r\nz\r\n\" id=\"DejaVuSans-30\" transform=\"scale(0.015625)\"/>\r\n       </defs>\r\n       <use xlink:href=\"#DejaVuSans-30\"/>\r\n      </g>\r\n     </g>\r\n    </g>\r\n    <g id=\"xtick_2\">\r\n     <g id=\"line2d_2\">\r\n      <g>\r\n       <use style=\"stroke:#000000;stroke-width:0.8;\" x=\"98.580653\" xlink:href=\"#m3305c5b96b\" y=\"313.592727\"/>\r\n      </g>\r\n     </g>\r\n     <g id=\"text_2\">\r\n      <!-- 10 -->\r\n      <g transform=\"translate(92.218153 328.191165)scale(0.1 -0.1)\">\r\n       <defs>\r\n        <path d=\"M 794 531 \r\nL 1825 531 \r\nL 1825 4091 \r\nL 703 3866 \r\nL 703 4441 \r\nL 1819 4666 \r\nL 2450 4666 \r\nL 2450 531 \r\nL 3481 531 \r\nL 3481 0 \r\nL 794 0 \r\nL 794 531 \r\nz\r\n\" id=\"DejaVuSans-31\" transform=\"scale(0.015625)\"/>\r\n       </defs>\r\n       <use xlink:href=\"#DejaVuSans-31\"/>\r\n       <use x=\"63.623047\" xlink:href=\"#DejaVuSans-30\"/>\r\n      </g>\r\n     </g>\r\n    </g>\r\n    <g id=\"xtick_3\">\r\n     <g id=\"line2d_3\">\r\n      <g>\r\n       <use style=\"stroke:#000000;stroke-width:0.8;\" x=\"160.695681\" xlink:href=\"#m3305c5b96b\" y=\"313.592727\"/>\r\n      </g>\r\n     </g>\r\n     <g id=\"text_3\">\r\n      <!-- 20 -->\r\n      <g transform=\"translate(154.333181 328.191165)scale(0.1 -0.1)\">\r\n       <defs>\r\n        <path d=\"M 1228 531 \r\nL 3431 531 \r\nL 3431 0 \r\nL 469 0 \r\nL 469 531 \r\nQ 828 903 1448 1529 \r\nQ 2069 2156 2228 2338 \r\nQ 2531 2678 2651 2914 \r\nQ 2772 3150 2772 3378 \r\nQ 2772 3750 2511 3984 \r\nQ 2250 4219 1831 4219 \r\nQ 1534 4219 1204 4116 \r\nQ 875 4013 500 3803 \r\nL 500 4441 \r\nQ 881 4594 1212 4672 \r\nQ 1544 4750 1819 4750 \r\nQ 2544 4750 2975 4387 \r\nQ 3406 4025 3406 3419 \r\nQ 3406 3131 3298 2873 \r\nQ 3191 2616 2906 2266 \r\nQ 2828 2175 2409 1742 \r\nQ 1991 1309 1228 531 \r\nz\r\n\" id=\"DejaVuSans-32\" transform=\"scale(0.015625)\"/>\r\n       </defs>\r\n       <use xlink:href=\"#DejaVuSans-32\"/>\r\n       <use x=\"63.623047\" xlink:href=\"#DejaVuSans-30\"/>\r\n      </g>\r\n     </g>\r\n    </g>\r\n    <g id=\"xtick_4\">\r\n     <g id=\"line2d_4\">\r\n      <g>\r\n       <use style=\"stroke:#000000;stroke-width:0.8;\" x=\"222.810708\" xlink:href=\"#m3305c5b96b\" y=\"313.592727\"/>\r\n      </g>\r\n     </g>\r\n     <g id=\"text_4\">\r\n      <!-- 30 -->\r\n      <g transform=\"translate(216.448208 328.191165)scale(0.1 -0.1)\">\r\n       <defs>\r\n        <path d=\"M 2597 2516 \r\nQ 3050 2419 3304 2112 \r\nQ 3559 1806 3559 1356 \r\nQ 3559 666 3084 287 \r\nQ 2609 -91 1734 -91 \r\nQ 1441 -91 1130 -33 \r\nQ 819 25 488 141 \r\nL 488 750 \r\nQ 750 597 1062 519 \r\nQ 1375 441 1716 441 \r\nQ 2309 441 2620 675 \r\nQ 2931 909 2931 1356 \r\nQ 2931 1769 2642 2001 \r\nQ 2353 2234 1838 2234 \r\nL 1294 2234 \r\nL 1294 2753 \r\nL 1863 2753 \r\nQ 2328 2753 2575 2939 \r\nQ 2822 3125 2822 3475 \r\nQ 2822 3834 2567 4026 \r\nQ 2313 4219 1838 4219 \r\nQ 1578 4219 1281 4162 \r\nQ 984 4106 628 3988 \r\nL 628 4550 \r\nQ 988 4650 1302 4700 \r\nQ 1616 4750 1894 4750 \r\nQ 2613 4750 3031 4423 \r\nQ 3450 4097 3450 3541 \r\nQ 3450 3153 3228 2886 \r\nQ 3006 2619 2597 2516 \r\nz\r\n\" id=\"DejaVuSans-33\" transform=\"scale(0.015625)\"/>\r\n       </defs>\r\n       <use xlink:href=\"#DejaVuSans-33\"/>\r\n       <use x=\"63.623047\" xlink:href=\"#DejaVuSans-30\"/>\r\n      </g>\r\n     </g>\r\n    </g>\r\n    <g id=\"xtick_5\">\r\n     <g id=\"line2d_5\">\r\n      <g>\r\n       <use style=\"stroke:#000000;stroke-width:0.8;\" x=\"284.925736\" xlink:href=\"#m3305c5b96b\" y=\"313.592727\"/>\r\n      </g>\r\n     </g>\r\n     <g id=\"text_5\">\r\n      <!-- 40 -->\r\n      <g transform=\"translate(278.563236 328.191165)scale(0.1 -0.1)\">\r\n       <defs>\r\n        <path d=\"M 2419 4116 \r\nL 825 1625 \r\nL 2419 1625 \r\nL 2419 4116 \r\nz\r\nM 2253 4666 \r\nL 3047 4666 \r\nL 3047 1625 \r\nL 3713 1625 \r\nL 3713 1100 \r\nL 3047 1100 \r\nL 3047 0 \r\nL 2419 0 \r\nL 2419 1100 \r\nL 313 1100 \r\nL 313 1709 \r\nL 2253 4666 \r\nz\r\n\" id=\"DejaVuSans-34\" transform=\"scale(0.015625)\"/>\r\n       </defs>\r\n       <use xlink:href=\"#DejaVuSans-34\"/>\r\n       <use x=\"63.623047\" xlink:href=\"#DejaVuSans-30\"/>\r\n      </g>\r\n     </g>\r\n    </g>\r\n    <g id=\"xtick_6\">\r\n     <g id=\"line2d_6\">\r\n      <g>\r\n       <use style=\"stroke:#000000;stroke-width:0.8;\" x=\"347.040764\" xlink:href=\"#m3305c5b96b\" y=\"313.592727\"/>\r\n      </g>\r\n     </g>\r\n     <g id=\"text_6\">\r\n      <!-- 50 -->\r\n      <g transform=\"translate(340.678264 328.191165)scale(0.1 -0.1)\">\r\n       <defs>\r\n        <path d=\"M 691 4666 \r\nL 3169 4666 \r\nL 3169 4134 \r\nL 1269 4134 \r\nL 1269 2991 \r\nQ 1406 3038 1543 3061 \r\nQ 1681 3084 1819 3084 \r\nQ 2600 3084 3056 2656 \r\nQ 3513 2228 3513 1497 \r\nQ 3513 744 3044 326 \r\nQ 2575 -91 1722 -91 \r\nQ 1428 -91 1123 -41 \r\nQ 819 9 494 109 \r\nL 494 744 \r\nQ 775 591 1075 516 \r\nQ 1375 441 1709 441 \r\nQ 2250 441 2565 725 \r\nQ 2881 1009 2881 1497 \r\nQ 2881 1984 2565 2268 \r\nQ 2250 2553 1709 2553 \r\nQ 1456 2553 1204 2497 \r\nQ 953 2441 691 2322 \r\nL 691 4666 \r\nz\r\n\" id=\"DejaVuSans-35\" transform=\"scale(0.015625)\"/>\r\n       </defs>\r\n       <use xlink:href=\"#DejaVuSans-35\"/>\r\n       <use x=\"63.623047\" xlink:href=\"#DejaVuSans-30\"/>\r\n      </g>\r\n     </g>\r\n    </g>\r\n   </g>\r\n   <g id=\"matplotlib.axis_2\">\r\n    <g id=\"ytick_1\">\r\n     <g id=\"line2d_7\">\r\n      <defs>\r\n       <path d=\"M 0 0 \r\nL -3.5 0 \r\n\" id=\"me529224d48\" style=\"stroke:#000000;stroke-width:0.8;\"/>\r\n      </defs>\r\n      <g>\r\n       <use style=\"stroke:#000000;stroke-width:0.8;\" x=\"36.465625\" xlink:href=\"#me529224d48\" y=\"214.756364\"/>\r\n      </g>\r\n     </g>\r\n     <g id=\"text_7\">\r\n      <!-- 10.0 -->\r\n      <g transform=\"translate(7.2 218.555582)scale(0.1 -0.1)\">\r\n       <defs>\r\n        <path d=\"M 684 794 \r\nL 1344 794 \r\nL 1344 0 \r\nL 684 0 \r\nL 684 794 \r\nz\r\n\" id=\"DejaVuSans-2e\" transform=\"scale(0.015625)\"/>\r\n       </defs>\r\n       <use xlink:href=\"#DejaVuSans-31\"/>\r\n       <use x=\"63.623047\" xlink:href=\"#DejaVuSans-30\"/>\r\n       <use x=\"127.246094\" xlink:href=\"#DejaVuSans-2e\"/>\r\n       <use x=\"159.033203\" xlink:href=\"#DejaVuSans-30\"/>\r\n      </g>\r\n     </g>\r\n    </g>\r\n    <g id=\"ytick_2\">\r\n     <g id=\"line2d_8\">\r\n      <g>\r\n       <use style=\"stroke:#000000;stroke-width:0.8;\" x=\"36.465625\" xlink:href=\"#me529224d48\" y=\"190.047273\"/>\r\n      </g>\r\n     </g>\r\n     <g id=\"text_8\">\r\n      <!-- 12.5 -->\r\n      <g transform=\"translate(7.2 193.846491)scale(0.1 -0.1)\">\r\n       <use xlink:href=\"#DejaVuSans-31\"/>\r\n       <use x=\"63.623047\" xlink:href=\"#DejaVuSans-32\"/>\r\n       <use x=\"127.246094\" xlink:href=\"#DejaVuSans-2e\"/>\r\n       <use x=\"159.033203\" xlink:href=\"#DejaVuSans-35\"/>\r\n      </g>\r\n     </g>\r\n    </g>\r\n    <g id=\"ytick_3\">\r\n     <g id=\"line2d_9\">\r\n      <g>\r\n       <use style=\"stroke:#000000;stroke-width:0.8;\" x=\"36.465625\" xlink:href=\"#me529224d48\" y=\"165.338182\"/>\r\n      </g>\r\n     </g>\r\n     <g id=\"text_9\">\r\n      <!-- 15.0 -->\r\n      <g transform=\"translate(7.2 169.137401)scale(0.1 -0.1)\">\r\n       <use xlink:href=\"#DejaVuSans-31\"/>\r\n       <use x=\"63.623047\" xlink:href=\"#DejaVuSans-35\"/>\r\n       <use x=\"127.246094\" xlink:href=\"#DejaVuSans-2e\"/>\r\n       <use x=\"159.033203\" xlink:href=\"#DejaVuSans-30\"/>\r\n      </g>\r\n     </g>\r\n    </g>\r\n    <g id=\"ytick_4\">\r\n     <g id=\"line2d_10\">\r\n      <g>\r\n       <use style=\"stroke:#000000;stroke-width:0.8;\" x=\"36.465625\" xlink:href=\"#me529224d48\" y=\"140.629091\"/>\r\n      </g>\r\n     </g>\r\n     <g id=\"text_10\">\r\n      <!-- 17.5 -->\r\n      <g transform=\"translate(7.2 144.42831)scale(0.1 -0.1)\">\r\n       <defs>\r\n        <path d=\"M 525 4666 \r\nL 3525 4666 \r\nL 3525 4397 \r\nL 1831 0 \r\nL 1172 0 \r\nL 2766 4134 \r\nL 525 4134 \r\nL 525 4666 \r\nz\r\n\" id=\"DejaVuSans-37\" transform=\"scale(0.015625)\"/>\r\n       </defs>\r\n       <use xlink:href=\"#DejaVuSans-31\"/>\r\n       <use x=\"63.623047\" xlink:href=\"#DejaVuSans-37\"/>\r\n       <use x=\"127.246094\" xlink:href=\"#DejaVuSans-2e\"/>\r\n       <use x=\"159.033203\" xlink:href=\"#DejaVuSans-35\"/>\r\n      </g>\r\n     </g>\r\n    </g>\r\n    <g id=\"ytick_5\">\r\n     <g id=\"line2d_11\">\r\n      <g>\r\n       <use style=\"stroke:#000000;stroke-width:0.8;\" x=\"36.465625\" xlink:href=\"#me529224d48\" y=\"115.92\"/>\r\n      </g>\r\n     </g>\r\n     <g id=\"text_11\">\r\n      <!-- 20.0 -->\r\n      <g transform=\"translate(7.2 119.719219)scale(0.1 -0.1)\">\r\n       <use xlink:href=\"#DejaVuSans-32\"/>\r\n       <use x=\"63.623047\" xlink:href=\"#DejaVuSans-30\"/>\r\n       <use x=\"127.246094\" xlink:href=\"#DejaVuSans-2e\"/>\r\n       <use x=\"159.033203\" xlink:href=\"#DejaVuSans-30\"/>\r\n      </g>\r\n     </g>\r\n    </g>\r\n    <g id=\"ytick_6\">\r\n     <g id=\"line2d_12\">\r\n      <g>\r\n       <use style=\"stroke:#000000;stroke-width:0.8;\" x=\"36.465625\" xlink:href=\"#me529224d48\" y=\"91.210909\"/>\r\n      </g>\r\n     </g>\r\n     <g id=\"text_12\">\r\n      <!-- 22.5 -->\r\n      <g transform=\"translate(7.2 95.010128)scale(0.1 -0.1)\">\r\n       <use xlink:href=\"#DejaVuSans-32\"/>\r\n       <use x=\"63.623047\" xlink:href=\"#DejaVuSans-32\"/>\r\n       <use x=\"127.246094\" xlink:href=\"#DejaVuSans-2e\"/>\r\n       <use x=\"159.033203\" xlink:href=\"#DejaVuSans-35\"/>\r\n      </g>\r\n     </g>\r\n    </g>\r\n    <g id=\"ytick_7\">\r\n     <g id=\"line2d_13\">\r\n      <g>\r\n       <use style=\"stroke:#000000;stroke-width:0.8;\" x=\"36.465625\" xlink:href=\"#me529224d48\" y=\"66.501818\"/>\r\n      </g>\r\n     </g>\r\n     <g id=\"text_13\">\r\n      <!-- 25.0 -->\r\n      <g transform=\"translate(7.2 70.301037)scale(0.1 -0.1)\">\r\n       <use xlink:href=\"#DejaVuSans-32\"/>\r\n       <use x=\"63.623047\" xlink:href=\"#DejaVuSans-35\"/>\r\n       <use x=\"127.246094\" xlink:href=\"#DejaVuSans-2e\"/>\r\n       <use x=\"159.033203\" xlink:href=\"#DejaVuSans-30\"/>\r\n      </g>\r\n     </g>\r\n    </g>\r\n    <g id=\"ytick_8\">\r\n     <g id=\"line2d_14\">\r\n      <g>\r\n       <use style=\"stroke:#000000;stroke-width:0.8;\" x=\"36.465625\" xlink:href=\"#me529224d48\" y=\"41.792727\"/>\r\n      </g>\r\n     </g>\r\n     <g id=\"text_14\">\r\n      <!-- 27.5 -->\r\n      <g transform=\"translate(7.2 45.591946)scale(0.1 -0.1)\">\r\n       <use xlink:href=\"#DejaVuSans-32\"/>\r\n       <use x=\"63.623047\" xlink:href=\"#DejaVuSans-37\"/>\r\n       <use x=\"127.246094\" xlink:href=\"#DejaVuSans-2e\"/>\r\n       <use x=\"159.033203\" xlink:href=\"#DejaVuSans-35\"/>\r\n      </g>\r\n     </g>\r\n    </g>\r\n    <g id=\"ytick_9\">\r\n     <g id=\"line2d_15\">\r\n      <g>\r\n       <use style=\"stroke:#000000;stroke-width:0.8;\" x=\"36.465625\" xlink:href=\"#me529224d48\" y=\"17.083636\"/>\r\n      </g>\r\n     </g>\r\n     <g id=\"text_15\">\r\n      <!-- 30.0 -->\r\n      <g transform=\"translate(7.2 20.882855)scale(0.1 -0.1)\">\r\n       <use xlink:href=\"#DejaVuSans-33\"/>\r\n       <use x=\"63.623047\" xlink:href=\"#DejaVuSans-30\"/>\r\n       <use x=\"127.246094\" xlink:href=\"#DejaVuSans-2e\"/>\r\n       <use x=\"159.033203\" xlink:href=\"#DejaVuSans-30\"/>\r\n      </g>\r\n     </g>\r\n    </g>\r\n   </g>\r\n   <g id=\"line2d_16\">\r\n    <path clip-path=\"url(#pe60a1aa6d7)\" d=\"M 36.465625 17.083636 \r\nL 42.677128 115.92 \r\nL 48.888631 214.756364 \r\nL 55.100133 214.756364 \r\nL 61.311636 214.756364 \r\nL 67.523139 214.756364 \r\nL 73.734642 214.756364 \r\nL 79.946144 214.756364 \r\nL 86.157647 214.756364 \r\nL 92.36915 214.756364 \r\nL 98.580653 214.756364 \r\nL 104.792156 214.756364 \r\nL 111.003658 214.756364 \r\nL 117.215161 17.083636 \r\nL 123.426664 115.92 \r\nL 129.638167 214.756364 \r\nL 135.84967 214.756364 \r\nL 142.061172 214.756364 \r\nL 148.272675 214.756364 \r\nL 154.484178 214.756364 \r\nL 160.695681 214.756364 \r\nL 166.907183 214.756364 \r\nL 173.118686 214.756364 \r\nL 179.330189 214.756364 \r\nL 185.541692 214.756364 \r\nL 191.753195 214.756364 \r\nL 197.964697 17.083636 \r\nL 204.1762 115.92 \r\nL 210.387703 214.756364 \r\nL 216.599206 214.756364 \r\nL 222.810708 214.756364 \r\nL 229.022211 214.756364 \r\nL 235.233714 214.756364 \r\nL 241.445217 214.756364 \r\nL 247.65672 214.756364 \r\nL 253.868222 214.756364 \r\nL 260.079725 214.756364 \r\nL 266.291228 214.756364 \r\nL 272.502731 214.756364 \r\nL 278.714234 17.083636 \r\nL 284.925736 115.92 \r\nL 291.137239 214.756364 \r\nL 297.348742 214.756364 \r\nL 303.560245 214.756364 \r\nL 309.771747 214.756364 \r\nL 315.98325 214.756364 \r\nL 322.194753 214.756364 \r\nL 328.406256 214.756364 \r\nL 334.617759 214.756364 \r\nL 340.829261 214.756364 \r\n\" style=\"fill:none;stroke:#ff0000;stroke-linecap:square;stroke-width:1.5;\"/>\r\n   </g>\r\n   <g id=\"line2d_17\">\r\n    <path clip-path=\"url(#pe60a1aa6d7)\" d=\"M 36.465625 115.92 \r\nL 42.677128 194.989091 \r\nL 48.888631 214.756364 \r\nL 55.100133 214.756364 \r\nL 61.311636 115.92 \r\nL 67.523139 194.989091 \r\nL 73.734642 214.756364 \r\nL 79.946144 214.756364 \r\nL 86.157647 115.92 \r\nL 92.36915 194.989091 \r\nL 98.580653 214.756364 \r\nL 104.792156 214.756364 \r\nL 111.003658 115.92 \r\nL 117.215161 194.989091 \r\nL 123.426664 214.756364 \r\nL 129.638167 214.756364 \r\nL 135.84967 115.92 \r\nL 142.061172 194.989091 \r\nL 148.272675 214.756364 \r\nL 154.484178 214.756364 \r\nL 160.695681 115.92 \r\nL 166.907183 194.989091 \r\nL 173.118686 214.756364 \r\nL 179.330189 214.756364 \r\nL 185.541692 115.92 \r\nL 191.753195 194.989091 \r\nL 197.964697 214.756364 \r\nL 204.1762 214.756364 \r\nL 210.387703 115.92 \r\nL 216.599206 194.989091 \r\nL 222.810708 214.756364 \r\nL 229.022211 214.756364 \r\nL 235.233714 115.92 \r\nL 241.445217 194.989091 \r\nL 247.65672 214.756364 \r\nL 253.868222 214.756364 \r\nL 260.079725 115.92 \r\nL 266.291228 194.989091 \r\nL 272.502731 214.756364 \r\nL 278.714234 214.756364 \r\nL 284.925736 115.92 \r\nL 291.137239 194.989091 \r\nL 297.348742 214.756364 \r\nL 303.560245 214.756364 \r\nL 309.771747 115.92 \r\nL 315.98325 194.989091 \r\nL 322.194753 214.756364 \r\nL 328.406256 214.756364 \r\nL 334.617759 115.92 \r\nL 340.829261 194.989091 \r\n\" style=\"fill:none;stroke:#0000ff;stroke-linecap:square;stroke-width:1.5;\"/>\r\n   </g>\r\n   <g id=\"line2d_18\">\r\n    <path clip-path=\"url(#pe60a1aa6d7)\" d=\"M 36.465625 115.92 \r\nL 42.677128 175.221818 \r\nL 48.888631 214.756364 \r\nL 55.100133 214.756364 \r\nL 61.311636 214.756364 \r\nL 67.523139 214.756364 \r\nL 73.734642 115.92 \r\nL 79.946144 175.221818 \r\nL 86.157647 214.756364 \r\nL 92.36915 214.756364 \r\nL 98.580653 214.756364 \r\nL 104.792156 214.756364 \r\nL 111.003658 115.92 \r\nL 117.215161 175.221818 \r\nL 123.426664 214.756364 \r\nL 129.638167 214.756364 \r\nL 135.84967 214.756364 \r\nL 142.061172 214.756364 \r\nL 148.272675 115.92 \r\nL 154.484178 175.221818 \r\nL 160.695681 214.756364 \r\nL 166.907183 214.756364 \r\nL 173.118686 214.756364 \r\nL 179.330189 214.756364 \r\nL 185.541692 115.92 \r\nL 191.753195 175.221818 \r\nL 197.964697 214.756364 \r\nL 204.1762 214.756364 \r\nL 210.387703 214.756364 \r\nL 216.599206 214.756364 \r\nL 222.810708 115.92 \r\nL 229.022211 175.221818 \r\nL 235.233714 214.756364 \r\nL 241.445217 214.756364 \r\nL 247.65672 214.756364 \r\nL 253.868222 214.756364 \r\nL 260.079725 115.92 \r\nL 266.291228 175.221818 \r\nL 272.502731 214.756364 \r\nL 278.714234 214.756364 \r\nL 284.925736 214.756364 \r\nL 291.137239 214.756364 \r\nL 297.348742 115.92 \r\nL 303.560245 175.221818 \r\nL 309.771747 214.756364 \r\nL 315.98325 214.756364 \r\nL 322.194753 214.756364 \r\nL 328.406256 214.756364 \r\nL 334.617759 115.92 \r\nL 340.829261 175.221818 \r\n\" style=\"fill:none;stroke:#00bfbf;stroke-linecap:square;stroke-width:1.5;\"/>\r\n   </g>\r\n   <g id=\"patch_3\">\r\n    <path d=\"M 36.465625 224.64 \r\nL 36.465625 7.2 \r\n\" style=\"fill:none;stroke:#000000;stroke-linecap:square;stroke-linejoin:miter;stroke-width:0.8;\"/>\r\n   </g>\r\n   <g id=\"patch_4\">\r\n    <path d=\"M 356.047443 224.64 \r\nL 356.047443 7.2 \r\n\" style=\"fill:none;\"/>\r\n   </g>\r\n   <g id=\"patch_5\">\r\n    <path d=\"M 21.247443 313.592727 \r\nL 356.047443 313.592727 \r\n\" style=\"fill:none;stroke:#000000;stroke-linecap:square;stroke-linejoin:miter;stroke-width:0.8;\"/>\r\n   </g>\r\n   <g id=\"patch_6\">\r\n    <path d=\"M 21.247443 7.2 \r\nL 356.047443 7.2 \r\n\" style=\"fill:none;\"/>\r\n   </g>\r\n   <g id=\"legend_1\">\r\n    <g id=\"patch_7\">\r\n     <path d=\"M 28.247443 59.234375 \r\nL 100.913068 59.234375 \r\nQ 102.913068 59.234375 102.913068 57.234375 \r\nL 102.913068 14.2 \r\nQ 102.913068 12.2 100.913068 12.2 \r\nL 28.247443 12.2 \r\nQ 26.247443 12.2 26.247443 14.2 \r\nL 26.247443 57.234375 \r\nQ 26.247443 59.234375 28.247443 59.234375 \r\nz\r\n\" style=\"fill:#ffffff;opacity:0.8;stroke:#cccccc;stroke-linejoin:miter;\"/>\r\n    </g>\r\n    <g id=\"line2d_19\">\r\n     <path d=\"M 30.247443 20.298438 \r\nL 50.247443 20.298438 \r\n\" style=\"fill:none;stroke:#ff0000;stroke-linecap:square;stroke-width:1.5;\"/>\r\n    </g>\r\n    <g id=\"line2d_20\"/>\r\n    <g id=\"text_16\">\r\n     <!-- cicadas -->\r\n     <g transform=\"translate(58.247443 23.798438)scale(0.1 -0.1)\">\r\n      <defs>\r\n       <path d=\"M 3122 3366 \r\nL 3122 2828 \r\nQ 2878 2963 2633 3030 \r\nQ 2388 3097 2138 3097 \r\nQ 1578 3097 1268 2742 \r\nQ 959 2388 959 1747 \r\nQ 959 1106 1268 751 \r\nQ 1578 397 2138 397 \r\nQ 2388 397 2633 464 \r\nQ 2878 531 3122 666 \r\nL 3122 134 \r\nQ 2881 22 2623 -34 \r\nQ 2366 -91 2075 -91 \r\nQ 1284 -91 818 406 \r\nQ 353 903 353 1747 \r\nQ 353 2603 823 3093 \r\nQ 1294 3584 2113 3584 \r\nQ 2378 3584 2631 3529 \r\nQ 2884 3475 3122 3366 \r\nz\r\n\" id=\"DejaVuSans-63\" transform=\"scale(0.015625)\"/>\r\n       <path d=\"M 603 3500 \r\nL 1178 3500 \r\nL 1178 0 \r\nL 603 0 \r\nL 603 3500 \r\nz\r\nM 603 4863 \r\nL 1178 4863 \r\nL 1178 4134 \r\nL 603 4134 \r\nL 603 4863 \r\nz\r\n\" id=\"DejaVuSans-69\" transform=\"scale(0.015625)\"/>\r\n       <path d=\"M 2194 1759 \r\nQ 1497 1759 1228 1600 \r\nQ 959 1441 959 1056 \r\nQ 959 750 1161 570 \r\nQ 1363 391 1709 391 \r\nQ 2188 391 2477 730 \r\nQ 2766 1069 2766 1631 \r\nL 2766 1759 \r\nL 2194 1759 \r\nz\r\nM 3341 1997 \r\nL 3341 0 \r\nL 2766 0 \r\nL 2766 531 \r\nQ 2569 213 2275 61 \r\nQ 1981 -91 1556 -91 \r\nQ 1019 -91 701 211 \r\nQ 384 513 384 1019 \r\nQ 384 1609 779 1909 \r\nQ 1175 2209 1959 2209 \r\nL 2766 2209 \r\nL 2766 2266 \r\nQ 2766 2663 2505 2880 \r\nQ 2244 3097 1772 3097 \r\nQ 1472 3097 1187 3025 \r\nQ 903 2953 641 2809 \r\nL 641 3341 \r\nQ 956 3463 1253 3523 \r\nQ 1550 3584 1831 3584 \r\nQ 2591 3584 2966 3190 \r\nQ 3341 2797 3341 1997 \r\nz\r\n\" id=\"DejaVuSans-61\" transform=\"scale(0.015625)\"/>\r\n       <path d=\"M 2906 2969 \r\nL 2906 4863 \r\nL 3481 4863 \r\nL 3481 0 \r\nL 2906 0 \r\nL 2906 525 \r\nQ 2725 213 2448 61 \r\nQ 2172 -91 1784 -91 \r\nQ 1150 -91 751 415 \r\nQ 353 922 353 1747 \r\nQ 353 2572 751 3078 \r\nQ 1150 3584 1784 3584 \r\nQ 2172 3584 2448 3432 \r\nQ 2725 3281 2906 2969 \r\nz\r\nM 947 1747 \r\nQ 947 1113 1208 752 \r\nQ 1469 391 1925 391 \r\nQ 2381 391 2643 752 \r\nQ 2906 1113 2906 1747 \r\nQ 2906 2381 2643 2742 \r\nQ 2381 3103 1925 3103 \r\nQ 1469 3103 1208 2742 \r\nQ 947 2381 947 1747 \r\nz\r\n\" id=\"DejaVuSans-64\" transform=\"scale(0.015625)\"/>\r\n       <path d=\"M 2834 3397 \r\nL 2834 2853 \r\nQ 2591 2978 2328 3040 \r\nQ 2066 3103 1784 3103 \r\nQ 1356 3103 1142 2972 \r\nQ 928 2841 928 2578 \r\nQ 928 2378 1081 2264 \r\nQ 1234 2150 1697 2047 \r\nL 1894 2003 \r\nQ 2506 1872 2764 1633 \r\nQ 3022 1394 3022 966 \r\nQ 3022 478 2636 193 \r\nQ 2250 -91 1575 -91 \r\nQ 1294 -91 989 -36 \r\nQ 684 19 347 128 \r\nL 347 722 \r\nQ 666 556 975 473 \r\nQ 1284 391 1588 391 \r\nQ 1994 391 2212 530 \r\nQ 2431 669 2431 922 \r\nQ 2431 1156 2273 1281 \r\nQ 2116 1406 1581 1522 \r\nL 1381 1569 \r\nQ 847 1681 609 1914 \r\nQ 372 2147 372 2553 \r\nQ 372 3047 722 3315 \r\nQ 1072 3584 1716 3584 \r\nQ 2034 3584 2315 3537 \r\nQ 2597 3491 2834 3397 \r\nz\r\n\" id=\"DejaVuSans-73\" transform=\"scale(0.015625)\"/>\r\n      </defs>\r\n      <use xlink:href=\"#DejaVuSans-63\"/>\r\n      <use x=\"54.980469\" xlink:href=\"#DejaVuSans-69\"/>\r\n      <use x=\"82.763672\" xlink:href=\"#DejaVuSans-63\"/>\r\n      <use x=\"137.744141\" xlink:href=\"#DejaVuSans-61\"/>\r\n      <use x=\"199.023438\" xlink:href=\"#DejaVuSans-64\"/>\r\n      <use x=\"262.5\" xlink:href=\"#DejaVuSans-61\"/>\r\n      <use x=\"323.779297\" xlink:href=\"#DejaVuSans-73\"/>\r\n     </g>\r\n    </g>\r\n    <g id=\"line2d_21\">\r\n     <path d=\"M 30.247443 34.976563 \r\nL 50.247443 34.976563 \r\n\" style=\"fill:none;stroke:#0000ff;stroke-linecap:square;stroke-width:1.5;\"/>\r\n    </g>\r\n    <g id=\"line2d_22\"/>\r\n    <g id=\"text_17\">\r\n     <!-- enemy1 -->\r\n     <g transform=\"translate(58.247443 38.476563)scale(0.1 -0.1)\">\r\n      <defs>\r\n       <path d=\"M 3597 1894 \r\nL 3597 1613 \r\nL 953 1613 \r\nQ 991 1019 1311 708 \r\nQ 1631 397 2203 397 \r\nQ 2534 397 2845 478 \r\nQ 3156 559 3463 722 \r\nL 3463 178 \r\nQ 3153 47 2828 -22 \r\nQ 2503 -91 2169 -91 \r\nQ 1331 -91 842 396 \r\nQ 353 884 353 1716 \r\nQ 353 2575 817 3079 \r\nQ 1281 3584 2069 3584 \r\nQ 2775 3584 3186 3129 \r\nQ 3597 2675 3597 1894 \r\nz\r\nM 3022 2063 \r\nQ 3016 2534 2758 2815 \r\nQ 2500 3097 2075 3097 \r\nQ 1594 3097 1305 2825 \r\nQ 1016 2553 972 2059 \r\nL 3022 2063 \r\nz\r\n\" id=\"DejaVuSans-65\" transform=\"scale(0.015625)\"/>\r\n       <path d=\"M 3513 2113 \r\nL 3513 0 \r\nL 2938 0 \r\nL 2938 2094 \r\nQ 2938 2591 2744 2837 \r\nQ 2550 3084 2163 3084 \r\nQ 1697 3084 1428 2787 \r\nQ 1159 2491 1159 1978 \r\nL 1159 0 \r\nL 581 0 \r\nL 581 3500 \r\nL 1159 3500 \r\nL 1159 2956 \r\nQ 1366 3272 1645 3428 \r\nQ 1925 3584 2291 3584 \r\nQ 2894 3584 3203 3211 \r\nQ 3513 2838 3513 2113 \r\nz\r\n\" id=\"DejaVuSans-6e\" transform=\"scale(0.015625)\"/>\r\n       <path d=\"M 3328 2828 \r\nQ 3544 3216 3844 3400 \r\nQ 4144 3584 4550 3584 \r\nQ 5097 3584 5394 3201 \r\nQ 5691 2819 5691 2113 \r\nL 5691 0 \r\nL 5113 0 \r\nL 5113 2094 \r\nQ 5113 2597 4934 2840 \r\nQ 4756 3084 4391 3084 \r\nQ 3944 3084 3684 2787 \r\nQ 3425 2491 3425 1978 \r\nL 3425 0 \r\nL 2847 0 \r\nL 2847 2094 \r\nQ 2847 2600 2669 2842 \r\nQ 2491 3084 2119 3084 \r\nQ 1678 3084 1418 2786 \r\nQ 1159 2488 1159 1978 \r\nL 1159 0 \r\nL 581 0 \r\nL 581 3500 \r\nL 1159 3500 \r\nL 1159 2956 \r\nQ 1356 3278 1631 3431 \r\nQ 1906 3584 2284 3584 \r\nQ 2666 3584 2933 3390 \r\nQ 3200 3197 3328 2828 \r\nz\r\n\" id=\"DejaVuSans-6d\" transform=\"scale(0.015625)\"/>\r\n       <path d=\"M 2059 -325 \r\nQ 1816 -950 1584 -1140 \r\nQ 1353 -1331 966 -1331 \r\nL 506 -1331 \r\nL 506 -850 \r\nL 844 -850 \r\nQ 1081 -850 1212 -737 \r\nQ 1344 -625 1503 -206 \r\nL 1606 56 \r\nL 191 3500 \r\nL 800 3500 \r\nL 1894 763 \r\nL 2988 3500 \r\nL 3597 3500 \r\nL 2059 -325 \r\nz\r\n\" id=\"DejaVuSans-79\" transform=\"scale(0.015625)\"/>\r\n      </defs>\r\n      <use xlink:href=\"#DejaVuSans-65\"/>\r\n      <use x=\"61.523438\" xlink:href=\"#DejaVuSans-6e\"/>\r\n      <use x=\"124.902344\" xlink:href=\"#DejaVuSans-65\"/>\r\n      <use x=\"186.425781\" xlink:href=\"#DejaVuSans-6d\"/>\r\n      <use x=\"283.837891\" xlink:href=\"#DejaVuSans-79\"/>\r\n      <use x=\"343.017578\" xlink:href=\"#DejaVuSans-31\"/>\r\n     </g>\r\n    </g>\r\n    <g id=\"line2d_23\">\r\n     <path d=\"M 30.247443 49.654688 \r\nL 50.247443 49.654688 \r\n\" style=\"fill:none;stroke:#00bfbf;stroke-linecap:square;stroke-width:1.5;\"/>\r\n    </g>\r\n    <g id=\"line2d_24\"/>\r\n    <g id=\"text_18\">\r\n     <!-- enemy2 -->\r\n     <g transform=\"translate(58.247443 53.154688)scale(0.1 -0.1)\">\r\n      <use xlink:href=\"#DejaVuSans-65\"/>\r\n      <use x=\"61.523438\" xlink:href=\"#DejaVuSans-6e\"/>\r\n      <use x=\"124.902344\" xlink:href=\"#DejaVuSans-65\"/>\r\n      <use x=\"186.425781\" xlink:href=\"#DejaVuSans-6d\"/>\r\n      <use x=\"283.837891\" xlink:href=\"#DejaVuSans-79\"/>\r\n      <use x=\"343.017578\" xlink:href=\"#DejaVuSans-32\"/>\r\n     </g>\r\n    </g>\r\n   </g>\r\n  </g>\r\n </g>\r\n <defs>\r\n  <clipPath id=\"pe60a1aa6d7\">\r\n   <rect height=\"217.44\" width=\"334.8\" x=\"21.247443\" y=\"7.2\"/>\r\n  </clipPath>\r\n </defs>\r\n</svg>\r\n",
      "image/png": "[encoded data removed]"
     },
     "metadata": {
      "needs_background": "light"
     }
    }
   ],
   "source": [
    "## do a plot here that shows cicadas vs predator reproduction cycle\n",
    "\n",
    "import matplotlib.pyplot as plt\n",
    "\n",
    "\n",
    "def life_cycle(interval, growth, decline):\n",
    "    life = []\n",
    "    populus = 10\n",
    "    for i in range(50):\n",
    "        if i%interval == 0:\n",
    "            populus *= growth\n",
    "        else:\n",
    "            populus -= decline\n",
    "        if populus < 10:\n",
    "            populus = 10\n",
    "        life.append(populus)\n",
    "    return life\n",
    "\n",
    "\n",
    "cicadas = life_cycle(13, 3, 10)\n",
    "enemy1 = life_cycle(4, 2, 8)\n",
    "enemy2 = life_cycle(6, 2, 6)\n",
    "\n",
    "fig = plt.figure()\n",
    "ax = fig.add_subplot(1, 1, 1)\n",
    "\n",
    "ax.spines['left'].set_position('zero')\n",
    "ax.spines['bottom'].set_position('zero')\n",
    "ax.spines['right'].set_color('none')\n",
    "ax.spines['top'].set_color('none')\n",
    "ax.xaxis.set_ticks_position('bottom')\n",
    "ax.yaxis.set_ticks_position('left')\n",
    "\n",
    "plt.plot(cicadas,'r', label='cicadas')\n",
    "plt.plot(enemy1,'b', label='enemy1')\n",
    "plt.plot(enemy2,'c', label='enemy2')\n",
    "\n",
    "plt.legend(loc='upper left')\n",
    "\n",
    "plt.show()"
   ]
  },
  {
   "source": [
    "\n",
    "\n",
    "Singing cicadas live in the United States and only mate every 13 or 17 years. For example, the American Magicicada septendecim only leaves its underground hiding place after exactly 17 years in order to reproduce within a period of about three weeks. The larvae that hatch from the eggs live underground until they crawl to the surface of the earth almost on the same day in 17 years. A Chilean-German research team has found out why it only crawls out of its underground hiding place after 17 years. 13 and 17 are prime numbers. Since their enemies and competitors usually live in 2, 4 or 6 year rhythms, _the_ _cicadas_ _can_ _increase_ _their_ _chances_ _of_ _survival_ _by_ _reproducing_ _in_ _the_ _“low_ _birth”_ _cohorts_ _of_ _their_ _predators._ During their short aboveground life from mid-May to June, the cicadas do not cause any damage despite their massive occurrence.\n",
    "\n",
    "Source:  Gene Kritsky, PhD, Periodical Cicadas: The Brood X Edition, <br> https://www.amazon.com/gp/product/B08X3XKRW7/ref=as_li_tl?ie=UTF8&camp=1789&creative=9325&creativeASIN=B08X3XKRW7&linkCode=as2&tag=cicadamania-20&linkId=1b83fa112465e182eabdfa1616119d8f"
   ],
   "cell_type": "markdown",
   "metadata": {}
  },
  {
   "source": [
    "# Fibonachi"
   ],
   "cell_type": "markdown",
   "metadata": {}
  },
  {
   "cell_type": "code",
   "execution_count": 13,
   "metadata": {},
   "outputs": [],
   "source": [
    "# Exercise 1.3\n",
    "\n",
    "def fibs_up_to(num1, num2, limit):\n",
    "    \"\"\"\n",
    "    return: Tuble\n",
    "    last two digits of the Fibonachi sequence up to limit\n",
    "    \"\"\"\n",
    "    num1b, num2b = num2, num2 + num1   # Fibonachi logic\n",
    "    if num2b < limit:                  # Recursive Condition\n",
    "        num1, num2 = fibs_up_to(num1b, num2b, limit) # Recursive Call\n",
    "    return num1, num2\n",
    "\n",
    "def tiles_area(x):\n",
    "    a, b = fibs_up_to(0, 1, x)         # fibonachi up to x\n",
    "    return (a*(a+b))                   # area formula square"
   ]
  },
  {
   "cell_type": "code",
   "execution_count": 14,
   "metadata": {},
   "outputs": [
    {
     "output_type": "stream",
     "name": "stdout",
     "text": [
      "45,765,226\n"
     ]
    }
   ],
   "source": [
    "print(format(tiles_area(10000), \",\"))"
   ]
  },
  {
   "cell_type": "code",
   "execution_count": 15,
   "metadata": {},
   "outputs": [
    {
     "output_type": "stream",
     "name": "stdout",
     "text": [
      "214.41369860750336\n"
     ]
    }
   ],
   "source": [
    "# Area of the Fibonachi spiral\n",
    "\n",
    "# Area Formula for each square: math.pi * pow(num2,2) / 4\n",
    "\n",
    "import math\n",
    "\n",
    "def spiral_area(num1, num2, limit):\n",
    "    area = 0\n",
    "    # Fibonachi logic\n",
    "    num1b, num2b = num2, num2 + num1\n",
    "    # Recursive Condition\n",
    "    if num2b < limit:\n",
    "        # Recursive Call\n",
    "        area = (math.pi * pow(num2, 2) / 4) + spiral_area(num1b, num2b, limit)\n",
    "    # Stop\n",
    "    return area\n",
    "\n",
    "print(spiral_area(0, 1, 23))"
   ]
  },
  {
   "source": [
    "Recherchieren Sie je ein Beispiel für Anwendung von Primzahlen in der Informatik und in der Natur und stellen Sie es kurz ca. 1/4 Seite plus Diagramme oder Bilder. Zitieren Sie Ihre Quellen.\n",
    "\n",
    "Recherchieren Sie je ein weiteres Beispiel der Fibbonacci Fliesen/Spiralen in Natur und Infomatik (Mathematik) und stellen Sie es kurz dar."
   ],
   "cell_type": "markdown",
   "metadata": {}
  }
 ],
 "metadata": {
  "kernelspec": {
   "name": "python392jvsc74a57bd086b7ff3cad48129fe2c74e38aa4d069dda00f9162f383ad625bb2610c7022dc5",
   "display_name": "Python 3.9.2 64-bit ('maths')"
  },
  "metadata": {
   "interpreter": {
    "hash": "f4fde45515710cbe4f4cf44a8ddef1b298277709bd6c5462499553af68a98f2e"
   }
  }
 },
 "nbformat": 4,
 "nbformat_minor": 4
}