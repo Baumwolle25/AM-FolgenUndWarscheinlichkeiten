{
 "cells": [
  {
   "cell_type": "markdown",
   "metadata": {},
   "source": [
    "# Projekt 1\n",
    "Suchen Sie nach Problemlösungsstrategien. Ziel dieses ersten Projekts ist es sich mit Python etwas mehr vertraut zu machen und die Systeme zu erkennen, die mittels mathematischen Folgen beschrieben werden. (Notebook 1 - 7)\n",
    "\n",
    "## Aufgabe 1.1 - Primzahlen in Systemen\n",
    "\n",
    "Primzahlen werden als Zahlen definiert, welche nur durch sich selbst oder durch 1 teilbar sind. Primzahlen sind sehr wichtig für Anwendungen in der Mathematik & Informatik. Aber auch viele Systeme in der Natur folgen Primzahlen. \n",
    "\n",
    "* a) Schreiben Sie ein Programm, dass Ihnen die Primzahlen unter 1000 mit ``print`` ausgibt. \n",
    "Hinweis: Sie können den ``%`` Operator verwenden, der immer den Rest einer ``integer`` Division zurückgibt.\n",
    "* b) Recherchieren Sie je ein Beispiel für Anwendung von Primzahlen in der Informatik und in der Natur und stellen Sie es kurz ca. 1/4 Seite plus Diagramme oder Bilder. Zitieren Sie Ihre Quellen. \n",
    "\n",
    "## Aufgabe 1.2 - Primzahlen Algorithmus - einfaches optimieren\n",
    "\n",
    "Im Bezug auf Aufgabe 1.1, wenn überprüft wird ob eine Zahl im ``loop`` eine Primzahl ist, kommt oft folgendes vor:\n",
    "\n",
    "Sie finden einen Zahl, die durch eine andere Zahl geteilt werden kann. Dann ist es nicht mehr nötig noch zu überprüfen ob es auch noch andere Teiler gibt. Diese Zahl ist schon jetzt keine Primzahl. Kopieren Sie den Code von Aufgabe 1 und ändern Sie ihn so ab, dass die ``loop`` an dieser Stelle gebrochen wird. Argumentieren Sie wofür das gut ist.\n",
    "\n",
    "## Aufgabe 1.3 - Fibonacci in Systemen\n",
    "\n",
    "Eine andere wichtige Zahlenfolge in Natur und Informatik ist die Fibonacci Folge. Die ersten zwei Zahlen der Folge sind 0 und 1. Die Summe der beiden Zahlen ergibt die nächste Zahl der Folge und so weiter ... ``[0, 1, 1, 2, 3, 5, ...]``.\n",
    "\n",
    "In der Kunst, Wissenschaft und Technik gibt es sehr viele Systeme, welche durch Fibbonachizahlen beschrieben werden.\n",
    "\n",
    "a) Finden Sie die Größe der Fläche, welche durch Fibbonacci Fliesen gelegt werden kann (analog zu Bild 1), wenn die größte quadratische Fliese die Seitenlänge Fibbonacci Zahl $F_x$ hat. Ermitteln Sie es für den konkreten Fall, dass $F_x$ die größte aller möglichen $F_x$ mit $F_x<10.000$ ist.\n",
    "\n",
    "Darstellung 1: https://en.wikipedia.org/wiki/Fibonacci_number#/media/File:34*21-FibonacciBlocks.png\n",
    "\n",
    "b) Finden Sie auch die Fläche der Fibbonacci Spirale im Allgemeinen und für den Fall von $F_x<10.000$.\n",
    "\n",
    "\n",
    "Darstellung 2: https://en.wikipedia.org/wiki/Fibonacci_number#/media/File:FibonacciSpiral.svg\n",
    "\n",
    "\n",
    "**Vorgehensweise:**\n",
    "* Schreiben Sie ein Programm (evtl. mit der ``while`` loop) welches Ihnen die Fibonacci Folge unter der Zahl 10000 ausgibt. Sie können auch die Sequenz in einer Python ``list`` speichern und später die Zahlen alle gemeinsam ausgeben. \n",
    "* Überprüfen Sie, ob eine der Fibonacci Zahlen eine Quadratzahl ist (also z. B. ``0*0``, ``1*1``, ``2*2``, ``3*3``, ``4*4``) und geben Sie auch diese Zahlen aus. \n",
    "* Nutzen Sie diese Bausteine um Frage a und b zu beantworten.\n",
    "* Recherchieren Sie je ein weiteres Beispiel der Fibbonacci Fliesen/Spiralen in Natur und Infomatik (Mathematik) und stellen Sie es kurz dar.\n",
    "\n",
    "\n",
    "\n",
    "## Aufgabe 1.4 - Primzahlen und Funktionen\n",
    "\n",
    "Modifizieren Sie Ihren CODE aus Aufgabe 1.2. Erstellen Sie eine Funktion, die bei der Eingabe einer Zahl folgendes ausgibt: \n",
    "* ``return`` ``True`` bei Primzahlen\n",
    "* ``return`` ``False``bei keinen Primzahlen"
   ]
  },
  {
   "cell_type": "code",
   "execution_count": null,
   "metadata": {},
   "outputs": [],
   "source": []
  }
 ],
 "metadata": {
  "kernelspec": {
   "display_name": "Python 3",
   "language": "python",
   "name": "python3"
  }
 },
 "nbformat": 4,
 "nbformat_minor": 4
}
