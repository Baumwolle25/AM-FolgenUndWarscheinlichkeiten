{
 "cells": [
  {
   "source": [
    "# Primes"
   ],
   "cell_type": "markdown",
   "metadata": {}
  },
  {
   "cell_type": "code",
   "execution_count": 1,
   "metadata": {},
   "outputs": [
    {
     "output_type": "stream",
     "name": "stdout",
     "text": [
      "[2, 3, 4, 5, 7, 11, 13, 17, 19, 23, 29, 31, 37, 41, 43, 47, 53, 59, 61, 67, 71, 73, 79, 83, 89, 97, 101, 103, 107, 109, 113, 127, 131, 137, 139, 149, 151, 157, 163, 167, 173, 179, 181, 191, 193, 197, 199, 211, 223, 227, 229, 233, 239, 241, 251, 257, 263, 269, 271, 277, 281, 283, 293, 307, 311, 313, 317, 331, 337, 347, 349, 353, 359, 367, 373, 379, 383, 389, 397, 401, 409, 419, 421, 431, 433, 439, 443, 449, 457, 461, 463, 467, 479, 487, 491, 499, 503, 509, 521, 523, 541, 547, 557, 563, 569, 571, 577, 587, 593, 599, 601, 607, 613, 617, 619, 631, 641, 643, 647, 653, 659, 661, 673, 677, 683, 691, 701, 709, 719, 727, 733, 739, 743, 751, 757, 761, 769, 773, 787, 797, 809, 811, 821, 823, 827, 829, 839, 853, 857, 859, 863, 877, 881, 883, 887, 907, 911, 919, 929, 937, 941, 947, 953, 967, 971, 977, 983, 991, 997]\n247506\n"
     ]
    }
   ],
   "source": [
    "# Exercise 1.1\n",
    "\n",
    "sol = []\n",
    "circles1 = 0\n",
    "for i in range(2, 1000, 1):  # start, stop, step\n",
    "    prime = True\n",
    "    for j in range(2, int(i/2), 1):\n",
    "        circles1 += 1       # how often we check for a prime\n",
    "        if i % j == 0:\n",
    "            prime = False\n",
    "    if prime:\n",
    "        sol.append(i)\n",
    "print(sol)\n",
    "print(circles1)"
   ]
  },
  {
   "source": [
    "# Exercise 1.2\n",
    "\n",
    "sol = []\n",
    "circles2 = 0\n",
    "for i in range(2, 1000, 1):\n",
    "    prime = True\n",
    "    for j in range(2, int(i/2), 1):\n",
    "        circles2 += 1\n",
    "        if i % j == 0:\n",
    "            prime = False\n",
    "            break           # not a prime no more runs\n",
    "    if prime:\n",
    "        sol.append(i)\n",
    "print(sol)\n",
    "print(circles2)"
   ],
   "cell_type": "code",
   "metadata": {},
   "execution_count": 2,
   "outputs": [
    {
     "output_type": "stream",
     "name": "stdout",
     "text": [
      "[2, 3, 4, 5, 7, 11, 13, 17, 19, 23, 29, 31, 37, 41, 43, 47, 53, 59, 61, 67, 71, 73, 79, 83, 89, 97, 101, 103, 107, 109, 113, 127, 131, 137, 139, 149, 151, 157, 163, 167, 173, 179, 181, 191, 193, 197, 199, 211, 223, 227, 229, 233, 239, 241, 251, 257, 263, 269, 271, 277, 281, 283, 293, 307, 311, 313, 317, 331, 337, 347, 349, 353, 359, 367, 373, 379, 383, 389, 397, 401, 409, 419, 421, 431, 433, 439, 443, 449, 457, 461, 463, 467, 479, 487, 491, 499, 503, 509, 521, 523, 541, 547, 557, 563, 569, 571, 577, 587, 593, 599, 601, 607, 613, 617, 619, 631, 641, 643, 647, 653, 659, 661, 673, 677, 683, 691, 701, 709, 719, 727, 733, 739, 743, 751, 757, 761, 769, 773, 787, 797, 809, 811, 821, 823, 827, 829, 839, 853, 857, 859, 863, 877, 881, 883, 887, 907, 911, 919, 929, 937, 941, 947, 953, 967, 971, 977, 983, 991, 997]\n39875\n"
     ]
    }
   ]
  },
  {
   "cell_type": "code",
   "execution_count": 3,
   "metadata": {},
   "outputs": [
    {
     "output_type": "stream",
     "name": "stdout",
     "text": [
      "thats why\n"
     ]
    }
   ],
   "source": [
    "# Optimisation Check\n",
    "\n",
    "if circles1 > circles2:\n",
    "    print(\"thats why\")\n",
    "else:\n",
    "    print(\"why even bother\")"
   ]
  },
  {
   "cell_type": "code",
   "execution_count": 4,
   "metadata": {},
   "outputs": [],
   "source": [
    "# Exercise 1.4\n",
    "\n",
    "def is_prime(x):\n",
    "    \"\"\"\n",
    "    return: Boolean\n",
    "    True if prime, else False\n",
    "    \"\"\"\n",
    "    for j in range(2, int(i/2), 1):\n",
    "        if i % j == 0:\n",
    "            return False\n",
    "    return True"
   ]
  },
  {
   "cell_type": "code",
   "execution_count": 5,
   "metadata": {},
   "outputs": [],
   "source": [
    "# Validity test\n",
    "\n",
    "valid = []\n",
    "for i in range(2, 1000, 1):\n",
    "    func = is_prime(i)           # should already know the answer\n",
    "    prime = True        \n",
    "    for j in range(2, int(i/2), 1):\n",
    "        if i % j == 0:\n",
    "            prime = False\n",
    "            if not func and not prime: # did both get the same result?\n",
    "                valid.append(True)\n",
    "            break\n",
    "    if func and prime:          # did both get the same result?\n",
    "        valid.append(True)\n",
    "\n",
    "for i in valid:\n",
    "    if not i:\n",
    "        print(\"ähem\")"
   ]
  },
  {
   "source": [
    "# Fibonachi"
   ],
   "cell_type": "markdown",
   "metadata": {}
  },
  {
   "cell_type": "code",
   "execution_count": 6,
   "metadata": {},
   "outputs": [],
   "source": [
    "# Exercise 1.3\n",
    "\n",
    "def fibs_up_to(num1, num2, limit):\n",
    "    \"\"\"\n",
    "    return: Tuble\n",
    "    last two digits of the Fibonachi sequence up to limit\n",
    "    \"\"\"\n",
    "    # Fibonachi logic\n",
    "    num1b, num2b = num2, num2 + num1\n",
    "    # Recursive Condition\n",
    "    if num2b < limit:\n",
    "        # Recursive Call\n",
    "        num1, num2 = fibs_up_to(num1b, num2b, limit)\n",
    "    # Stop\n",
    "    return num1, num2\n",
    "\n",
    "def tiles_area(x):\n",
    "    a, b = fibs_up_to(0, 1, x)    # fibonachi up to x\n",
    "    return (a*(a+b))            # area formula square"
   ]
  },
  {
   "cell_type": "code",
   "execution_count": 7,
   "metadata": {},
   "outputs": [
    {
     "output_type": "stream",
     "name": "stdout",
     "text": [
      "45,765,226\n"
     ]
    }
   ],
   "source": [
    "print(format(tiles_area(10000), \",\"))"
   ]
  },
  {
   "cell_type": "code",
   "execution_count": 8,
   "metadata": {},
   "outputs": [
    {
     "output_type": "stream",
     "name": "stdout",
     "text": [
      "214.41369860750336\n"
     ]
    }
   ],
   "source": [
    "# Area of the Fibonachi spiral\n",
    "\n",
    "# Area Formula for each square: math.pi * pow(num2,2) / 4\n",
    "\n",
    "import math\n",
    "\n",
    "def spiral_area(num1, num2, limit):\n",
    "    area = 0\n",
    "    # Fibonachi logic\n",
    "    num1b, num2b = num2, num2 + num1\n",
    "    # Recursive Condition\n",
    "    if num2b < limit:\n",
    "        # Recursive Call\n",
    "        area = (math.pi * pow(num2, 2) / 4) + spiral_area(num1b, num2b, limit)\n",
    "    # Stop\n",
    "    return area\n",
    "\n",
    "print(spiral_area(0, 1, 23))"
   ]
  },
  {
   "source": [
    "Recherchieren Sie je ein Beispiel für Anwendung von Primzahlen in der Informatik und in der Natur und stellen Sie es kurz ca. 1/4 Seite plus Diagramme oder Bilder. Zitieren Sie Ihre Quellen.\n",
    "\n",
    "Recherchieren Sie je ein weiteres Beispiel der Fibbonacci Fliesen/Spiralen in Natur und Infomatik (Mathematik) und stellen Sie es kurz dar."
   ],
   "cell_type": "code",
   "metadata": {},
   "execution_count": null,
   "outputs": []
  }
 ],
 "metadata": {
  "kernelspec": {
   "name": "python392jvsc74a57bd0f4fde45515710cbe4f4cf44a8ddef1b298277709bd6c5462499553af68a98f2e",
   "display_name": "Python 3.9.2 64-bit"
  },
  "metadata": {
   "interpreter": {
    "hash": "f4fde45515710cbe4f4cf44a8ddef1b298277709bd6c5462499553af68a98f2e"
   }
  }
 },
 "nbformat": 4,
 "nbformat_minor": 4
}