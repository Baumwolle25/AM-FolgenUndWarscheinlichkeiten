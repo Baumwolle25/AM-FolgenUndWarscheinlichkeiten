{
 "cells": [
  {
   "source": [
    "# Projekt 1\n",
    "Suchen Sie nach Problemlösungsstrategien. Ziel dieses ersten Projekts ist es sich mit Python etwas mehr vertraut zu machen und die Systeme zu erkennen, die mittels mathematischen Folgen beschrieben werden. (Notebook 1 - 7)\n",
    "\n",
    "## Aufgabe 1.1 - Primzahlen in Systemen\n",
    "\n",
    "Primzahlen werden als Zahlen definiert, welche nur durch sich selbst oder durch 1 teilbar sind. Primzahlen sind sehr wichtig für Anwendungen in der Mathematik & Informatik. Aber auch viele Systeme in der Natur folgen Primzahlen. \n",
    "\n",
    "* a) Schreiben Sie ein Programm, dass Ihnen die Primzahlen unter 1000 mit ``print`` ausgibt. \n",
    "Hinweis: Sie können den ``%`` Operator verwenden, der immer den Rest einer ``integer`` Division zurückgibt.\n",
    "* b) Recherchieren Sie je ein Beispiel für Anwendung von Primzahlen in der Informatik und in der Natur und stellen Sie es kurz ca. 1/4 Seite plus Diagramme oder Bilder. Zitieren Sie Ihre Quellen. \n",
    "\n",
    "## Aufgabe 1.2 - Primzahlen Algorithmus - einfaches optimieren\n",
    "\n",
    "Im Bezug auf Aufgabe 1.1, wenn überprüft wird ob eine Zahl im ``loop`` eine Primzahl ist, kommt oft folgendes vor:\n",
    "\n",
    "Sie finden einen Zahl, die durch eine andere Zahl geteilt werden kann. Dann ist es nicht mehr nötig noch zu überprüfen ob es auch noch andere Teiler gibt. Diese Zahl ist schon jetzt keine Primzahl. Kopieren Sie den Code von Aufgabe 1 und ändern Sie ihn so ab, dass die ``loop`` an dieser Stelle gebrochen wird. Argumentieren Sie wofür das gut ist.\n",
    "\n",
    "## Aufgabe 1.3 - Fibonacci in Systemen\n",
    "\n",
    "Eine andere wichtige Zahlenfolge in Natur und Informatik ist die Fibonacci Folge. Die ersten zwei Zahlen der Folge sind 0 und 1. Die Summe der beiden Zahlen ergibt die nächste Zahl der Folge und so weiter ... ``[0, 1, 1, 2, 3, 5, ...]``.\n",
    "\n",
    "In der Kunst, Wissenschaft und Technik gibt es sehr viele Systeme, welche durch Fibbonachizahlen beschrieben werden.\n",
    "\n",
    "a) Finden Sie die Größe der Fläche, welche durch Fibbonacci Fliesen gelegt werden kann (analog zu Bild 1), wenn die größte quadratische Fliese die Seitenlänge Fibbonacci Zahl $F_x$ hat. Ermitteln Sie es für den konkreten Fall, dass $F_x$ die größte aller möglichen $F_x$ mit $F_x<10.000$ ist.\n",
    "\n",
    "Darstellung 1: https://en.wikipedia.org/wiki/Fibonacci_number#/media/File:34*21-FibonacciBlocks.png\n",
    "\n",
    "b) Finden Sie auch die Fläche der Fibbonacci Spirale im Allgemeinen und für den Fall von $F_x<10.000$.\n",
    "\n",
    "\n",
    "Darstellung 2: https://en.wikipedia.org/wiki/Fibonacci_number#/media/File:FibonacciSpiral.svg\n",
    "\n",
    "\n",
    "**Vorgehensweise:**\n",
    "* Schreiben Sie ein Programm (evtl. mit der ``while`` loop) welches Ihnen die Fibonacci Folge unter der Zahl 10000 ausgibt. Sie können auch die Sequenz in einer Python ``list`` speichern und später die Zahlen alle gemeinsam ausgeben. \n",
    "* Überprüfen Sie, ob eine der Fibonacci Zahlen eine Quadratzahl ist (also z. B. ``0*0``, ``1*1``, ``2*2``, ``3*3``, ``4*4``) und geben Sie auch diese Zahlen aus. \n",
    "* Nutzen Sie diese Bausteine um Frage a und b zu beantworten.\n",
    "* Recherchieren Sie je ein weiteres Beispiel der Fibbonacci Fliesen/Spiralen in Natur und Infomatik (Mathematik) und stellen Sie es kurz dar.\n",
    "\n",
    "\n",
    "\n",
    "## Aufgabe 1.4 - Primzahlen und Funktionen\n",
    "\n",
    "Modifizieren Sie Ihren CODE aus Aufgabe 1.2. Erstellen Sie eine Funktion, die bei der Eingabe einer Zahl folgendes ausgibt: \n",
    "* ``return`` ``True`` bei Primzahlen\n",
    "* ``return`` ``False``bei keinen Primzahlen"
   ],
   "cell_type": "markdown",
   "metadata": {}
  },
  {
   "source": [
    "# Aufgabe 1.1\n",
    "x = 0\n",
    "while x <= 1000:\n",
    "    x += 1\n",
    "    y = x - 1\n",
    "    Prime = True\n",
    "    while y > 1:\n",
    "        if x%y == 0:\n",
    "            Prime = False\n",
    "        y = y - 1\n",
    "    if Prime:\n",
    "        print(x)      "
   ],
   "cell_type": "code",
   "metadata": {},
   "execution_count": 2,
   "outputs": [
    {
     "output_type": "stream",
     "name": "stdout",
     "text": [
      "1\n2\n3\n5\n7\n11\n13\n17\n19\n23\n29\n31\n37\n41\n43\n47\n53\n59\n61\n67\n71\n73\n79\n83\n89\n97\n101\n103\n107\n109\n113\n127\n131\n137\n139\n149\n151\n157\n163\n167\n173\n179\n181\n191\n193\n197\n199\n211\n223\n227\n229\n233\n239\n241\n251\n257\n263\n269\n271\n277\n281\n283\n293\n307\n311\n313\n317\n331\n337\n347\n349\n353\n359\n367\n373\n379\n383\n389\n397\n401\n409\n419\n421\n431\n433\n439\n443\n449\n457\n461\n463\n467\n479\n487\n491\n499\n503\n509\n521\n523\n541\n547\n557\n563\n569\n571\n577\n587\n593\n599\n601\n607\n613\n617\n619\n631\n641\n643\n647\n653\n659\n661\n673\n677\n683\n691\n701\n709\n719\n727\n733\n739\n743\n751\n757\n761\n769\n773\n787\n797\n809\n811\n821\n823\n827\n829\n839\n853\n857\n859\n863\n877\n881\n883\n887\n907\n911\n919\n929\n937\n941\n947\n953\n967\n971\n977\n983\n991\n997\n"
     ]
    }
   ]
  },
  {
   "cell_type": "code",
   "execution_count": 4,
   "metadata": {},
   "outputs": [
    {
     "output_type": "stream",
     "name": "stdout",
     "text": [
      "1\n2\n3\n5\n7\n11\n13\n17\n19\n23\n29\n31\n37\n41\n43\n47\n53\n59\n61\n67\n71\n73\n79\n83\n89\n97\n101\n103\n107\n109\n113\n127\n131\n137\n139\n149\n151\n157\n163\n167\n173\n179\n181\n191\n193\n197\n199\n211\n223\n227\n229\n233\n239\n241\n251\n257\n263\n269\n271\n277\n281\n283\n293\n307\n311\n313\n317\n331\n337\n347\n349\n353\n359\n367\n373\n379\n383\n389\n397\n401\n409\n419\n421\n431\n433\n439\n443\n449\n457\n461\n463\n467\n479\n487\n491\n499\n503\n509\n521\n523\n541\n547\n557\n563\n569\n571\n577\n587\n593\n599\n601\n607\n613\n617\n619\n631\n641\n643\n647\n653\n659\n661\n673\n677\n683\n691\n701\n709\n719\n727\n733\n739\n743\n751\n757\n761\n769\n773\n787\n797\n809\n811\n821\n823\n827\n829\n839\n853\n857\n859\n863\n877\n881\n883\n887\n907\n911\n919\n929\n937\n941\n947\n953\n967\n971\n977\n983\n991\n997\n"
     ]
    }
   ],
   "source": [
    "# Aufgabe 1.2\n",
    "x = 0\n",
    "while x <= 1000:\n",
    "    x += 1\n",
    "    y = x - 1\n",
    "    Prime = True\n",
    "    while y > 1:\n",
    "        if x%y == 0:\n",
    "            Prime = False\n",
    "            y = 1   # beendet bei finden einer Primzahl die Runde vorläufig\n",
    "        y = y - 1\n",
    "    if Prime:\n",
    "        print(x)"
   ]
  },
  {
   "source": [
    "Primzahlen in der Informatik\n",
    "\n",
    "Bei der Informationssicherheit und insbesondere bei der Verschlüsselung von Nachrichten (siehe Kryptographie) spielen Primzahlen eine wichtige Rolle. Sie werden oft in asymmetrischen Kryptosystemen wie etwa Public-Key-Verschlüsselungsverfahren eingesetzt. Wichtige Beispiele sind der Diffie-Hellman-Schlüsselaustausch, das RSA-Kryptosystem, das unter anderem bei OpenPGP zum Einsatz kommt, das Elgamal-Kryptosystem und das Rabin-Kryptosystem. Dabei werden die Schlüssel aus großen, zufällig erzeugten Primzahlen berechnet, die geheim bleiben müssen.\n",
    "\n",
    "Solche Algorithmen basieren auf Einwegfunktionen, die schnell ausführbar sind, deren Umkehrung aber mit der aktuell bekannten Technologie praktisch unmöglich zu berechnen ist. Neue Informationstechnologien, zum Beispiel Quantencomputer, könnten das aber ändern. Das ungelöste P-NP-Problem steht damit in Zusammenhang."
   ],
   "cell_type": "markdown",
   "metadata": {}
  },
  {
   "source": [
    "Primzahlen in der Natur\n",
    "\n",
    "Manche Tier- und Pflanzenarten (z. B. bestimmte Zikaden oder Fichten) vermehren sich in Zyklen von Primzahlen (etwa alle 11, 13 oder 17 Jahre) besonders stark, um es Fressfeinden zu erschweren, sich auf das massenhafte Auftreten einzustellen."
   ],
   "cell_type": "markdown",
   "metadata": {}
  }
 ],
 "metadata": {
  "kernelspec": {
   "name": "python392jvsc74a57bd0ab6136e25ed48139b9b22565877a28e2a9ea9f3c01d11386ecccf6a8229f2420",
   "display_name": "Python 3.9.2 64-bit"
  },
  "metadata": {
   "interpreter": {
    "hash": "ab6136e25ed48139b9b22565877a28e2a9ea9f3c01d11386ecccf6a8229f2420"
   }
  }
 },
 "nbformat": 4,
 "nbformat_minor": 4
}