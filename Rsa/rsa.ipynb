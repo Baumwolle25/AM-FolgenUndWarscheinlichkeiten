{
 "cells": [
  {
   "cell_type": "code",
   "execution_count": 5,
   "metadata": {
    "collapsed": true
   },
   "outputs": [],
   "source": [
    "from random import randint as cryforhelp\n",
    "\n",
    "def set_of_random_ints(hero):\n",
    "    \"\"\"\n",
    "    finds two different numbers from 0 to hero (inclusive)\n",
    "    return: int1, int2\n",
    "    \"\"\"\n",
    "    a = cryforhelp(0, hero)\n",
    "    b = cryforhelp(0, hero)\n",
    "    if a is b:\n",
    "        a, b = set_of_random_ints(hero)\n",
    "    return a, b\n",
    "\n",
    "def generate_primes(x):\n",
    "    \"\"\"\n",
    "    finds all primes with x digits and selects two at random\n",
    "    return: int, int\n",
    "    \"\"\"\n",
    "    sol = []\n",
    "    for i in range(pow(10,x), pow(10,x+1), 1):\n",
    "        prime = True\n",
    "        for j in range(2, int(i/2), 1):\n",
    "            if i % j == 0:\n",
    "                prime = False\n",
    "                break                       \n",
    "        if prime:\n",
    "            sol.append(i)\n",
    "    a, b = set_of_random_ints(len(sol)-1)\n",
    "    return sol[a], sol [b]\n",
    "\n",
    "def find_that_e(phi_of_N):\n",
    "    \"\"\"\n",
    "    finds an int with 1 < int < phi_of_N and ggT(e,phi_of_N) = 1\n",
    "    return: int\n",
    "    \"\"\"\n",
    "    return 7\n",
    "\n",
    "def gim_e_the_D(e, phi_of_N):\n",
    "    \"\"\"\n",
    "    inverse zu e, erweiterter euklidischer algorithmus\n",
    "    finds an int with e * int kongruent 1 % phi_of_N\n",
    "    löse: e * x - y * phi_of_N = 1 und return x\n",
    "    return: int\n",
    "    \"\"\"\n",
    "    return 3\n",
    "\n",
    "def rsa_keys():\n",
    "    \"\"\"\n",
    "    return: Dict {q, p, N, phi_of_N, e}\n",
    "    \"\"\"\n",
    "    q, p = generate_primes(10)\n",
    "    N = q * p\n",
    "    phi_of_N = (q-1) * (p-1)\n",
    "    e = find_that_e(phi_of_N)\n",
    "    d = gim_e_the_D(e, phi_of_N)\n",
    "    return {\"q\": q, \"p\": p, \"N\": N, \"phi_of_N\": phi_of_N, \"e\": e, \"d\": d}"
   ]
  },
  {
   "source": [
    "G = (T^e)%N <br>\n",
    "T = (G^d)%N"
   ],
   "cell_type": "markdown",
   "metadata": {}
  }
 ],
 "metadata": {
  "kernelspec": {
   "name": "python392jvsc74a57bd086b7ff3cad48129fe2c74e38aa4d069dda00f9162f383ad625bb2610c7022dc5",
   "display_name": "Python 3.9.2 64-bit ('maths')"
  },
  "language_info": {
   "codemirror_mode": {
    "name": "ipython",
    "version": 3
   },
   "file_extension": ".py",
   "mimetype": "text/x-python",
   "name": "python",
   "nbconvert_exporter": "python",
   "pygments_lexer": "ipython3",
   "version": "3.9.2-final"
  }
 },
 "nbformat": 4,
 "nbformat_minor": 2
}